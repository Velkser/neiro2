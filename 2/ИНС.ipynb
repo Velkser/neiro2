{
  "cells": [
    {
      "cell_type": "markdown",
      "metadata": {
        "id": "y1FWR90xxpSl"
      },
      "source": [
        "# Первая нейронная сеть на Keras\n",
        "\n",
        "<img src='https://media.giphy.com/media/7HAm2aWDviqeQ/giphy.gif'>"
      ]
    },
    {
      "cell_type": "markdown",
      "metadata": {
        "id": "lsgGTfpbH4-M"
      },
      "source": [
        "Сегодня обсудим:\n",
        "1. Как создать нейронную сеть в Keras\n",
        "2. Как обучить нейронную сеть в Keras\n",
        "\n",
        "\n",
        "И сегодня обучим три нейронные сети для решения задач:\n",
        "1. Нейрон для умножения\n",
        "2. Нейросеть для сложения\n",
        "3. Нейросеть для классификации изображений"
      ]
    },
    {
      "cell_type": "markdown",
      "metadata": {
        "id": "J2IRbGvlGxbK"
      },
      "source": [
        "Давайте создадим нейронную сеть, состоящую из одного нейрона.\n",
        "\n",
        "\n",
        "<img src='https://drive.google.com/uc?id=1Qx71h2FmXS6uKHmhcIKtp49G5nqMncWK'>"
      ]
    },
    {
      "cell_type": "markdown",
      "metadata": {
        "id": "ZctkOCawG3hi"
      },
      "source": [
        "- `Sequential` - это класс последовательности слоев в нейронной сети, у нас пока будет только один слой, но сюда можно добавлять сколь угодно слоев и это будет сеть, состоящая из последовательности слоев.\n",
        "- `Dense` - это класс полносвязного/линейного слоя, все нейроны связаны друг с другом.\n",
        "- `units=1` - это количество нейронов в слое. У нас 1 нейрон.\n",
        "- `input_shape=(1,)` - это входная размерность объекта. У нас только 1 вход.\n",
        "- `activation='relu'` - это функция активации, которая добавляет в слой нелинейности, именно из-за неё мы можем получать более сложные результаты работы сети."
      ]
    },
    {
      "cell_type": "code",
      "execution_count": 1,
      "metadata": {},
      "outputs": [],
      "source": [
        "from keras.layers import Dense\n",
        "from keras.models import Sequential"
      ]
    },
    {
      "cell_type": "code",
      "execution_count": 2,
      "metadata": {
        "colab": {
          "base_uri": "https://localhost:8080/"
        },
        "id": "fg5zrnfNG1QN",
        "outputId": "acc7ee3e-e6b3-4648-b439-40e8e78bed52"
      },
      "outputs": [
        {
          "name": "stdout",
          "output_type": "stream",
          "text": [
            "Model: \"sequential\"\n",
            "_________________________________________________________________\n",
            " Layer (type)                Output Shape              Param #   \n",
            "=================================================================\n",
            " dense (Dense)               (None, 1)                 2         \n",
            "                                                                 \n",
            "=================================================================\n",
            "Total params: 2\n",
            "Trainable params: 2\n",
            "Non-trainable params: 0\n",
            "_________________________________________________________________\n"
          ]
        }
      ],
      "source": [
        "\n",
        "model = Sequential([\n",
        "    Dense(1, input_shape=(1,), activation='relu')\n",
        "])\n",
        "\n",
        "model.summary()"
      ]
    },
    {
      "cell_type": "code",
      "execution_count": 6,
      "metadata": {
        "colab": {
          "base_uri": "https://localhost:8080/"
        },
        "id": "SEDpFNBmHvcd",
        "outputId": "af5ab069-42e3-41c3-b92d-d62dd6a44caf"
      },
      "outputs": [
        {
          "data": {
            "text/plain": [
              "[array([[-1.3420823]], dtype=float32), array([0.], dtype=float32)]"
            ]
          },
          "execution_count": 6,
          "metadata": {},
          "output_type": "execute_result"
        }
      ],
      "source": [
        "model.get_weights()"
      ]
    },
    {
      "cell_type": "markdown",
      "metadata": {
        "id": "zEKtGvqcGcNn"
      },
      "source": [
        "Инициализация весов всегда разная, если её не зафиксировать:\n",
        "\n",
        "\n",
        "\n",
        "```\n",
        "# for reproducible weights initialization\n",
        "import tensorflow as tf\n",
        "tf.random.set_seed(1)\n",
        "```\n",
        "\n"
      ]
    },
    {
      "cell_type": "code",
      "execution_count": 17,
      "metadata": {
        "colab": {
          "base_uri": "https://localhost:8080/"
        },
        "id": "2AuwJQvyHzEc",
        "outputId": "5fd9fdac-ee6d-4670-cd8f-058a8643817b"
      },
      "outputs": [
        {
          "data": {
            "text/plain": [
              "[array([[0.16976249]], dtype=float32), array([0.], dtype=float32)]"
            ]
          },
          "execution_count": 17,
          "metadata": {},
          "output_type": "execute_result"
        }
      ],
      "source": [
        "import tensorflow as tf\n",
        "tf.random.set_seed(1)\n",
        "\n",
        "model = Sequential([\n",
        "    Dense(1, input_shape=(1,), activation='relu')\n",
        "])\n",
        "\n",
        "model.get_weights()"
      ]
    },
    {
      "cell_type": "markdown",
      "metadata": {
        "id": "mfZ3eFidSbo2"
      },
      "source": [
        "## Нейрон для умножения на 3"
      ]
    },
    {
      "cell_type": "markdown",
      "metadata": {
        "id": "d9UDd0y8TbJV"
      },
      "source": [
        "Создадим обучающие данные"
      ]
    },
    {
      "cell_type": "code",
      "execution_count": 3,
      "metadata": {
        "id": "aMwK0J81-AJ9"
      },
      "outputs": [
        {
          "data": {
            "text/plain": [
              "array([[ 1],\n",
              "       [ 3],\n",
              "       [ 2],\n",
              "       [10],\n",
              "       [ 4],\n",
              "       [ 7],\n",
              "       [ 8],\n",
              "       [-3],\n",
              "       [-5]])"
            ]
          },
          "execution_count": 3,
          "metadata": {},
          "output_type": "execute_result"
        }
      ],
      "source": [
        "import numpy as np\n",
        "\n",
        "# X = np.array([[1],\n",
        "#               [3],\n",
        "#               [2],\n",
        "#               [10],\n",
        "#               [4],\n",
        "#               [7],\n",
        "#               [8],\n",
        "#               [-3],\n",
        "#               [-5]])\n",
        "X = np.array([[1, 3, 2, 10, 4, 7, 8, -3,-5]]).T\n",
        "\n",
        "y = np.array([[3, 9, 6, 30, 12, 21, 24, -9, -15]]).T\n",
        "\n",
        "X"
      ]
    },
    {
      "cell_type": "markdown",
      "metadata": {
        "id": "St5r8CNRWLfZ"
      },
      "source": [
        "Для того, что обучить нейронную сеть для любой задачи нужно ответить на три вопроса:\n",
        "1. Какая архитектура сети?\n",
        "2. Что оптимизируем?\n",
        "3. Как обучаем?"
      ]
    },
    {
      "cell_type": "markdown",
      "metadata": {
        "id": "0Pq6_oM6WhM5"
      },
      "source": [
        "### Какая архитектура сети"
      ]
    },
    {
      "cell_type": "markdown",
      "metadata": {
        "id": "zPr5AmvYTexL"
      },
      "source": [
        "Создадим сеть, она очень простая, состоит из одного слоя и одного нейрона.\n",
        "\n",
        "<img src='https://drive.google.com/uc?id=1Qx71h2FmXS6uKHmhcIKtp49G5nqMncWK'>"
      ]
    },
    {
      "cell_type": "code",
      "execution_count": 11,
      "metadata": {
        "colab": {
          "base_uri": "https://localhost:8080/"
        },
        "id": "c6UWgSx29ohw",
        "outputId": "6b90bdf0-ef12-4a92-c0c8-80545dabb525"
      },
      "outputs": [
        {
          "name": "stdout",
          "output_type": "stream",
          "text": [
            "Model: \"sequential_1\"\n",
            "_________________________________________________________________\n",
            " Layer (type)                Output Shape              Param #   \n",
            "=================================================================\n",
            " dense_1 (Dense)             (None, 1)                 2         \n",
            "                                                                 \n",
            "=================================================================\n",
            "Total params: 2\n",
            "Trainable params: 2\n",
            "Non-trainable params: 0\n",
            "_________________________________________________________________\n"
          ]
        }
      ],
      "source": [
        "from keras.layers import Dense\n",
        "from keras.models import Sequential\n",
        "\n",
        "model = Sequential([\n",
        "    Dense(1, input_shape=(1,), activation='linear')\n",
        "])\n",
        "\n",
        "model.summary()"
      ]
    },
    {
      "cell_type": "markdown",
      "metadata": {
        "id": "3CmqQUDHUZHX"
      },
      "source": [
        "Весов у нас выходит две штуки, это вышло из-за того, что для каждого нейрона в линейном слое есть отклонение (bias). На самом деле один нейрон в линейном слое - это линейная регрессия, поэтому если хотите чуть лучше понимать устройство одного нейрона советую посмотреть это [видео](https://youtu.be/KJA9A1q9l7E).\n",
        "\n",
        "<img src='https://drive.google.com/uc?id=1woqEhElyJSslX_3-4HYdziFLOoi2u2s1'>"
      ]
    },
    {
      "cell_type": "code",
      "execution_count": 12,
      "metadata": {
        "colab": {
          "base_uri": "https://localhost:8080/"
        },
        "id": "-PuvdE1UBybd",
        "outputId": "c3854f39-352e-4e1f-9769-75bc1bac7bac"
      },
      "outputs": [
        {
          "data": {
            "text/plain": [
              "(array([[-0.52616334]], dtype=float32), array([0.], dtype=float32))"
            ]
          },
          "execution_count": 12,
          "metadata": {},
          "output_type": "execute_result"
        }
      ],
      "source": [
        "w1, w0 = model.get_weights()\n",
        "w1, w0"
      ]
    },
    {
      "cell_type": "code",
      "execution_count": 13,
      "metadata": {},
      "outputs": [
        {
          "data": {
            "text/plain": [
              "array([[ 1],\n",
              "       [ 3],\n",
              "       [ 2],\n",
              "       [10],\n",
              "       [ 4],\n",
              "       [ 7],\n",
              "       [ 8],\n",
              "       [-3],\n",
              "       [-5]])"
            ]
          },
          "execution_count": 13,
          "metadata": {},
          "output_type": "execute_result"
        }
      ],
      "source": [
        "X"
      ]
    },
    {
      "cell_type": "markdown",
      "metadata": {
        "id": "dggCf3ulVz6Q"
      },
      "source": [
        "Теперь сделаем предсказание этой моделью на одном объекте."
      ]
    },
    {
      "cell_type": "code",
      "execution_count": 14,
      "metadata": {
        "colab": {
          "base_uri": "https://localhost:8080/"
        },
        "id": "jPPywzv7Efft",
        "outputId": "f510b1f9-63fe-4c20-fac4-1bff779d364d"
      },
      "outputs": [
        {
          "data": {
            "text/plain": [
              "array([[1]])"
            ]
          },
          "execution_count": 14,
          "metadata": {},
          "output_type": "execute_result"
        }
      ],
      "source": [
        "X[:1]"
      ]
    },
    {
      "cell_type": "markdown",
      "metadata": {
        "id": "kuozFM1FV4p4"
      },
      "source": [
        "Предсказание получается очень далекими от истины, потому что сеть еще не знает, для чего её создали."
      ]
    },
    {
      "cell_type": "code",
      "execution_count": 15,
      "metadata": {
        "colab": {
          "base_uri": "https://localhost:8080/"
        },
        "id": "t3LOGp6aB7re",
        "outputId": "cb0a6d70-88f2-49b8-a704-df108da8c9e5"
      },
      "outputs": [
        {
          "name": "stdout",
          "output_type": "stream",
          "text": [
            "1/1 [==============================] - 0s 54ms/step\n"
          ]
        },
        {
          "data": {
            "text/plain": [
              "array([[-0.52616334]], dtype=float32)"
            ]
          },
          "execution_count": 15,
          "metadata": {},
          "output_type": "execute_result"
        }
      ],
      "source": [
        "model.predict(X[:1])"
      ]
    },
    {
      "cell_type": "code",
      "execution_count": 16,
      "metadata": {
        "colab": {
          "base_uri": "https://localhost:8080/"
        },
        "id": "bGLbADogCGHa",
        "outputId": "54e87615-655c-4485-ef33-27b393099660"
      },
      "outputs": [
        {
          "data": {
            "text/plain": [
              "array([[-0.52616334]])"
            ]
          },
          "execution_count": 16,
          "metadata": {},
          "output_type": "execute_result"
        }
      ],
      "source": [
        "w1 * X[:1] + w0"
      ]
    },
    {
      "cell_type": "code",
      "execution_count": 17,
      "metadata": {
        "colab": {
          "base_uri": "https://localhost:8080/"
        },
        "id": "m5czkuSECNEi",
        "outputId": "7233101c-3bea-4af3-87e6-2149ecdf623d"
      },
      "outputs": [
        {
          "data": {
            "text/plain": [
              "array([[-0.52616334]])"
            ]
          },
          "execution_count": 17,
          "metadata": {},
          "output_type": "execute_result"
        }
      ],
      "source": [
        "from keras.activations import linear\n",
        "linear(w1 * X[:1] + w0)"
      ]
    },
    {
      "cell_type": "markdown",
      "metadata": {
        "id": "JbFIQGjDWGbM"
      },
      "source": [
        "### Что оптимизируем\n",
        "\n",
        "У нас задача регрессии, поэтому будем брать функцию потерь для этой задачи, к примеру MSE.\n",
        "\n",
        "Вдобавок можно взять еще и метрику, которую будем считать и понимать, обучается ли сеть.\n",
        "\n",
        "Если хочется повспомнинать метрики для задачи регрессии, то посмотрите это [видео](https://youtu.be/vh2smjQyhp8).\n",
        "\n",
        "<img src='https://drive.google.com/uc?id=1T2Q_-kpdKeuE7T6mdypH9lZhNvs6Wrmn'>"
      ]
    },
    {
      "cell_type": "markdown",
      "metadata": {
        "id": "3M3OUOvZXMXV"
      },
      "source": [
        "### Как оптимизируем\n",
        "\n",
        "Про этот вопрос будем более подробно говорить в следующих занятиях, но пока условимся, что оптимизатор помогает ошибке быстрее уменьшаться, а значит помогает сеть быстрее обучаться.\n",
        "\n",
        "Есть несколько видов оптимизаторов, тот же градиентный спуск - это один из методов оптимизации для нейронной сети."
      ]
    },
    {
      "cell_type": "code",
      "execution_count": 18,
      "metadata": {
        "id": "L_ywc5J7-0r3"
      },
      "outputs": [],
      "source": [
        "model.compile(optimizer='sgd', loss='mse', metrics='mae')"
      ]
    },
    {
      "cell_type": "code",
      "execution_count": 19,
      "metadata": {
        "colab": {
          "base_uri": "https://localhost:8080/"
        },
        "id": "x6yykPl4-2MQ",
        "outputId": "ed0440e6-b8c8-4f93-dfce-5018744e050d"
      },
      "outputs": [
        {
          "name": "stdout",
          "output_type": "stream",
          "text": [
            "Epoch 1/100\n"
          ]
        },
        {
          "name": "stdout",
          "output_type": "stream",
          "text": [
            "1/1 [==============================] - 0s 403ms/step - loss: 382.6856 - mae: 16.8472\n",
            "Epoch 2/100\n",
            "1/1 [==============================] - 0s 4ms/step - loss: 54.8839 - mae: 6.3593\n",
            "Epoch 3/100\n",
            "1/1 [==============================] - 0s 3ms/step - loss: 7.9303 - mae: 2.3903\n",
            "Epoch 4/100\n",
            "1/1 [==============================] - 0s 4ms/step - loss: 1.2031 - mae: 0.9089\n",
            "Epoch 5/100\n",
            "1/1 [==============================] - 0s 5ms/step - loss: 0.2377 - mae: 0.3956\n",
            "Epoch 6/100\n",
            "1/1 [==============================] - 0s 5ms/step - loss: 0.0976 - mae: 0.2593\n",
            "Epoch 7/100\n",
            "1/1 [==============================] - 0s 5ms/step - loss: 0.0758 - mae: 0.2194\n",
            "Epoch 8/100\n",
            "1/1 [==============================] - 0s 5ms/step - loss: 0.0709 - mae: 0.2176\n",
            "Epoch 9/100\n",
            "1/1 [==============================] - 0s 5ms/step - loss: 0.0685 - mae: 0.2166\n",
            "Epoch 10/100\n",
            "1/1 [==============================] - 0s 4ms/step - loss: 0.0666 - mae: 0.2143\n",
            "Epoch 11/100\n",
            "1/1 [==============================] - 0s 6ms/step - loss: 0.0647 - mae: 0.2116\n",
            "Epoch 12/100\n",
            "1/1 [==============================] - 0s 6ms/step - loss: 0.0629 - mae: 0.2087\n",
            "Epoch 13/100\n",
            "1/1 [==============================] - 0s 4ms/step - loss: 0.0612 - mae: 0.2059\n",
            "Epoch 14/100\n",
            "1/1 [==============================] - 0s 3ms/step - loss: 0.0595 - mae: 0.2031\n",
            "Epoch 15/100\n",
            "1/1 [==============================] - 0s 4ms/step - loss: 0.0578 - mae: 0.2003\n",
            "Epoch 16/100\n",
            "1/1 [==============================] - 0s 4ms/step - loss: 0.0562 - mae: 0.1975\n",
            "Epoch 17/100\n",
            "1/1 [==============================] - 0s 7ms/step - loss: 0.0546 - mae: 0.1947\n",
            "Epoch 18/100\n",
            "1/1 [==============================] - 0s 4ms/step - loss: 0.0531 - mae: 0.1920\n",
            "Epoch 19/100\n",
            "1/1 [==============================] - 0s 3ms/step - loss: 0.0516 - mae: 0.1893\n",
            "Epoch 20/100\n",
            "1/1 [==============================] - 0s 4ms/step - loss: 0.0502 - mae: 0.1866\n",
            "Epoch 21/100\n",
            "1/1 [==============================] - 0s 4ms/step - loss: 0.0488 - mae: 0.1840\n",
            "Epoch 22/100\n",
            "1/1 [==============================] - 0s 6ms/step - loss: 0.0474 - mae: 0.1814\n",
            "Epoch 23/100\n",
            "1/1 [==============================] - 0s 4ms/step - loss: 0.0461 - mae: 0.1789\n",
            "Epoch 24/100\n",
            "1/1 [==============================] - 0s 5ms/step - loss: 0.0448 - mae: 0.1764\n",
            "Epoch 25/100\n",
            "1/1 [==============================] - 0s 4ms/step - loss: 0.0436 - mae: 0.1739\n",
            "Epoch 26/100\n",
            "1/1 [==============================] - 0s 4ms/step - loss: 0.0424 - mae: 0.1715\n",
            "Epoch 27/100\n",
            "1/1 [==============================] - 0s 7ms/step - loss: 0.0412 - mae: 0.1691\n",
            "Epoch 28/100\n",
            "1/1 [==============================] - 0s 38ms/step - loss: 0.0401 - mae: 0.1667\n",
            "Epoch 29/100\n",
            "1/1 [==============================] - 0s 6ms/step - loss: 0.0389 - mae: 0.1644\n",
            "Epoch 30/100\n",
            "1/1 [==============================] - 0s 5ms/step - loss: 0.0379 - mae: 0.1621\n",
            "Epoch 31/100\n",
            "1/1 [==============================] - 0s 5ms/step - loss: 0.0368 - mae: 0.1598\n",
            "Epoch 32/100\n",
            "1/1 [==============================] - 0s 6ms/step - loss: 0.0358 - mae: 0.1576\n",
            "Epoch 33/100\n",
            "1/1 [==============================] - 0s 5ms/step - loss: 0.0348 - mae: 0.1553\n",
            "Epoch 34/100\n",
            "1/1 [==============================] - 0s 4ms/step - loss: 0.0338 - mae: 0.1532\n",
            "Epoch 35/100\n",
            "1/1 [==============================] - 0s 3ms/step - loss: 0.0329 - mae: 0.1510\n",
            "Epoch 36/100\n",
            "1/1 [==============================] - 0s 6ms/step - loss: 0.0320 - mae: 0.1489\n",
            "Epoch 37/100\n",
            "1/1 [==============================] - 0s 4ms/step - loss: 0.0311 - mae: 0.1468\n",
            "Epoch 38/100\n",
            "1/1 [==============================] - 0s 3ms/step - loss: 0.0302 - mae: 0.1448\n",
            "Epoch 39/100\n",
            "1/1 [==============================] - 0s 5ms/step - loss: 0.0294 - mae: 0.1427\n",
            "Epoch 40/100\n",
            "1/1 [==============================] - 0s 4ms/step - loss: 0.0285 - mae: 0.1407\n",
            "Epoch 41/100\n",
            "1/1 [==============================] - 0s 5ms/step - loss: 0.0278 - mae: 0.1388\n",
            "Epoch 42/100\n",
            "1/1 [==============================] - 0s 5ms/step - loss: 0.0270 - mae: 0.1368\n",
            "Epoch 43/100\n",
            "1/1 [==============================] - 0s 3ms/step - loss: 0.0262 - mae: 0.1349\n",
            "Epoch 44/100\n",
            "1/1 [==============================] - 0s 4ms/step - loss: 0.0255 - mae: 0.1330\n",
            "Epoch 45/100\n",
            "1/1 [==============================] - 0s 4ms/step - loss: 0.0248 - mae: 0.1311\n",
            "Epoch 46/100\n",
            "1/1 [==============================] - 0s 5ms/step - loss: 0.0241 - mae: 0.1293\n",
            "Epoch 47/100\n",
            "1/1 [==============================] - 0s 5ms/step - loss: 0.0234 - mae: 0.1275\n",
            "Epoch 48/100\n",
            "1/1 [==============================] - 0s 4ms/step - loss: 0.0228 - mae: 0.1257\n",
            "Epoch 49/100\n",
            "1/1 [==============================] - 0s 4ms/step - loss: 0.0221 - mae: 0.1239\n",
            "Epoch 50/100\n",
            "1/1 [==============================] - 0s 5ms/step - loss: 0.0215 - mae: 0.1222\n",
            "Epoch 51/100\n",
            "1/1 [==============================] - 0s 4ms/step - loss: 0.0209 - mae: 0.1205\n",
            "Epoch 52/100\n",
            "1/1 [==============================] - 0s 6ms/step - loss: 0.0203 - mae: 0.1188\n",
            "Epoch 53/100\n",
            "1/1 [==============================] - 0s 4ms/step - loss: 0.0198 - mae: 0.1171\n",
            "Epoch 54/100\n",
            "1/1 [==============================] - 0s 4ms/step - loss: 0.0192 - mae: 0.1155\n",
            "Epoch 55/100\n",
            "1/1 [==============================] - 0s 5ms/step - loss: 0.0187 - mae: 0.1139\n",
            "Epoch 56/100\n",
            "1/1 [==============================] - 0s 4ms/step - loss: 0.0182 - mae: 0.1123\n",
            "Epoch 57/100\n",
            "1/1 [==============================] - 0s 4ms/step - loss: 0.0177 - mae: 0.1107\n",
            "Epoch 58/100\n",
            "1/1 [==============================] - 0s 6ms/step - loss: 0.0172 - mae: 0.1092\n",
            "Epoch 59/100\n",
            "1/1 [==============================] - 0s 3ms/step - loss: 0.0167 - mae: 0.1076\n",
            "Epoch 60/100\n",
            "1/1 [==============================] - 0s 4ms/step - loss: 0.0162 - mae: 0.1061\n",
            "Epoch 61/100\n",
            "1/1 [==============================] - 0s 4ms/step - loss: 0.0158 - mae: 0.1046\n",
            "Epoch 62/100\n",
            "1/1 [==============================] - 0s 4ms/step - loss: 0.0153 - mae: 0.1032\n",
            "Epoch 63/100\n",
            "1/1 [==============================] - 0s 6ms/step - loss: 0.0149 - mae: 0.1017\n",
            "Epoch 64/100\n",
            "1/1 [==============================] - 0s 5ms/step - loss: 0.0145 - mae: 0.1003\n",
            "Epoch 65/100\n",
            "1/1 [==============================] - 0s 4ms/step - loss: 0.0141 - mae: 0.0989\n",
            "Epoch 66/100\n",
            "1/1 [==============================] - 0s 4ms/step - loss: 0.0137 - mae: 0.0975\n",
            "Epoch 67/100\n",
            "1/1 [==============================] - 0s 3ms/step - loss: 0.0133 - mae: 0.0961\n",
            "Epoch 68/100\n",
            "1/1 [==============================] - 0s 6ms/step - loss: 0.0129 - mae: 0.0948\n",
            "Epoch 69/100\n",
            "1/1 [==============================] - 0s 5ms/step - loss: 0.0126 - mae: 0.0935\n",
            "Epoch 70/100\n",
            "1/1 [==============================] - 0s 3ms/step - loss: 0.0122 - mae: 0.0922\n",
            "Epoch 71/100\n",
            "1/1 [==============================] - 0s 4ms/step - loss: 0.0119 - mae: 0.0909\n",
            "Epoch 72/100\n",
            "1/1 [==============================] - 0s 5ms/step - loss: 0.0116 - mae: 0.0896\n",
            "Epoch 73/100\n",
            "1/1 [==============================] - 0s 6ms/step - loss: 0.0112 - mae: 0.0883\n",
            "Epoch 74/100\n",
            "1/1 [==============================] - 0s 5ms/step - loss: 0.0109 - mae: 0.0871\n",
            "Epoch 75/100\n",
            "1/1 [==============================] - 0s 3ms/step - loss: 0.0106 - mae: 0.0859\n",
            "Epoch 76/100\n",
            "1/1 [==============================] - 0s 6ms/step - loss: 0.0103 - mae: 0.0847\n",
            "Epoch 77/100\n",
            "1/1 [==============================] - 0s 3ms/step - loss: 0.0100 - mae: 0.0835\n",
            "Epoch 78/100\n",
            "1/1 [==============================] - 0s 6ms/step - loss: 0.0098 - mae: 0.0823\n",
            "Epoch 79/100\n",
            "1/1 [==============================] - 0s 5ms/step - loss: 0.0095 - mae: 0.0812\n",
            "Epoch 80/100\n",
            "1/1 [==============================] - 0s 5ms/step - loss: 0.0092 - mae: 0.0800\n",
            "Epoch 81/100\n",
            "1/1 [==============================] - 0s 5ms/step - loss: 0.0090 - mae: 0.0789\n",
            "Epoch 82/100\n",
            "1/1 [==============================] - 0s 3ms/step - loss: 0.0087 - mae: 0.0778\n",
            "Epoch 83/100\n",
            "1/1 [==============================] - 0s 7ms/step - loss: 0.0085 - mae: 0.0767\n",
            "Epoch 84/100\n",
            "1/1 [==============================] - 0s 4ms/step - loss: 0.0082 - mae: 0.0756\n",
            "Epoch 85/100\n",
            "1/1 [==============================] - 0s 4ms/step - loss: 0.0080 - mae: 0.0746\n",
            "Epoch 86/100\n",
            "1/1 [==============================] - 0s 5ms/step - loss: 0.0078 - mae: 0.0735\n",
            "Epoch 87/100\n",
            "1/1 [==============================] - 0s 5ms/step - loss: 0.0076 - mae: 0.0725\n",
            "Epoch 88/100\n",
            "1/1 [==============================] - 0s 8ms/step - loss: 0.0074 - mae: 0.0715\n",
            "Epoch 89/100\n",
            "1/1 [==============================] - 0s 4ms/step - loss: 0.0072 - mae: 0.0705\n",
            "Epoch 90/100\n",
            "1/1 [==============================] - 0s 4ms/step - loss: 0.0070 - mae: 0.0695\n",
            "Epoch 91/100\n",
            "1/1 [==============================] - 0s 4ms/step - loss: 0.0068 - mae: 0.0685\n",
            "Epoch 92/100\n",
            "1/1 [==============================] - 0s 4ms/step - loss: 0.0066 - mae: 0.0676\n",
            "Epoch 93/100\n",
            "1/1 [==============================] - 0s 7ms/step - loss: 0.0064 - mae: 0.0666\n",
            "Epoch 94/100\n",
            "1/1 [==============================] - 0s 4ms/step - loss: 0.0062 - mae: 0.0657\n",
            "Epoch 95/100\n",
            "1/1 [==============================] - 0s 4ms/step - loss: 0.0060 - mae: 0.0648\n",
            "Epoch 96/100\n",
            "1/1 [==============================] - 0s 5ms/step - loss: 0.0059 - mae: 0.0638\n",
            "Epoch 97/100\n",
            "1/1 [==============================] - 0s 4ms/step - loss: 0.0057 - mae: 0.0630\n",
            "Epoch 98/100\n",
            "1/1 [==============================] - 0s 5ms/step - loss: 0.0056 - mae: 0.0621\n",
            "Epoch 99/100\n",
            "1/1 [==============================] - 0s 3ms/step - loss: 0.0054 - mae: 0.0612\n",
            "Epoch 100/100\n",
            "1/1 [==============================] - 0s 5ms/step - loss: 0.0052 - mae: 0.0603\n",
            "CPU times: total: 1.22 s\n",
            "Wall time: 1.16 s\n"
          ]
        },
        {
          "data": {
            "text/plain": [
              "<keras.callbacks.History at 0x2848b8b6c50>"
            ]
          },
          "execution_count": 19,
          "metadata": {},
          "output_type": "execute_result"
        }
      ],
      "source": [
        "\n",
        "%%time\n",
        "model.fit(X, y, epochs=100)"
      ]
    },
    {
      "cell_type": "markdown",
      "metadata": {
        "id": "gbROlNn-YJOz"
      },
      "source": [
        "Сеть обучается, ошибка падает, метрика становится лучше, всё замечательно.\n",
        "\n",
        "Теперь проверим, а как модель работает на новых данных."
      ]
    },
    {
      "cell_type": "code",
      "execution_count": 20,
      "metadata": {
        "colab": {
          "base_uri": "https://localhost:8080/"
        },
        "id": "6hW87IUF_I-e",
        "outputId": "79fa5ff3-2dea-4a8c-83c7-8edc1d8bd6e0"
      },
      "outputs": [
        {
          "name": "stdout",
          "output_type": "stream",
          "text": [
            "Проверка на новых данных: 7 -2\n",
            "Предсказание нейронной сети: \n",
            "1/1 [==============================] - 0s 39ms/step\n",
            "[[21.025623 ]\n",
            " [-5.8981643]]\n"
          ]
        }
      ],
      "source": [
        "user_inp1, user_inp2 = 7, -2\n",
        "print(f\"Проверка на новых данных: {user_inp1} {user_inp2}\")\n",
        "print(\"Предсказание нейронной сети: \")\n",
        "print(model.predict(np.array([[user_inp1], [user_inp2]])))"
      ]
    },
    {
      "cell_type": "markdown",
      "metadata": {
        "id": "wQqMjMcEYPcE"
      },
      "source": [
        "Предсказания очень похожи на истину."
      ]
    },
    {
      "cell_type": "markdown",
      "metadata": {
        "id": "3jBXtePgYXpT"
      },
      "source": [
        "Еще можем посмотреть, как поменялись наши веса после обучения."
      ]
    },
    {
      "cell_type": "code",
      "execution_count": 19,
      "metadata": {
        "colab": {
          "base_uri": "https://localhost:8080/"
        },
        "id": "_-n4M6tdE57C",
        "outputId": "1786a5db-acad-4c1a-d422-a7a706e7c603"
      },
      "outputs": [
        {
          "name": "stdout",
          "output_type": "stream",
          "text": [
            "w1 before [[1.3357917]] w1 after [[2.9960034]]\n",
            "w0 before [0.] w0 after [0.04006907]\n"
          ]
        }
      ],
      "source": [
        "nw1, nw0 = model.get_weights()\n",
        "print('w1 before', w1, 'w1 after', nw1)\n",
        "print('w0 before', w0, 'w0 after', nw0)"
      ]
    },
    {
      "cell_type": "markdown",
      "metadata": {
        "id": "1s7-Pw6eYcOi"
      },
      "source": [
        "И проверимся на всех обучающих данных."
      ]
    },
    {
      "cell_type": "code",
      "execution_count": 20,
      "metadata": {
        "colab": {
          "base_uri": "https://localhost:8080/",
          "height": 269
        },
        "id": "-t3MsXSIF6T1",
        "outputId": "17327e03-8fea-4eeb-ed6f-a9b8221ab5ef"
      },
      "outputs": [
        {
          "name": "stdout",
          "output_type": "stream",
          "text": [
            "1/1 [==============================] - 0s 24ms/step\n"
          ]
        },
        {
          "data": {
            "text/html": [
              "<div>\n",
              "<style scoped>\n",
              "    .dataframe tbody tr th:only-of-type {\n",
              "        vertical-align: middle;\n",
              "    }\n",
              "\n",
              "    .dataframe tbody tr th {\n",
              "        vertical-align: top;\n",
              "    }\n",
              "\n",
              "    .dataframe thead th {\n",
              "        text-align: right;\n",
              "    }\n",
              "</style>\n",
              "<table border=\"1\" class=\"dataframe\">\n",
              "  <thead>\n",
              "    <tr style=\"text-align: right;\">\n",
              "      <th></th>\n",
              "      <th>true</th>\n",
              "      <th>pred</th>\n",
              "    </tr>\n",
              "  </thead>\n",
              "  <tbody>\n",
              "    <tr>\n",
              "      <th>0</th>\n",
              "      <td>3</td>\n",
              "      <td>3.036072</td>\n",
              "    </tr>\n",
              "    <tr>\n",
              "      <th>1</th>\n",
              "      <td>9</td>\n",
              "      <td>9.028079</td>\n",
              "    </tr>\n",
              "    <tr>\n",
              "      <th>2</th>\n",
              "      <td>6</td>\n",
              "      <td>6.032076</td>\n",
              "    </tr>\n",
              "    <tr>\n",
              "      <th>3</th>\n",
              "      <td>30</td>\n",
              "      <td>30.000103</td>\n",
              "    </tr>\n",
              "    <tr>\n",
              "      <th>4</th>\n",
              "      <td>12</td>\n",
              "      <td>12.024082</td>\n",
              "    </tr>\n",
              "    <tr>\n",
              "      <th>5</th>\n",
              "      <td>21</td>\n",
              "      <td>21.012093</td>\n",
              "    </tr>\n",
              "    <tr>\n",
              "      <th>6</th>\n",
              "      <td>24</td>\n",
              "      <td>24.008097</td>\n",
              "    </tr>\n",
              "    <tr>\n",
              "      <th>7</th>\n",
              "      <td>-9</td>\n",
              "      <td>-8.947942</td>\n",
              "    </tr>\n",
              "    <tr>\n",
              "      <th>8</th>\n",
              "      <td>-15</td>\n",
              "      <td>-14.939948</td>\n",
              "    </tr>\n",
              "  </tbody>\n",
              "</table>\n",
              "</div>"
            ],
            "text/plain": [
              "   true       pred\n",
              "0     3   3.036072\n",
              "1     9   9.028079\n",
              "2     6   6.032076\n",
              "3    30  30.000103\n",
              "4    12  12.024082\n",
              "5    21  21.012093\n",
              "6    24  24.008097\n",
              "7    -9  -8.947942\n",
              "8   -15 -14.939948"
            ]
          },
          "execution_count": 20,
          "metadata": {},
          "output_type": "execute_result"
        }
      ],
      "source": [
        "import pandas as pd\n",
        "\n",
        "pd.DataFrame({\n",
        "   'true': np.squeeze(y),\n",
        "   'pred': np.squeeze(model.predict(X))\n",
        "})"
      ]
    },
    {
      "cell_type": "markdown",
      "metadata": {
        "id": "560b4MkNbqhg"
      },
      "source": [
        "## Сеть для сложения чисел"
      ]
    },
    {
      "cell_type": "markdown",
      "metadata": {
        "id": "1-ZItmaIbqhs"
      },
      "source": [
        "Создадим обучающие данные"
      ]
    },
    {
      "cell_type": "code",
      "execution_count": 44,
      "metadata": {
        "id": "zjNa5uVDb5w9"
      },
      "outputs": [],
      "source": [
        "X1 = np.random.randint(1, 10, size=50)\n",
        "X2 = np.random.randint(1, 10, size=50)\n",
        "\n",
        "y = X1 + X2"
      ]
    },
    {
      "cell_type": "code",
      "execution_count": 45,
      "metadata": {
        "colab": {
          "base_uri": "https://localhost:8080/"
        },
        "id": "Jt5efryQcHql",
        "outputId": "15b31eba-b0bd-4d45-d021-47beb0144434"
      },
      "outputs": [
        {
          "data": {
            "text/plain": [
              "array([[5, 4],\n",
              "       [3, 7],\n",
              "       [4, 5],\n",
              "       [1, 2],\n",
              "       [8, 8]])"
            ]
          },
          "execution_count": 45,
          "metadata": {},
          "output_type": "execute_result"
        }
      ],
      "source": [
        "X = np.vstack([X1, X2]).T\n",
        "X[:5]"
      ]
    },
    {
      "cell_type": "code",
      "execution_count": 46,
      "metadata": {
        "colab": {
          "base_uri": "https://localhost:8080/"
        },
        "id": "yuvCsiuochWf",
        "outputId": "3362debc-3a95-4c24-fb61-b2220f39474c"
      },
      "outputs": [
        {
          "data": {
            "text/plain": [
              "array([[ 9],\n",
              "       [10],\n",
              "       [ 9],\n",
              "       [ 3],\n",
              "       [16],\n",
              "       [11],\n",
              "       [16],\n",
              "       [13],\n",
              "       [11],\n",
              "       [10],\n",
              "       [11],\n",
              "       [ 3],\n",
              "       [10],\n",
              "       [ 9],\n",
              "       [ 9],\n",
              "       [13],\n",
              "       [11],\n",
              "       [17],\n",
              "       [11],\n",
              "       [10],\n",
              "       [ 8],\n",
              "       [17],\n",
              "       [ 9],\n",
              "       [11],\n",
              "       [ 7],\n",
              "       [13],\n",
              "       [ 6],\n",
              "       [ 7],\n",
              "       [ 8],\n",
              "       [15],\n",
              "       [15],\n",
              "       [ 8],\n",
              "       [14],\n",
              "       [11],\n",
              "       [ 9],\n",
              "       [10],\n",
              "       [11],\n",
              "       [16],\n",
              "       [14],\n",
              "       [16],\n",
              "       [ 5],\n",
              "       [ 3],\n",
              "       [ 8],\n",
              "       [15],\n",
              "       [15],\n",
              "       [12],\n",
              "       [12],\n",
              "       [ 8],\n",
              "       [ 8],\n",
              "       [10]])"
            ]
          },
          "execution_count": 46,
          "metadata": {},
          "output_type": "execute_result"
        }
      ],
      "source": [
        "y = y[None]\n",
        "y = y.T\n",
        "y"
      ]
    },
    {
      "cell_type": "markdown",
      "metadata": {
        "id": "euyhpaA1h7Ee"
      },
      "source": [
        "Т.к. сети - это куча маленьких линейных регрессий, а им нужно масштабирование данных, то и для нейросетей, так же нужно масштабирование данных.\n",
        "\n",
        "Если что поизучать StandardScaler и MinMaxScaler можно в этом [видео](https://youtu.be/XsuCOfpf8Ic)\n",
        "\n",
        "<img src='https://drive.google.com/uc?id=17gNPTKRh1K5fABEQf_TDhHWTdJuzBEjZ'>"
      ]
    },
    {
      "cell_type": "code",
      "execution_count": 49,
      "metadata": {
        "id": "oT7173S_f180"
      },
      "outputs": [
        {
          "data": {
            "text/plain": [
              "array([[0.5  , 0.375],\n",
              "       [0.25 , 0.75 ],\n",
              "       [0.375, 0.5  ],\n",
              "       [0.   , 0.125],\n",
              "       [0.875, 0.875],\n",
              "       [1.   , 0.125],\n",
              "       [1.   , 0.75 ],\n",
              "       [0.75 , 0.625],\n",
              "       [0.375, 0.75 ],\n",
              "       [0.625, 0.375],\n",
              "       [0.625, 0.5  ],\n",
              "       [0.   , 0.125],\n",
              "       [0.125, 0.875],\n",
              "       [0.875, 0.   ],\n",
              "       [0.   , 0.875],\n",
              "       [0.375, 1.   ],\n",
              "       [0.125, 1.   ],\n",
              "       [0.875, 1.   ],\n",
              "       [0.75 , 0.375],\n",
              "       [0.375, 0.625],\n",
              "       [0.5  , 0.25 ],\n",
              "       [1.   , 0.875],\n",
              "       [0.375, 0.5  ],\n",
              "       [0.5  , 0.625],\n",
              "       [0.125, 0.5  ],\n",
              "       [0.875, 0.5  ],\n",
              "       [0.375, 0.125],\n",
              "       [0.125, 0.5  ],\n",
              "       [0.5  , 0.25 ],\n",
              "       [0.625, 1.   ],\n",
              "       [0.875, 0.75 ],\n",
              "       [0.625, 0.125],\n",
              "       [0.5  , 1.   ],\n",
              "       [0.875, 0.25 ],\n",
              "       [0.   , 0.875],\n",
              "       [1.   , 0.   ],\n",
              "       [1.   , 0.125],\n",
              "       [1.   , 0.75 ],\n",
              "       [1.   , 0.5  ],\n",
              "       [0.875, 0.875],\n",
              "       [0.375, 0.   ],\n",
              "       [0.   , 0.125],\n",
              "       [0.125, 0.625],\n",
              "       [1.   , 0.625],\n",
              "       [0.875, 0.75 ],\n",
              "       [0.375, 0.875],\n",
              "       [0.5  , 0.75 ],\n",
              "       [0.375, 0.375],\n",
              "       [0.5  , 0.25 ],\n",
              "       [0.   , 1.   ]])"
            ]
          },
          "execution_count": 49,
          "metadata": {},
          "output_type": "execute_result"
        }
      ],
      "source": [
        "from sklearn.preprocessing import MinMaxScaler\n",
        "\n",
        "mms = MinMaxScaler()\n",
        "X_norm = mms.fit_transform(X)\n",
        "X_norm"
      ]
    },
    {
      "cell_type": "markdown",
      "metadata": {
        "id": "YYqaoqxgbqht"
      },
      "source": [
        "Для того, что обучить нейронную сеть для любой задачи нужно ответить на три вопроса:\n",
        "1. Какая архитектура сети?\n",
        "2. Что оптимизируем?\n",
        "3. Как обучаем?"
      ]
    },
    {
      "cell_type": "markdown",
      "metadata": {
        "id": "Q-BEwoGAbqht"
      },
      "source": [
        "### Какая архитектура сети"
      ]
    },
    {
      "cell_type": "markdown",
      "metadata": {
        "id": "AI3mYCrbbqht"
      },
      "source": [
        "Создадим сеть посложнее, она будет состоять уже из двух слоев, чтобы быстрее обучалась. В одном слое 3 нейрона, а в выходном слое 1 нейрон.\n",
        "\n",
        "<img src='https://drive.google.com/uc?id=1iA7xkAzoWocEW-eVzI0MqVcLXALYg_In'>"
      ]
    },
    {
      "cell_type": "markdown",
      "metadata": {
        "id": "U9Hci-A3S_M-"
      },
      "source": [
        "При этом пользуемся `Sequential`, т.к. у нас слои последовательные, сначала 2 входа идут в 5 нейронов, а затем выходы из этих 5 нейронов идут в один нейрон."
      ]
    },
    {
      "cell_type": "code",
      "execution_count": 51,
      "metadata": {
        "colab": {
          "base_uri": "https://localhost:8080/"
        },
        "id": "_XzSVCcyGIJV",
        "outputId": "83efce42-43fc-49ad-bce2-00579fdef932"
      },
      "outputs": [
        {
          "name": "stdout",
          "output_type": "stream",
          "text": [
            "Model: \"sequential_2\"\n",
            "_________________________________________________________________\n",
            " Layer (type)                Output Shape              Param #   \n",
            "=================================================================\n",
            " dense_3 (Dense)             (None, 3)                 9         \n",
            "                                                                 \n",
            " dense_4 (Dense)             (None, 1)                 4         \n",
            "                                                                 \n",
            "=================================================================\n",
            "Total params: 13\n",
            "Trainable params: 13\n",
            "Non-trainable params: 0\n",
            "_________________________________________________________________\n"
          ]
        }
      ],
      "source": [
        "from keras.layers import Dense\n",
        "from keras.models import Sequential\n",
        "import tensorflow as tf\n",
        "tf.random.set_seed(9)\n",
        "\n",
        "model = Sequential([\n",
        "    Dense(3, input_shape=(2,), activation='linear'),\n",
        "    Dense(1, activation='linear')\n",
        "])\n",
        "\n",
        "model.summary()"
      ]
    },
    {
      "cell_type": "markdown",
      "metadata": {
        "id": "OJRvtgG1YxmH"
      },
      "source": [
        "Что здесь происходит с весами и с самой архитектурой?\n",
        "\n",
        "Количество весов для одного нейрона равно 2, т.к. два входа поступает, а вдобавок у каждого нейрона есть 1 bias, на первом слое 3 нейрона, значит суммарно весов на первом слое будет 9.\n",
        "\n",
        "Второй слой ждет на вход 3 сигнала, еще 1 bias.\n",
        "\n",
        "Получаем 9 + 4 = 13 обучаемых весов."
      ]
    },
    {
      "cell_type": "code",
      "execution_count": 35,
      "metadata": {
        "colab": {
          "base_uri": "https://localhost:8080/"
        },
        "id": "oOQrDNINZOJ2",
        "outputId": "b26f5f81-327f-4336-87af-eb8bbdb1657a"
      },
      "outputs": [
        {
          "data": {
            "text/plain": [
              "[array([[ 0.525331  , -0.5472159 , -0.83361644],\n",
              "        [ 1.0539753 ,  0.3464315 ,  0.5330728 ]], dtype=float32),\n",
              " array([0., 0., 0.], dtype=float32),\n",
              " array([[-0.8878243 ],\n",
              "        [-0.16439128],\n",
              "        [ 0.06780875]], dtype=float32),\n",
              " array([0.], dtype=float32)]"
            ]
          },
          "execution_count": 35,
          "metadata": {},
          "output_type": "execute_result"
        }
      ],
      "source": [
        "model.get_weights()"
      ]
    },
    {
      "cell_type": "markdown",
      "metadata": {
        "id": "bmi5Nj8Obqhu"
      },
      "source": [
        "### Что оптимизируем\n",
        "\n",
        "Снова задача регрессии, поэтому берем функцию потерь MSE."
      ]
    },
    {
      "cell_type": "markdown",
      "metadata": {
        "id": "442ai77pbqhu"
      },
      "source": [
        "### Как оптимизируем\n",
        "\n",
        "Возьмем тот же самый градиентный спуск со стохастикой."
      ]
    },
    {
      "cell_type": "code",
      "execution_count": 52,
      "metadata": {
        "id": "uuSt5bzsbqhu"
      },
      "outputs": [],
      "source": [
        "model.compile(optimizer='sgd', loss='mse', metrics='mae')"
      ]
    },
    {
      "cell_type": "code",
      "execution_count": 53,
      "metadata": {
        "colab": {
          "base_uri": "https://localhost:8080/"
        },
        "id": "Y2U7VmAcbqhv",
        "outputId": "76308895-bd8b-4b83-de45-79d8834b4bd7"
      },
      "outputs": [
        {
          "name": "stdout",
          "output_type": "stream",
          "text": [
            "Epoch 1/200\n"
          ]
        },
        {
          "name": "stdout",
          "output_type": "stream",
          "text": [
            "2/2 [==============================] - 0s 7ms/step - loss: 126.1240 - mae: 10.6225\n",
            "Epoch 2/200\n",
            "2/2 [==============================] - 0s 3ms/step - loss: 86.7810 - mae: 8.6916\n",
            "Epoch 3/200\n",
            "2/2 [==============================] - 0s 5ms/step - loss: 49.2574 - mae: 6.3020\n",
            "Epoch 4/200\n",
            "2/2 [==============================] - 0s 4ms/step - loss: 18.5143 - mae: 3.7363\n",
            "Epoch 5/200\n",
            "2/2 [==============================] - 0s 5ms/step - loss: 5.8570 - mae: 2.0386\n",
            "Epoch 6/200\n",
            "2/2 [==============================] - 0s 4ms/step - loss: 4.1489 - mae: 1.7543\n",
            "Epoch 7/200\n",
            "2/2 [==============================] - 0s 4ms/step - loss: 3.5806 - mae: 1.6429\n",
            "Epoch 8/200\n",
            "2/2 [==============================] - 0s 5ms/step - loss: 3.2833 - mae: 1.5666\n",
            "Epoch 9/200\n",
            "2/2 [==============================] - 0s 4ms/step - loss: 3.1612 - mae: 1.5280\n",
            "Epoch 10/200\n",
            "2/2 [==============================] - 0s 5ms/step - loss: 2.9658 - mae: 1.4908\n",
            "Epoch 11/200\n",
            "2/2 [==============================] - 0s 4ms/step - loss: 2.8074 - mae: 1.4338\n",
            "Epoch 12/200\n",
            "2/2 [==============================] - 0s 4ms/step - loss: 2.6764 - mae: 1.3996\n",
            "Epoch 13/200\n",
            "2/2 [==============================] - 0s 5ms/step - loss: 2.6116 - mae: 1.3922\n",
            "Epoch 14/200\n",
            "2/2 [==============================] - 0s 3ms/step - loss: 2.4526 - mae: 1.3180\n",
            "Epoch 15/200\n",
            "2/2 [==============================] - 0s 5ms/step - loss: 2.4064 - mae: 1.3399\n",
            "Epoch 16/200\n",
            "2/2 [==============================] - 0s 3ms/step - loss: 2.2749 - mae: 1.3076\n",
            "Epoch 17/200\n",
            "2/2 [==============================] - 0s 3ms/step - loss: 2.0977 - mae: 1.2498\n",
            "Epoch 18/200\n",
            "2/2 [==============================] - 0s 3ms/step - loss: 2.0095 - mae: 1.2120\n",
            "Epoch 19/200\n",
            "2/2 [==============================] - 0s 4ms/step - loss: 1.8894 - mae: 1.1532\n",
            "Epoch 20/200\n",
            "2/2 [==============================] - 0s 4ms/step - loss: 1.7931 - mae: 1.1364\n",
            "Epoch 21/200\n",
            "2/2 [==============================] - 0s 3ms/step - loss: 1.6967 - mae: 1.1130\n",
            "Epoch 22/200\n",
            "2/2 [==============================] - 0s 3ms/step - loss: 1.6032 - mae: 1.0825\n",
            "Epoch 23/200\n",
            "2/2 [==============================] - 0s 6ms/step - loss: 1.5361 - mae: 1.0437\n",
            "Epoch 24/200\n",
            "2/2 [==============================] - 0s 3ms/step - loss: 1.4754 - mae: 1.0447\n",
            "Epoch 25/200\n",
            "2/2 [==============================] - 0s 4ms/step - loss: 1.4207 - mae: 1.0085\n",
            "Epoch 26/200\n",
            "2/2 [==============================] - 0s 3ms/step - loss: 1.3137 - mae: 0.9584\n",
            "Epoch 27/200\n",
            "2/2 [==============================] - 0s 3ms/step - loss: 1.2534 - mae: 0.9452\n",
            "Epoch 28/200\n",
            "2/2 [==============================] - 0s 3ms/step - loss: 1.1839 - mae: 0.9317\n",
            "Epoch 29/200\n",
            "2/2 [==============================] - 0s 5ms/step - loss: 1.1168 - mae: 0.8878\n",
            "Epoch 30/200\n",
            "2/2 [==============================] - 0s 4ms/step - loss: 1.0706 - mae: 0.8666\n",
            "Epoch 31/200\n",
            "2/2 [==============================] - 0s 4ms/step - loss: 1.0268 - mae: 0.8603\n",
            "Epoch 32/200\n",
            "2/2 [==============================] - 0s 4ms/step - loss: 0.9496 - mae: 0.8331\n",
            "Epoch 33/200\n",
            "2/2 [==============================] - 0s 2ms/step - loss: 0.8948 - mae: 0.7990\n",
            "Epoch 34/200\n",
            "2/2 [==============================] - 0s 2ms/step - loss: 0.8538 - mae: 0.7700\n",
            "Epoch 35/200\n",
            "2/2 [==============================] - 0s 3ms/step - loss: 0.8015 - mae: 0.7606\n",
            "Epoch 36/200\n",
            "2/2 [==============================] - 0s 3ms/step - loss: 0.7525 - mae: 0.7363\n",
            "Epoch 37/200\n",
            "2/2 [==============================] - 0s 4ms/step - loss: 0.7127 - mae: 0.7058\n",
            "Epoch 38/200\n",
            "2/2 [==============================] - 0s 3ms/step - loss: 0.6708 - mae: 0.6941\n",
            "Epoch 39/200\n",
            "2/2 [==============================] - 0s 4ms/step - loss: 0.6317 - mae: 0.6689\n",
            "Epoch 40/200\n",
            "2/2 [==============================] - 0s 3ms/step - loss: 0.6030 - mae: 0.6474\n",
            "Epoch 41/200\n",
            "2/2 [==============================] - 0s 5ms/step - loss: 0.5650 - mae: 0.6369\n",
            "Epoch 42/200\n",
            "2/2 [==============================] - 0s 3ms/step - loss: 0.5379 - mae: 0.6084\n",
            "Epoch 43/200\n",
            "2/2 [==============================] - 0s 5ms/step - loss: 0.5042 - mae: 0.5992\n",
            "Epoch 44/200\n",
            "2/2 [==============================] - 0s 3ms/step - loss: 0.4729 - mae: 0.5780\n",
            "Epoch 45/200\n",
            "2/2 [==============================] - 0s 3ms/step - loss: 0.4513 - mae: 0.5617\n",
            "Epoch 46/200\n",
            "2/2 [==============================] - 0s 3ms/step - loss: 0.4177 - mae: 0.5468\n",
            "Epoch 47/200\n",
            "2/2 [==============================] - 0s 3ms/step - loss: 0.3929 - mae: 0.5244\n",
            "Epoch 48/200\n",
            "2/2 [==============================] - 0s 5ms/step - loss: 0.3682 - mae: 0.5100\n",
            "Epoch 49/200\n",
            "2/2 [==============================] - 0s 2ms/step - loss: 0.3455 - mae: 0.4933\n",
            "Epoch 50/200\n",
            "2/2 [==============================] - 0s 2ms/step - loss: 0.3261 - mae: 0.4759\n",
            "Epoch 51/200\n",
            "2/2 [==============================] - 0s 2ms/step - loss: 0.3104 - mae: 0.4632\n",
            "Epoch 52/200\n",
            "2/2 [==============================] - 0s 6ms/step - loss: 0.2894 - mae: 0.4538\n",
            "Epoch 53/200\n",
            "2/2 [==============================] - 0s 2ms/step - loss: 0.2697 - mae: 0.4353\n",
            "Epoch 54/200\n",
            "2/2 [==============================] - 0s 4ms/step - loss: 0.2530 - mae: 0.4180\n",
            "Epoch 55/200\n",
            "2/2 [==============================] - 0s 3ms/step - loss: 0.2367 - mae: 0.4057\n",
            "Epoch 56/200\n",
            "2/2 [==============================] - 0s 5ms/step - loss: 0.2220 - mae: 0.3926\n",
            "Epoch 57/200\n",
            "2/2 [==============================] - 0s 2ms/step - loss: 0.2067 - mae: 0.3772\n",
            "Epoch 58/200\n",
            "2/2 [==============================] - 0s 6ms/step - loss: 0.1947 - mae: 0.3659\n",
            "Epoch 59/200\n",
            "2/2 [==============================] - 0s 2ms/step - loss: 0.1824 - mae: 0.3576\n",
            "Epoch 60/200\n",
            "2/2 [==============================] - 0s 4ms/step - loss: 0.1704 - mae: 0.3392\n",
            "Epoch 61/200\n",
            "2/2 [==============================] - 0s 4ms/step - loss: 0.1602 - mae: 0.3311\n",
            "Epoch 62/200\n",
            "2/2 [==============================] - 0s 5ms/step - loss: 0.1523 - mae: 0.3216\n",
            "Epoch 63/200\n",
            "2/2 [==============================] - 0s 2ms/step - loss: 0.1409 - mae: 0.3091\n",
            "Epoch 64/200\n",
            "2/2 [==============================] - 0s 3ms/step - loss: 0.1336 - mae: 0.3040\n",
            "Epoch 65/200\n",
            "2/2 [==============================] - 0s 3ms/step - loss: 0.1230 - mae: 0.2886\n",
            "Epoch 66/200\n",
            "2/2 [==============================] - 0s 3ms/step - loss: 0.1140 - mae: 0.2797\n",
            "Epoch 67/200\n",
            "2/2 [==============================] - 0s 3ms/step - loss: 0.1064 - mae: 0.2719\n",
            "Epoch 68/200\n",
            "2/2 [==============================] - 0s 3ms/step - loss: 0.0993 - mae: 0.2611\n",
            "Epoch 69/200\n",
            "2/2 [==============================] - 0s 5ms/step - loss: 0.0929 - mae: 0.2532\n",
            "Epoch 70/200\n",
            "2/2 [==============================] - 0s 4ms/step - loss: 0.0877 - mae: 0.2450\n",
            "Epoch 71/200\n",
            "2/2 [==============================] - 0s 5ms/step - loss: 0.0811 - mae: 0.2342\n",
            "Epoch 72/200\n",
            "2/2 [==============================] - 0s 4ms/step - loss: 0.0749 - mae: 0.2268\n",
            "Epoch 73/200\n",
            "2/2 [==============================] - 0s 4ms/step - loss: 0.0716 - mae: 0.2237\n",
            "Epoch 74/200\n",
            "2/2 [==============================] - 0s 3ms/step - loss: 0.0660 - mae: 0.2106\n",
            "Epoch 75/200\n",
            "2/2 [==============================] - 0s 2ms/step - loss: 0.0607 - mae: 0.2042\n",
            "Epoch 76/200\n",
            "2/2 [==============================] - 0s 4ms/step - loss: 0.0566 - mae: 0.1965\n",
            "Epoch 77/200\n",
            "2/2 [==============================] - 0s 5ms/step - loss: 0.0527 - mae: 0.1898\n",
            "Epoch 78/200\n",
            "2/2 [==============================] - 0s 5ms/step - loss: 0.0492 - mae: 0.1831\n",
            "Epoch 79/200\n",
            "2/2 [==============================] - 0s 4ms/step - loss: 0.0463 - mae: 0.1781\n",
            "Epoch 80/200\n",
            "2/2 [==============================] - 0s 4ms/step - loss: 0.0428 - mae: 0.1704\n",
            "Epoch 81/200\n",
            "2/2 [==============================] - 0s 2ms/step - loss: 0.0397 - mae: 0.1644\n",
            "Epoch 82/200\n",
            "2/2 [==============================] - 0s 4ms/step - loss: 0.0382 - mae: 0.1613\n",
            "Epoch 83/200\n",
            "2/2 [==============================] - 0s 3ms/step - loss: 0.0350 - mae: 0.1531\n",
            "Epoch 84/200\n",
            "2/2 [==============================] - 0s 4ms/step - loss: 0.0320 - mae: 0.1473\n",
            "Epoch 85/200\n",
            "2/2 [==============================] - 0s 3ms/step - loss: 0.0298 - mae: 0.1426\n",
            "Epoch 86/200\n",
            "2/2 [==============================] - 0s 4ms/step - loss: 0.0276 - mae: 0.1372\n",
            "Epoch 87/200\n",
            "2/2 [==============================] - 0s 3ms/step - loss: 0.0258 - mae: 0.1325\n",
            "Epoch 88/200\n",
            "2/2 [==============================] - 0s 6ms/step - loss: 0.0242 - mae: 0.1282\n",
            "Epoch 89/200\n",
            "2/2 [==============================] - 0s 3ms/step - loss: 0.0224 - mae: 0.1235\n",
            "Epoch 90/200\n",
            "2/2 [==============================] - 0s 3ms/step - loss: 0.0205 - mae: 0.1184\n",
            "Epoch 91/200\n",
            "2/2 [==============================] - 0s 4ms/step - loss: 0.0189 - mae: 0.1131\n",
            "Epoch 92/200\n",
            "2/2 [==============================] - 0s 5ms/step - loss: 0.0175 - mae: 0.1093\n",
            "Epoch 93/200\n",
            "2/2 [==============================] - 0s 5ms/step - loss: 0.0162 - mae: 0.1051\n",
            "Epoch 94/200\n",
            "2/2 [==============================] - 0s 4ms/step - loss: 0.0152 - mae: 0.1017\n",
            "Epoch 95/200\n",
            "2/2 [==============================] - 0s 3ms/step - loss: 0.0143 - mae: 0.0998\n",
            "Epoch 96/200\n",
            "2/2 [==============================] - 0s 4ms/step - loss: 0.0131 - mae: 0.0934\n",
            "Epoch 97/200\n",
            "2/2 [==============================] - 0s 4ms/step - loss: 0.0121 - mae: 0.0907\n",
            "Epoch 98/200\n",
            "2/2 [==============================] - 0s 4ms/step - loss: 0.0112 - mae: 0.0874\n",
            "Epoch 99/200\n",
            "2/2 [==============================] - 0s 5ms/step - loss: 0.0104 - mae: 0.0842\n",
            "Epoch 100/200\n",
            "2/2 [==============================] - 0s 4ms/step - loss: 0.0096 - mae: 0.0808\n",
            "Epoch 101/200\n",
            "2/2 [==============================] - 0s 2ms/step - loss: 0.0089 - mae: 0.0779\n",
            "Epoch 102/200\n",
            "2/2 [==============================] - 0s 8ms/step - loss: 0.0083 - mae: 0.0752\n",
            "Epoch 103/200\n",
            "2/2 [==============================] - 0s 6ms/step - loss: 0.0077 - mae: 0.0724\n",
            "Epoch 104/200\n",
            "2/2 [==============================] - 0s 3ms/step - loss: 0.0072 - mae: 0.0705\n",
            "Epoch 105/200\n",
            "2/2 [==============================] - 0s 4ms/step - loss: 0.0067 - mae: 0.0679\n",
            "Epoch 106/200\n",
            "2/2 [==============================] - 0s 3ms/step - loss: 0.0064 - mae: 0.0656\n",
            "Epoch 107/200\n",
            "2/2 [==============================] - 0s 6ms/step - loss: 0.0058 - mae: 0.0627\n",
            "Epoch 108/200\n",
            "2/2 [==============================] - 0s 4ms/step - loss: 0.0053 - mae: 0.0600\n",
            "Epoch 109/200\n",
            "2/2 [==============================] - 0s 3ms/step - loss: 0.0050 - mae: 0.0586\n",
            "Epoch 110/200\n",
            "2/2 [==============================] - 0s 5ms/step - loss: 0.0047 - mae: 0.0574\n",
            "Epoch 111/200\n",
            "2/2 [==============================] - 0s 2ms/step - loss: 0.0042 - mae: 0.0537\n",
            "Epoch 112/200\n",
            "2/2 [==============================] - 0s 5ms/step - loss: 0.0040 - mae: 0.0527\n",
            "Epoch 113/200\n",
            "2/2 [==============================] - 0s 3ms/step - loss: 0.0037 - mae: 0.0497\n",
            "Epoch 114/200\n",
            "2/2 [==============================] - 0s 3ms/step - loss: 0.0035 - mae: 0.0484\n",
            "Epoch 115/200\n",
            "2/2 [==============================] - 0s 3ms/step - loss: 0.0032 - mae: 0.0467\n",
            "Epoch 116/200\n",
            "2/2 [==============================] - 0s 4ms/step - loss: 0.0030 - mae: 0.0446\n",
            "Epoch 117/200\n",
            "2/2 [==============================] - 0s 2ms/step - loss: 0.0027 - mae: 0.0430\n",
            "Epoch 118/200\n",
            "2/2 [==============================] - 0s 3ms/step - loss: 0.0025 - mae: 0.0413\n",
            "Epoch 119/200\n",
            "2/2 [==============================] - 0s 5ms/step - loss: 0.0023 - mae: 0.0395\n",
            "Epoch 120/200\n",
            "2/2 [==============================] - 0s 2ms/step - loss: 0.0021 - mae: 0.0379\n",
            "Epoch 121/200\n",
            "2/2 [==============================] - 0s 3ms/step - loss: 0.0020 - mae: 0.0366\n",
            "Epoch 122/200\n",
            "2/2 [==============================] - 0s 4ms/step - loss: 0.0018 - mae: 0.0353\n",
            "Epoch 123/200\n",
            "2/2 [==============================] - 0s 5ms/step - loss: 0.0017 - mae: 0.0339\n",
            "Epoch 124/200\n",
            "2/2 [==============================] - 0s 3ms/step - loss: 0.0016 - mae: 0.0327\n",
            "Epoch 125/200\n",
            "2/2 [==============================] - 0s 3ms/step - loss: 0.0015 - mae: 0.0316\n",
            "Epoch 126/200\n",
            "2/2 [==============================] - 0s 3ms/step - loss: 0.0014 - mae: 0.0306\n",
            "Epoch 127/200\n",
            "2/2 [==============================] - 0s 4ms/step - loss: 0.0013 - mae: 0.0294\n",
            "Epoch 128/200\n",
            "2/2 [==============================] - 0s 15ms/step - loss: 0.0012 - mae: 0.0285\n",
            "Epoch 129/200\n",
            "2/2 [==============================] - 0s 2ms/step - loss: 0.0011 - mae: 0.0273\n",
            "Epoch 130/200\n",
            "2/2 [==============================] - 0s 3ms/step - loss: 0.0010 - mae: 0.0264\n",
            "Epoch 131/200\n",
            "2/2 [==============================] - 0s 4ms/step - loss: 9.6424e-04 - mae: 0.0255\n",
            "Epoch 132/200\n",
            "2/2 [==============================] - 0s 4ms/step - loss: 8.8784e-04 - mae: 0.0245\n",
            "Epoch 133/200\n",
            "2/2 [==============================] - 0s 2ms/step - loss: 8.2515e-04 - mae: 0.0236\n",
            "Epoch 134/200\n",
            "2/2 [==============================] - 0s 3ms/step - loss: 7.5862e-04 - mae: 0.0226\n",
            "Epoch 135/200\n",
            "2/2 [==============================] - 0s 4ms/step - loss: 7.1163e-04 - mae: 0.0221\n",
            "Epoch 136/200\n",
            "2/2 [==============================] - 0s 3ms/step - loss: 6.6401e-04 - mae: 0.0212\n",
            "Epoch 137/200\n",
            "2/2 [==============================] - 0s 3ms/step - loss: 6.2425e-04 - mae: 0.0204\n",
            "Epoch 138/200\n",
            "2/2 [==============================] - 0s 5ms/step - loss: 5.6744e-04 - mae: 0.0195\n",
            "Epoch 139/200\n",
            "2/2 [==============================] - 0s 3ms/step - loss: 5.1596e-04 - mae: 0.0187\n",
            "Epoch 140/200\n",
            "2/2 [==============================] - 0s 4ms/step - loss: 4.7627e-04 - mae: 0.0179\n",
            "Epoch 141/200\n",
            "2/2 [==============================] - 0s 2ms/step - loss: 4.4022e-04 - mae: 0.0172\n",
            "Epoch 142/200\n",
            "2/2 [==============================] - 0s 3ms/step - loss: 4.1084e-04 - mae: 0.0166\n",
            "Epoch 143/200\n",
            "2/2 [==============================] - 0s 3ms/step - loss: 3.7977e-04 - mae: 0.0160\n",
            "Epoch 144/200\n",
            "2/2 [==============================] - 0s 2ms/step - loss: 3.5967e-04 - mae: 0.0157\n",
            "Epoch 145/200\n",
            "2/2 [==============================] - 0s 3ms/step - loss: 3.3510e-04 - mae: 0.0151\n",
            "Epoch 146/200\n",
            "2/2 [==============================] - 0s 2ms/step - loss: 3.1625e-04 - mae: 0.0146\n",
            "Epoch 147/200\n",
            "2/2 [==============================] - 0s 4ms/step - loss: 2.8693e-04 - mae: 0.0138\n",
            "Epoch 148/200\n",
            "2/2 [==============================] - 0s 4ms/step - loss: 2.6111e-04 - mae: 0.0133\n",
            "Epoch 149/200\n",
            "2/2 [==============================] - 0s 4ms/step - loss: 2.4384e-04 - mae: 0.0128\n",
            "Epoch 150/200\n",
            "2/2 [==============================] - 0s 3ms/step - loss: 2.2493e-04 - mae: 0.0123\n",
            "Epoch 151/200\n",
            "2/2 [==============================] - 0s 6ms/step - loss: 2.0793e-04 - mae: 0.0119\n",
            "Epoch 152/200\n",
            "2/2 [==============================] - 0s 3ms/step - loss: 1.9350e-04 - mae: 0.0114\n",
            "Epoch 153/200\n",
            "2/2 [==============================] - 0s 4ms/step - loss: 1.7883e-04 - mae: 0.0109\n",
            "Epoch 154/200\n",
            "2/2 [==============================] - 0s 3ms/step - loss: 1.6637e-04 - mae: 0.0106\n",
            "Epoch 155/200\n",
            "2/2 [==============================] - 0s 2ms/step - loss: 1.5341e-04 - mae: 0.0102\n",
            "Epoch 156/200\n",
            "2/2 [==============================] - 0s 3ms/step - loss: 1.4279e-04 - mae: 0.0098\n",
            "Epoch 157/200\n",
            "2/2 [==============================] - 0s 4ms/step - loss: 1.3198e-04 - mae: 0.0094\n",
            "Epoch 158/200\n",
            "2/2 [==============================] - 0s 3ms/step - loss: 1.2098e-04 - mae: 0.0090\n",
            "Epoch 159/200\n",
            "2/2 [==============================] - 0s 3ms/step - loss: 1.1266e-04 - mae: 0.0087\n",
            "Epoch 160/200\n",
            "2/2 [==============================] - 0s 4ms/step - loss: 1.0673e-04 - mae: 0.0085\n",
            "Epoch 161/200\n",
            "2/2 [==============================] - 0s 3ms/step - loss: 9.8943e-05 - mae: 0.0081\n",
            "Epoch 162/200\n",
            "2/2 [==============================] - 0s 2ms/step - loss: 9.0736e-05 - mae: 0.0078\n",
            "Epoch 163/200\n",
            "2/2 [==============================] - 0s 2ms/step - loss: 8.4300e-05 - mae: 0.0075\n",
            "Epoch 164/200\n",
            "2/2 [==============================] - 0s 4ms/step - loss: 7.8573e-05 - mae: 0.0072\n",
            "Epoch 165/200\n",
            "2/2 [==============================] - 0s 2ms/step - loss: 7.2778e-05 - mae: 0.0070\n",
            "Epoch 166/200\n",
            "2/2 [==============================] - 0s 5ms/step - loss: 6.6975e-05 - mae: 0.0067\n",
            "Epoch 167/200\n",
            "2/2 [==============================] - 0s 5ms/step - loss: 6.1743e-05 - mae: 0.0065\n",
            "Epoch 168/200\n",
            "2/2 [==============================] - 0s 4ms/step - loss: 5.7458e-05 - mae: 0.0062\n",
            "Epoch 169/200\n",
            "2/2 [==============================] - 0s 9ms/step - loss: 5.3027e-05 - mae: 0.0060\n",
            "Epoch 170/200\n",
            "2/2 [==============================] - 0s 8ms/step - loss: 4.8889e-05 - mae: 0.0057\n",
            "Epoch 171/200\n",
            "2/2 [==============================] - 0s 6ms/step - loss: 4.5405e-05 - mae: 0.0055\n",
            "Epoch 172/200\n",
            "2/2 [==============================] - 0s 7ms/step - loss: 4.2280e-05 - mae: 0.0054\n",
            "Epoch 173/200\n",
            "2/2 [==============================] - 0s 4ms/step - loss: 3.9226e-05 - mae: 0.0052\n",
            "Epoch 174/200\n",
            "2/2 [==============================] - 0s 4ms/step - loss: 3.5995e-05 - mae: 0.0049\n",
            "Epoch 175/200\n",
            "2/2 [==============================] - 0s 7ms/step - loss: 3.3268e-05 - mae: 0.0047\n",
            "Epoch 176/200\n",
            "2/2 [==============================] - 0s 4ms/step - loss: 3.0864e-05 - mae: 0.0045\n",
            "Epoch 177/200\n",
            "2/2 [==============================] - 0s 4ms/step - loss: 2.8611e-05 - mae: 0.0044\n",
            "Epoch 178/200\n",
            "2/2 [==============================] - 0s 6ms/step - loss: 2.6431e-05 - mae: 0.0042\n",
            "Epoch 179/200\n",
            "2/2 [==============================] - 0s 2ms/step - loss: 2.4375e-05 - mae: 0.0041\n",
            "Epoch 180/200\n",
            "2/2 [==============================] - 0s 6ms/step - loss: 2.2604e-05 - mae: 0.0039\n",
            "Epoch 181/200\n",
            "2/2 [==============================] - 0s 3ms/step - loss: 2.1376e-05 - mae: 0.0038\n",
            "Epoch 182/200\n",
            "2/2 [==============================] - 0s 4ms/step - loss: 1.9540e-05 - mae: 0.0036\n",
            "Epoch 183/200\n",
            "2/2 [==============================] - 0s 3ms/step - loss: 1.8051e-05 - mae: 0.0035\n",
            "Epoch 184/200\n",
            "2/2 [==============================] - 0s 4ms/step - loss: 1.6586e-05 - mae: 0.0033\n",
            "Epoch 185/200\n",
            "2/2 [==============================] - 0s 2ms/step - loss: 1.5611e-05 - mae: 0.0033\n",
            "Epoch 186/200\n",
            "2/2 [==============================] - 0s 2ms/step - loss: 1.4201e-05 - mae: 0.0031\n",
            "Epoch 187/200\n",
            "2/2 [==============================] - 0s 39ms/step - loss: 1.3077e-05 - mae: 0.0030\n",
            "Epoch 188/200\n",
            "2/2 [==============================] - 0s 3ms/step - loss: 1.2498e-05 - mae: 0.0029\n",
            "Epoch 189/200\n",
            "2/2 [==============================] - 0s 3ms/step - loss: 1.1554e-05 - mae: 0.0028\n",
            "Epoch 190/200\n",
            "2/2 [==============================] - 0s 3ms/step - loss: 1.0331e-05 - mae: 0.0026\n",
            "Epoch 191/200\n",
            "2/2 [==============================] - 0s 6ms/step - loss: 9.5250e-06 - mae: 0.0025\n",
            "Epoch 192/200\n",
            "2/2 [==============================] - 0s 3ms/step - loss: 8.9094e-06 - mae: 0.0025\n",
            "Epoch 193/200\n",
            "2/2 [==============================] - 0s 3ms/step - loss: 8.2662e-06 - mae: 0.0024\n",
            "Epoch 194/200\n",
            "2/2 [==============================] - 0s 2ms/step - loss: 7.8151e-06 - mae: 0.0023\n",
            "Epoch 195/200\n",
            "2/2 [==============================] - 0s 6ms/step - loss: 7.1004e-06 - mae: 0.0022\n",
            "Epoch 196/200\n",
            "2/2 [==============================] - 0s 3ms/step - loss: 6.5319e-06 - mae: 0.0021\n",
            "Epoch 197/200\n",
            "2/2 [==============================] - 0s 4ms/step - loss: 6.0681e-06 - mae: 0.0020\n",
            "Epoch 198/200\n",
            "2/2 [==============================] - 0s 2ms/step - loss: 5.6519e-06 - mae: 0.0020\n",
            "Epoch 199/200\n",
            "2/2 [==============================] - 0s 2ms/step - loss: 5.2256e-06 - mae: 0.0019\n",
            "Epoch 200/200\n",
            "2/2 [==============================] - 0s 6ms/step - loss: 4.9329e-06 - mae: 0.0018\n",
            "CPU times: total: 2.58 s\n",
            "Wall time: 2.19 s\n"
          ]
        },
        {
          "data": {
            "text/plain": [
              "<keras.callbacks.History at 0x1b2597b34f0>"
            ]
          },
          "execution_count": 53,
          "metadata": {},
          "output_type": "execute_result"
        }
      ],
      "source": [
        "%%time\n",
        "model.fit(X_norm, y, epochs=200)"
      ]
    },
    {
      "cell_type": "markdown",
      "metadata": {
        "id": "tNfv4XxBbqhv"
      },
      "source": [
        "Сеть обучается, ошибка падает, метрика становится лучше, всё замечательно.\n",
        "\n",
        "Теперь проверим, а как модель работает на новых данных."
      ]
    },
    {
      "cell_type": "code",
      "execution_count": 54,
      "metadata": {
        "colab": {
          "base_uri": "https://localhost:8080/"
        },
        "id": "_c2igAtsbqhv",
        "outputId": "d9bf324e-8710-4f2d-cecc-14456450d47f"
      },
      "outputs": [
        {
          "name": "stdout",
          "output_type": "stream",
          "text": [
            "Предсказание нейронной сети: \n",
            "1/1 [==============================] - 0s 60ms/step\n",
            "[[6.003603]\n",
            " [8.002741]]\n"
          ]
        }
      ],
      "source": [
        "test_X = [[4, 2],\n",
        "          [6, 2]]\n",
        "test_X = mms.transform(test_X)\n",
        "print(\"Предсказание нейронной сети: \")\n",
        "print(model.predict(np.array(test_X)))"
      ]
    },
    {
      "cell_type": "markdown",
      "metadata": {
        "id": "YnqP0EUUbqhv"
      },
      "source": [
        "Предсказания очень похожи на истину."
      ]
    },
    {
      "cell_type": "markdown",
      "metadata": {
        "id": "p4OVXPaIbqhv"
      },
      "source": [
        "И проверимся на всех обучающих данных."
      ]
    },
    {
      "cell_type": "code",
      "execution_count": 39,
      "metadata": {
        "colab": {
          "base_uri": "https://localhost:8080/",
          "height": 363
        },
        "id": "GIUnd40Ibqhv",
        "outputId": "f0a5743c-2984-416d-c3d8-0c45fabf2189"
      },
      "outputs": [
        {
          "name": "stdout",
          "output_type": "stream",
          "text": [
            "2/2 [==============================] - 0s 4ms/step\n"
          ]
        },
        {
          "data": {
            "text/html": [
              "<div>\n",
              "<style scoped>\n",
              "    .dataframe tbody tr th:only-of-type {\n",
              "        vertical-align: middle;\n",
              "    }\n",
              "\n",
              "    .dataframe tbody tr th {\n",
              "        vertical-align: top;\n",
              "    }\n",
              "\n",
              "    .dataframe thead th {\n",
              "        text-align: right;\n",
              "    }\n",
              "</style>\n",
              "<table border=\"1\" class=\"dataframe\">\n",
              "  <thead>\n",
              "    <tr style=\"text-align: right;\">\n",
              "      <th></th>\n",
              "      <th>x1</th>\n",
              "      <th>x2</th>\n",
              "      <th>true</th>\n",
              "      <th>pred</th>\n",
              "    </tr>\n",
              "  </thead>\n",
              "  <tbody>\n",
              "    <tr>\n",
              "      <th>0</th>\n",
              "      <td>5</td>\n",
              "      <td>4</td>\n",
              "      <td>9</td>\n",
              "      <td>9.002499</td>\n",
              "    </tr>\n",
              "    <tr>\n",
              "      <th>1</th>\n",
              "      <td>2</td>\n",
              "      <td>5</td>\n",
              "      <td>7</td>\n",
              "      <td>7.003791</td>\n",
              "    </tr>\n",
              "    <tr>\n",
              "      <th>2</th>\n",
              "      <td>9</td>\n",
              "      <td>2</td>\n",
              "      <td>11</td>\n",
              "      <td>11.001367</td>\n",
              "    </tr>\n",
              "    <tr>\n",
              "      <th>3</th>\n",
              "      <td>2</td>\n",
              "      <td>7</td>\n",
              "      <td>9</td>\n",
              "      <td>9.002011</td>\n",
              "    </tr>\n",
              "    <tr>\n",
              "      <th>4</th>\n",
              "      <td>7</td>\n",
              "      <td>6</td>\n",
              "      <td>13</td>\n",
              "      <td>12.999263</td>\n",
              "    </tr>\n",
              "    <tr>\n",
              "      <th>5</th>\n",
              "      <td>1</td>\n",
              "      <td>1</td>\n",
              "      <td>2</td>\n",
              "      <td>2.008076</td>\n",
              "    </tr>\n",
              "    <tr>\n",
              "      <th>6</th>\n",
              "      <td>3</td>\n",
              "      <td>1</td>\n",
              "      <td>4</td>\n",
              "      <td>4.006621</td>\n",
              "    </tr>\n",
              "    <tr>\n",
              "      <th>7</th>\n",
              "      <td>6</td>\n",
              "      <td>2</td>\n",
              "      <td>8</td>\n",
              "      <td>8.003550</td>\n",
              "    </tr>\n",
              "    <tr>\n",
              "      <th>8</th>\n",
              "      <td>7</td>\n",
              "      <td>2</td>\n",
              "      <td>9</td>\n",
              "      <td>9.002822</td>\n",
              "    </tr>\n",
              "    <tr>\n",
              "      <th>9</th>\n",
              "      <td>5</td>\n",
              "      <td>9</td>\n",
              "      <td>14</td>\n",
              "      <td>13.998050</td>\n",
              "    </tr>\n",
              "  </tbody>\n",
              "</table>\n",
              "</div>"
            ],
            "text/plain": [
              "   x1  x2  true       pred\n",
              "0   5   4     9   9.002499\n",
              "1   2   5     7   7.003791\n",
              "2   9   2    11  11.001367\n",
              "3   2   7     9   9.002011\n",
              "4   7   6    13  12.999263\n",
              "5   1   1     2   2.008076\n",
              "6   3   1     4   4.006621\n",
              "7   6   2     8   8.003550\n",
              "8   7   2     9   9.002822\n",
              "9   5   9    14  13.998050"
            ]
          },
          "execution_count": 39,
          "metadata": {},
          "output_type": "execute_result"
        }
      ],
      "source": [
        "import pandas as pd\n",
        "\n",
        "pd.DataFrame({\n",
        "    'x1': X[:, 0],\n",
        "    'x2': X[:, 1],\n",
        "    'true': np.squeeze(y),\n",
        "    'pred': np.squeeze(model.predict(X_norm))\n",
        "}).head(10)"
      ]
    },
    {
      "cell_type": "markdown",
      "metadata": {
        "id": "dMl_PwDBrLf3"
      },
      "source": [
        "## Сеть для классификации изображений"
      ]
    },
    {
      "cell_type": "markdown",
      "metadata": {
        "id": "jQ3JsN_PrLf5"
      },
      "source": [
        "Подгрузим данные из стандартных датасетов из `keras`.\n",
        "\n",
        "Датасет называется MNIST и представляет из себя черно-белые изображения 28 на 28 пикселей."
      ]
    },
    {
      "cell_type": "code",
      "execution_count": 21,
      "metadata": {
        "colab": {
          "base_uri": "https://localhost:8080/"
        },
        "id": "TALj1QyerYip",
        "outputId": "4a3b8654-f9bd-4e66-acf5-bcaa6eb25b7d"
      },
      "outputs": [
        {
          "data": {
            "text/plain": [
              "((60000, 28, 28), (10000, 28, 28))"
            ]
          },
          "execution_count": 21,
          "metadata": {},
          "output_type": "execute_result"
        }
      ],
      "source": [
        "from keras.datasets import mnist\n",
        "import matplotlib.pyplot as plt\n",
        "\n",
        "(X_train, y_train), (X_test, y_test) = mnist.load_data()\n",
        "\n",
        "X_train.shape, X_test.shape"
      ]
    },
    {
      "cell_type": "code",
      "execution_count": 41,
      "metadata": {
        "colab": {
          "base_uri": "https://localhost:8080/"
        },
        "id": "OvJVT5FDrzPq",
        "outputId": "e7fbd6c3-2d1d-4f5b-f894-914fa649f466"
      },
      "outputs": [
        {
          "data": {
            "text/plain": [
              "array([[  0,   0,   0,   0,   0,   0,   0,   0,   0,   0,   0,   0,   0,\n",
              "          0,   0,   0,   0,   0,   0,   0,   0,   0,   0,   0,   0,   0,\n",
              "          0,   0],\n",
              "       [  0,   0,   0,   0,   0,   0,   0,   0,   0,   0,   0,   0,   0,\n",
              "          0,   0,   0,   0,   0,   0,   0,   0,   0,   0,   0,   0,   0,\n",
              "          0,   0],\n",
              "       [  0,   0,   0,   0,   0,   0,   0,   0,   0,   0,   0,   0,   0,\n",
              "          0,   0,   0,   0,   0,   0,   0,   0,   0,   0,   0,   0,   0,\n",
              "          0,   0],\n",
              "       [  0,   0,   0,   0,   0,   0,   0,   0,   0,   0,   0,   0,   0,\n",
              "          0,   0,   0,   0,   0,   0,   0,   0,   0,   0,   0,   0,   0,\n",
              "          0,   0],\n",
              "       [  0,   0,   0,   0,   0,   0,   0,   0,   0,   0,   0,   0,   0,\n",
              "          0,   0,   0,   0,   0,   0,   0,   0,   0,   0,   0,   0,   0,\n",
              "          0,   0],\n",
              "       [  0,   0,   0,   0,   0,   0,   0,   0,   0,   0,   0,   0,   3,\n",
              "         18,  18,  18, 126, 136, 175,  26, 166, 255, 247, 127,   0,   0,\n",
              "          0,   0],\n",
              "       [  0,   0,   0,   0,   0,   0,   0,   0,  30,  36,  94, 154, 170,\n",
              "        253, 253, 253, 253, 253, 225, 172, 253, 242, 195,  64,   0,   0,\n",
              "          0,   0],\n",
              "       [  0,   0,   0,   0,   0,   0,   0,  49, 238, 253, 253, 253, 253,\n",
              "        253, 253, 253, 253, 251,  93,  82,  82,  56,  39,   0,   0,   0,\n",
              "          0,   0],\n",
              "       [  0,   0,   0,   0,   0,   0,   0,  18, 219, 253, 253, 253, 253,\n",
              "        253, 198, 182, 247, 241,   0,   0,   0,   0,   0,   0,   0,   0,\n",
              "          0,   0],\n",
              "       [  0,   0,   0,   0,   0,   0,   0,   0,  80, 156, 107, 253, 253,\n",
              "        205,  11,   0,  43, 154,   0,   0,   0,   0,   0,   0,   0,   0,\n",
              "          0,   0],\n",
              "       [  0,   0,   0,   0,   0,   0,   0,   0,   0,  14,   1, 154, 253,\n",
              "         90,   0,   0,   0,   0,   0,   0,   0,   0,   0,   0,   0,   0,\n",
              "          0,   0],\n",
              "       [  0,   0,   0,   0,   0,   0,   0,   0,   0,   0,   0, 139, 253,\n",
              "        190,   2,   0,   0,   0,   0,   0,   0,   0,   0,   0,   0,   0,\n",
              "          0,   0],\n",
              "       [  0,   0,   0,   0,   0,   0,   0,   0,   0,   0,   0,  11, 190,\n",
              "        253,  70,   0,   0,   0,   0,   0,   0,   0,   0,   0,   0,   0,\n",
              "          0,   0],\n",
              "       [  0,   0,   0,   0,   0,   0,   0,   0,   0,   0,   0,   0,  35,\n",
              "        241, 225, 160, 108,   1,   0,   0,   0,   0,   0,   0,   0,   0,\n",
              "          0,   0],\n",
              "       [  0,   0,   0,   0,   0,   0,   0,   0,   0,   0,   0,   0,   0,\n",
              "         81, 240, 253, 253, 119,  25,   0,   0,   0,   0,   0,   0,   0,\n",
              "          0,   0],\n",
              "       [  0,   0,   0,   0,   0,   0,   0,   0,   0,   0,   0,   0,   0,\n",
              "          0,  45, 186, 253, 253, 150,  27,   0,   0,   0,   0,   0,   0,\n",
              "          0,   0],\n",
              "       [  0,   0,   0,   0,   0,   0,   0,   0,   0,   0,   0,   0,   0,\n",
              "          0,   0,  16,  93, 252, 253, 187,   0,   0,   0,   0,   0,   0,\n",
              "          0,   0],\n",
              "       [  0,   0,   0,   0,   0,   0,   0,   0,   0,   0,   0,   0,   0,\n",
              "          0,   0,   0,   0, 249, 253, 249,  64,   0,   0,   0,   0,   0,\n",
              "          0,   0],\n",
              "       [  0,   0,   0,   0,   0,   0,   0,   0,   0,   0,   0,   0,   0,\n",
              "          0,  46, 130, 183, 253, 253, 207,   2,   0,   0,   0,   0,   0,\n",
              "          0,   0],\n",
              "       [  0,   0,   0,   0,   0,   0,   0,   0,   0,   0,   0,   0,  39,\n",
              "        148, 229, 253, 253, 253, 250, 182,   0,   0,   0,   0,   0,   0,\n",
              "          0,   0],\n",
              "       [  0,   0,   0,   0,   0,   0,   0,   0,   0,   0,  24, 114, 221,\n",
              "        253, 253, 253, 253, 201,  78,   0,   0,   0,   0,   0,   0,   0,\n",
              "          0,   0],\n",
              "       [  0,   0,   0,   0,   0,   0,   0,   0,  23,  66, 213, 253, 253,\n",
              "        253, 253, 198,  81,   2,   0,   0,   0,   0,   0,   0,   0,   0,\n",
              "          0,   0],\n",
              "       [  0,   0,   0,   0,   0,   0,  18, 171, 219, 253, 253, 253, 253,\n",
              "        195,  80,   9,   0,   0,   0,   0,   0,   0,   0,   0,   0,   0,\n",
              "          0,   0],\n",
              "       [  0,   0,   0,   0,  55, 172, 226, 253, 253, 253, 253, 244, 133,\n",
              "         11,   0,   0,   0,   0,   0,   0,   0,   0,   0,   0,   0,   0,\n",
              "          0,   0],\n",
              "       [  0,   0,   0,   0, 136, 253, 253, 253, 212, 135, 132,  16,   0,\n",
              "          0,   0,   0,   0,   0,   0,   0,   0,   0,   0,   0,   0,   0,\n",
              "          0,   0],\n",
              "       [  0,   0,   0,   0,   0,   0,   0,   0,   0,   0,   0,   0,   0,\n",
              "          0,   0,   0,   0,   0,   0,   0,   0,   0,   0,   0,   0,   0,\n",
              "          0,   0],\n",
              "       [  0,   0,   0,   0,   0,   0,   0,   0,   0,   0,   0,   0,   0,\n",
              "          0,   0,   0,   0,   0,   0,   0,   0,   0,   0,   0,   0,   0,\n",
              "          0,   0],\n",
              "       [  0,   0,   0,   0,   0,   0,   0,   0,   0,   0,   0,   0,   0,\n",
              "          0,   0,   0,   0,   0,   0,   0,   0,   0,   0,   0,   0,   0,\n",
              "          0,   0]], dtype=uint8)"
            ]
          },
          "execution_count": 41,
          "metadata": {},
          "output_type": "execute_result"
        }
      ],
      "source": [
        "X_train[0]"
      ]
    },
    {
      "cell_type": "code",
      "execution_count": 26,
      "metadata": {
        "colab": {
          "base_uri": "https://localhost:8080/",
          "height": 175
        },
        "id": "CdFJtQUQy0or",
        "outputId": "60846de2-f578-4e03-f48f-10ae5ac329cc"
      },
      "outputs": [
        {
          "data": {
            "image/png": "[encoded data removed]",
            "text/plain": [
              "<Figure size 1080x720 with 15 Axes>"
            ]
          },
          "metadata": {
            "needs_background": "light"
          },
          "output_type": "display_data"
        }
      ],
      "source": [
        "import random\n",
        "fig, ax = plt.subplots(3, 5, figsize=(15, 10))\n",
        "index_list = []\n",
        "\n",
        "for j in range(3):\n",
        "    for i in range(5):\n",
        "        index = random.randint(0, 200)\n",
        "        index_list.append(y_train[index])\n",
        "        ax[j][i].imshow(X_train[index], cmap = \"gray\")\n",
        "        ax[j][i].axis('off')"
      ]
    },
    {
      "cell_type": "code",
      "execution_count": 23,
      "metadata": {
        "colab": {
          "base_uri": "https://localhost:8080/"
        },
        "id": "SLYR6H1brLf6",
        "outputId": "3b5c574b-8916-458d-c40c-affd8f1f5e48"
      },
      "outputs": [
        {
          "data": {
            "text/plain": [
              "[2, 1, 7, 6, 2, 1, 8, 4, 4, 3, 1, 1, 3, 0, 7]"
            ]
          },
          "execution_count": 23,
          "metadata": {},
          "output_type": "execute_result"
        }
      ],
      "source": [
        "# y_train[:5]\n",
        "index_list"
      ]
    },
    {
      "cell_type": "markdown",
      "metadata": {
        "id": "Uqafao750wfc"
      },
      "source": [
        "Но давайте упростим себе задачу и возьмем для обучения только два класса, чтобы сделать задачу бинарной классификации."
      ]
    },
    {
      "cell_type": "code",
      "execution_count": 24,
      "metadata": {
        "id": "k-2c7wJ40UfB"
      },
      "outputs": [],
      "source": [
        "import numpy as np\n",
        "idxs = np.where((y_train == 0) | (y_train == 1))\n"
      ]
    },
    {
      "cell_type": "code",
      "execution_count": 25,
      "metadata": {
        "id": "7mE2dASL0tfI"
      },
      "outputs": [],
      "source": [
        "X_train = X_train[idxs]\n",
        "y_train = y_train[idxs]"
      ]
    },
    {
      "cell_type": "code",
      "execution_count": null,
      "metadata": {
        "colab": {
          "base_uri": "https://localhost:8080/"
        },
        "id": "uf6sxEBK05sv",
        "outputId": "0e64e9f9-bca9-4fa6-a717-82f79d108bd4"
      },
      "outputs": [
        {
          "data": {
            "text/plain": [
              "((12665, 28, 28), (12665,))"
            ]
          },
          "execution_count": 33,
          "metadata": {},
          "output_type": "execute_result"
        }
      ],
      "source": [
        "X_train.shape, y_train.shape"
      ]
    },
    {
      "cell_type": "markdown",
      "metadata": {
        "id": "Uwfrh9Os0_TE"
      },
      "source": [
        "И тоже самое для теста."
      ]
    },
    {
      "cell_type": "code",
      "execution_count": 27,
      "metadata": {
        "colab": {
          "base_uri": "https://localhost:8080/"
        },
        "id": "_aXF2MFw1Avv",
        "outputId": "260ed055-05e7-40cc-e2e5-d0969f9ba887"
      },
      "outputs": [
        {
          "data": {
            "text/plain": [
              "((2115, 28, 28), (2115,))"
            ]
          },
          "execution_count": 27,
          "metadata": {},
          "output_type": "execute_result"
        }
      ],
      "source": [
        "idxs = np.where((y_test == 0) | (y_test == 1))\n",
        "y_test = y_test[idxs]\n",
        "\n",
        "X_test = X_test[idxs]\n",
        "\n",
        "X_test.shape, y_test.shape"
      ]
    },
    {
      "cell_type": "markdown",
      "metadata": {
        "id": "AHTXRcF5-jdc"
      },
      "source": [
        "Убедимся, что теперь у нас только 0, либо 1."
      ]
    },
    {
      "cell_type": "code",
      "execution_count": 28,
      "metadata": {
        "colab": {
          "base_uri": "https://localhost:8080/",
          "height": 175
        },
        "id": "icacSfk21L7E",
        "outputId": "81ccf4e0-7a92-4eef-e765-e5365131319f"
      },
      "outputs": [
        {
          "data": {
            "image/png": "[encoded data removed]",
            "text/plain": [
              "<Figure size 1080x720 with 5 Axes>"
            ]
          },
          "metadata": {
            "needs_background": "light"
          },
          "output_type": "display_data"
        }
      ],
      "source": [
        "fig, ax = plt.subplots(1, 5, figsize=(15, 10))\n",
        "\n",
        "for i in range(5):\n",
        "    ax[i].imshow(X_train[i], cmap='gray')\n",
        "    ax[i].axis('off')"
      ]
    },
    {
      "cell_type": "code",
      "execution_count": 29,
      "metadata": {
        "colab": {
          "base_uri": "https://localhost:8080/"
        },
        "id": "7nEFHn_A1Nar",
        "outputId": "8b918e7b-93eb-4ded-fcd0-7f7f46439ff1"
      },
      "outputs": [
        {
          "data": {
            "text/plain": [
              "array([0, 1, 1, 1, 1], dtype=uint8)"
            ]
          },
          "execution_count": 29,
          "metadata": {},
          "output_type": "execute_result"
        }
      ],
      "source": [
        "y_train[:5]"
      ]
    },
    {
      "cell_type": "markdown",
      "metadata": {
        "id": "gjJV8oXFrLf7"
      },
      "source": [
        "Нормируем данные, сейчас обойдемся без `MinMaxScaler` из `sklearn`, а воспользуемся делением на 255, т.к. сейчас изображения представлены пикселями в диапазоне от 0 до 255, а для нейросети комфортней обучаться на диапазоне от 0 до 1."
      ]
    },
    {
      "cell_type": "code",
      "execution_count": null,
      "metadata": {},
      "outputs": [
        {
          "data": {
            "text/plain": [
              "array([[  0,   0,   0,   0,   0,   0,   0,   0,   0,   0,   0,   0,   0,\n",
              "          0,   0,   0,   0,   0,   0,   0,   0,   0,   0,   0,   0,   0,\n",
              "          0,   0],\n",
              "       [  0,   0,   0,   0,   0,   0,   0,   0,   0,   0,   0,   0,   0,\n",
              "          0,   0,   0,   0,   0,   0,   0,   0,   0,   0,   0,   0,   0,\n",
              "          0,   0],\n",
              "       [  0,   0,   0,   0,   0,   0,   0,   0,   0,   0,   0,   0,   0,\n",
              "          0,   0,   0,   0,   0,   0,   0,   0,   0,   0,   0,   0,   0,\n",
              "          0,   0],\n",
              "       [  0,   0,   0,   0,   0,   0,   0,   0,   0,   0,   0,   0,   0,\n",
              "          0,   0,   0,   0,   0,   0,   0,   0,   0,   0,   0,   0,   0,\n",
              "          0,   0],\n",
              "       [  0,   0,   0,   0,   0,   0,   0,   0,   0,   0,   0,   0,   0,\n",
              "          0,   0,  51, 159, 253, 159,  50,   0,   0,   0,   0,   0,   0,\n",
              "          0,   0],\n",
              "       [  0,   0,   0,   0,   0,   0,   0,   0,   0,   0,   0,   0,   0,\n",
              "          0,  48, 238, 252, 252, 252, 237,   0,   0,   0,   0,   0,   0,\n",
              "          0,   0],\n",
              "       [  0,   0,   0,   0,   0,   0,   0,   0,   0,   0,   0,   0,   0,\n",
              "         54, 227, 253, 252, 239, 233, 252,  57,   6,   0,   0,   0,   0,\n",
              "          0,   0],\n",
              "       [  0,   0,   0,   0,   0,   0,   0,   0,   0,   0,   0,  10,  60,\n",
              "        224, 252, 253, 252, 202,  84, 252, 253, 122,   0,   0,   0,   0,\n",
              "          0,   0],\n",
              "       [  0,   0,   0,   0,   0,   0,   0,   0,   0,   0,   0, 163, 252,\n",
              "        252, 252, 253, 252, 252,  96, 189, 253, 167,   0,   0,   0,   0,\n",
              "          0,   0],\n",
              "       [  0,   0,   0,   0,   0,   0,   0,   0,   0,   0,  51, 238, 253,\n",
              "        253, 190, 114, 253, 228,  47,  79, 255, 168,   0,   0,   0,   0,\n",
              "          0,   0],\n",
              "       [  0,   0,   0,   0,   0,   0,   0,   0,   0,  48, 238, 252, 252,\n",
              "        179,  12,  75, 121,  21,   0,   0, 253, 243,  50,   0,   0,   0,\n",
              "          0,   0],\n",
              "       [  0,   0,   0,   0,   0,   0,   0,   0,  38, 165, 253, 233, 208,\n",
              "         84,   0,   0,   0,   0,   0,   0, 253, 252, 165,   0,   0,   0,\n",
              "          0,   0],\n",
              "       [  0,   0,   0,   0,   0,   0,   0,   7, 178, 252, 240,  71,  19,\n",
              "         28,   0,   0,   0,   0,   0,   0, 253, 252, 195,   0,   0,   0,\n",
              "          0,   0],\n",
              "       [  0,   0,   0,   0,   0,   0,   0,  57, 252, 252,  63,   0,   0,\n",
              "          0,   0,   0,   0,   0,   0,   0, 253, 252, 195,   0,   0,   0,\n",
              "          0,   0],\n",
              "       [  0,   0,   0,   0,   0,   0,   0, 198, 253, 190,   0,   0,   0,\n",
              "          0,   0,   0,   0,   0,   0,   0, 255, 253, 196,   0,   0,   0,\n",
              "          0,   0],\n",
              "       [  0,   0,   0,   0,   0,   0,  76, 246, 252, 112,   0,   0,   0,\n",
              "          0,   0,   0,   0,   0,   0,   0, 253, 252, 148,   0,   0,   0,\n",
              "          0,   0],\n",
              "       [  0,   0,   0,   0,   0,   0,  85, 252, 230,  25,   0,   0,   0,\n",
              "          0,   0,   0,   0,   0,   7, 135, 253, 186,  12,   0,   0,   0,\n",
              "          0,   0],\n",
              "       [  0,   0,   0,   0,   0,   0,  85, 252, 223,   0,   0,   0,   0,\n",
              "          0,   0,   0,   0,   7, 131, 252, 225,  71,   0,   0,   0,   0,\n",
              "          0,   0],\n",
              "       [  0,   0,   0,   0,   0,   0,  85, 252, 145,   0,   0,   0,   0,\n",
              "          0,   0,   0,  48, 165, 252, 173,   0,   0,   0,   0,   0,   0,\n",
              "          0,   0],\n",
              "       [  0,   0,   0,   0,   0,   0,  86, 253, 225,   0,   0,   0,   0,\n",
              "          0,   0, 114, 238, 253, 162,   0,   0,   0,   0,   0,   0,   0,\n",
              "          0,   0],\n",
              "       [  0,   0,   0,   0,   0,   0,  85, 252, 249, 146,  48,  29,  85,\n",
              "        178, 225, 253, 223, 167,  56,   0,   0,   0,   0,   0,   0,   0,\n",
              "          0,   0],\n",
              "       [  0,   0,   0,   0,   0,   0,  85, 252, 252, 252, 229, 215, 252,\n",
              "        252, 252, 196, 130,   0,   0,   0,   0,   0,   0,   0,   0,   0,\n",
              "          0,   0],\n",
              "       [  0,   0,   0,   0,   0,   0,  28, 199, 252, 252, 253, 252, 252,\n",
              "        233, 145,   0,   0,   0,   0,   0,   0,   0,   0,   0,   0,   0,\n",
              "          0,   0],\n",
              "       [  0,   0,   0,   0,   0,   0,   0,  25, 128, 252, 253, 252, 141,\n",
              "         37,   0,   0,   0,   0,   0,   0,   0,   0,   0,   0,   0,   0,\n",
              "          0,   0],\n",
              "       [  0,   0,   0,   0,   0,   0,   0,   0,   0,   0,   0,   0,   0,\n",
              "          0,   0,   0,   0,   0,   0,   0,   0,   0,   0,   0,   0,   0,\n",
              "          0,   0],\n",
              "       [  0,   0,   0,   0,   0,   0,   0,   0,   0,   0,   0,   0,   0,\n",
              "          0,   0,   0,   0,   0,   0,   0,   0,   0,   0,   0,   0,   0,\n",
              "          0,   0],\n",
              "       [  0,   0,   0,   0,   0,   0,   0,   0,   0,   0,   0,   0,   0,\n",
              "          0,   0,   0,   0,   0,   0,   0,   0,   0,   0,   0,   0,   0,\n",
              "          0,   0],\n",
              "       [  0,   0,   0,   0,   0,   0,   0,   0,   0,   0,   0,   0,   0,\n",
              "          0,   0,   0,   0,   0,   0,   0,   0,   0,   0,   0,   0,   0,\n",
              "          0,   0]], dtype=uint8)"
            ]
          },
          "execution_count": 37,
          "metadata": {},
          "output_type": "execute_result"
        }
      ],
      "source": [
        "X_train[0]"
      ]
    },
    {
      "cell_type": "code",
      "execution_count": null,
      "metadata": {
        "colab": {
          "base_uri": "https://localhost:8080/"
        },
        "id": "RADeSMbdrLf7",
        "outputId": "1a1d981c-8311-439d-a8ac-7ad9528c222a"
      },
      "outputs": [
        {
          "name": "stdout",
          "output_type": "stream",
          "text": [
            "0 255\n",
            "0.0 1.0\n"
          ]
        }
      ],
      "source": [
        "print(X_train.min(), X_train.max())\n",
        "\n",
        "X_train = X_train / 255.0\n",
        "X_test = X_test / 255.0\n",
        "\n",
        "print(X_train.min(), X_train.max())"
      ]
    },
    {
      "cell_type": "markdown",
      "metadata": {
        "id": "1J1-UKso2hv-"
      },
      "source": [
        "Так же нужно видоизменить метку класса, сейчас это лейблы 0 или 1, нужно преобразовать в бинарный вид.\n",
        "\n",
        "Тем самым получаем 2 столбика, где первый - это метка является ли изображение 0 классом, а второй столбик - является ли изображение 1 классом."
      ]
    },
    {
      "cell_type": "code",
      "execution_count": 30,
      "metadata": {
        "colab": {
          "base_uri": "https://localhost:8080/"
        },
        "id": "VtEYAHdF2ru5",
        "outputId": "d664a9ef-cdd4-432b-b0f6-4ee51ce303db"
      },
      "outputs": [
        {
          "data": {
            "text/plain": [
              "array([0, 1, 1, 1, 1], dtype=uint8)"
            ]
          },
          "execution_count": 30,
          "metadata": {},
          "output_type": "execute_result"
        }
      ],
      "source": [
        "from keras.utils.np_utils import to_categorical\n",
        "\n",
        "y_train_cat = to_categorical(y_train)\n",
        "y_test_cat = to_categorical(y_test)\n",
        "\n",
        "y_train[:5]"
      ]
    },
    {
      "cell_type": "code",
      "execution_count": 31,
      "metadata": {},
      "outputs": [
        {
          "data": {
            "text/plain": [
              "array([[1., 0.],\n",
              "       [0., 1.],\n",
              "       [0., 1.],\n",
              "       [0., 1.],\n",
              "       [0., 1.]], dtype=float32)"
            ]
          },
          "execution_count": 31,
          "metadata": {},
          "output_type": "execute_result"
        }
      ],
      "source": [
        "y_train_cat[:5]\n"
      ]
    },
    {
      "cell_type": "markdown",
      "metadata": {
        "id": "-oI0t1eC8UWb"
      },
      "source": [
        "А чтобы еще легче обучать сетку поменяем масштаб изображений, сейчас они 28 на 28, сделаем меньше, чтобы нейросеть была легче."
      ]
    },
    {
      "cell_type": "code",
      "execution_count": 32,
      "metadata": {
        "colab": {
          "base_uri": "https://localhost:8080/"
        },
        "id": "XRbxRxLm9ERn",
        "outputId": "b6f1b7f5-0513-4c7c-efeb-990cbd4ca3ab"
      },
      "outputs": [
        {
          "data": {
            "text/plain": [
              "(12665, 28, 28, 1)"
            ]
          },
          "execution_count": 32,
          "metadata": {},
          "output_type": "execute_result"
        }
      ],
      "source": [
        "X_train[..., np.newaxis].shape"
      ]
    },
    {
      "cell_type": "code",
      "execution_count": 33,
      "metadata": {
        "colab": {
          "base_uri": "https://localhost:8080/",
          "height": 175
        },
        "id": "2o6DgMm38KzZ",
        "outputId": "17040a95-6b84-44d7-a954-8efe4325d2b1"
      },
      "outputs": [
        {
          "data": {
            "image/png": "[encoded data removed]",
            "text/plain": [
              "<Figure size 1080x720 with 5 Axes>"
            ]
          },
          "metadata": {
            "needs_background": "light"
          },
          "output_type": "display_data"
        }
      ],
      "source": [
        "import matplotlib.pyplot as plt\n",
        "import tensorflow as tf\n",
        "\n",
        "\n",
        "X_train_resized = tf.image.resize(X_train[..., np.newaxis], (6, 6))\n",
        "X_train_resized = X_train_resized[..., 0]\n",
        "X_test_resized = tf.image.resize(X_test[..., np.newaxis], (6, 6))[..., 0]\n",
        "\n",
        "fig, ax = plt.subplots(1, 5, figsize=(15, 10))\n",
        "\n",
        "for i in range(5):\n",
        "    ax[i].imshow(X_train_resized[i], cmap='gray')\n",
        "    ax[i].axis('off')"
      ]
    },
    {
      "cell_type": "markdown",
      "metadata": {
        "id": "XxFhSXmjrLf7"
      },
      "source": [
        "Для того, что обучить нейронную сеть для любой задачи нужно ответить на три вопроса:\n",
        "1. Какая архитектура сети?\n",
        "2. Что оптимизируем?\n",
        "3. Как обучаем?"
      ]
    },
    {
      "cell_type": "markdown",
      "metadata": {
        "id": "tem4xXz_rLf7"
      },
      "source": [
        "### Какая архитектура сети"
      ]
    },
    {
      "cell_type": "markdown",
      "metadata": {
        "id": "EOWph2CPrLf7"
      },
      "source": [
        "Создадим сеть еще сложнее.\n",
        "\n",
        "Во-первых, на вход поступает изображение 6х6, нужно с ним что-то сделать, так как наша сетку пока не умеет работать с двумерным входом. Здесь нам поможет слой из `keras` `Flatten`, который вытягивает изображение в один вектор, была картинка 6x6, а станет вектором с размерностью 36."
      ]
    },
    {
      "cell_type": "markdown",
      "metadata": {
        "id": "S7zlRbu9BnCh"
      },
      "source": [
        "Была матрица:"
      ]
    },
    {
      "cell_type": "code",
      "execution_count": null,
      "metadata": {
        "colab": {
          "base_uri": "https://localhost:8080/"
        },
        "id": "w8OGZXR0BlAq",
        "outputId": "f95f7ec4-f908-4552-a2a4-b8b5922fa916"
      },
      "outputs": [
        {
          "data": {
            "text/plain": [
              "array([[0.        , 0.        , 0.        , 0.        , 0.        ,\n",
              "        0.        ],\n",
              "       [0.        , 0.        , 0.03594765, 0.9888889 , 0.42941174,\n",
              "        0.        ],\n",
              "       [0.        , 0.00228757, 0.7885626 , 0.        , 0.9901961 ,\n",
              "        0.        ],\n",
              "       [0.        , 0.65588236, 0.        , 0.        , 0.88235307,\n",
              "        0.        ],\n",
              "       [0.        , 0.66078436, 0.5088234 , 0.7235297 , 0.        ,\n",
              "        0.        ],\n",
              "       [0.        , 0.        , 0.        , 0.        , 0.        ,\n",
              "        0.        ]], dtype=float32)"
            ]
          },
          "execution_count": 43,
          "metadata": {},
          "output_type": "execute_result"
        }
      ],
      "source": [
        "X_train_resized[0].numpy()"
      ]
    },
    {
      "cell_type": "code",
      "execution_count": null,
      "metadata": {
        "colab": {
          "base_uri": "https://localhost:8080/"
        },
        "id": "XlAY7TcjBVCT",
        "outputId": "023ce8a6-c4c8-43b9-f1f9-9293270dd0de"
      },
      "outputs": [
        {
          "data": {
            "text/plain": [
              "(6, 6)"
            ]
          },
          "execution_count": 44,
          "metadata": {},
          "output_type": "execute_result"
        }
      ],
      "source": [
        "X_train_resized[0].numpy().shape"
      ]
    },
    {
      "cell_type": "markdown",
      "metadata": {
        "id": "hx2lP21wBpGH"
      },
      "source": [
        "А теперь вектор:"
      ]
    },
    {
      "cell_type": "code",
      "execution_count": null,
      "metadata": {
        "colab": {
          "base_uri": "https://localhost:8080/"
        },
        "id": "Sifs6oRaBmQI",
        "outputId": "e2e3af5a-e7c0-42b1-d1b4-44d19dfb34b0"
      },
      "outputs": [
        {
          "data": {
            "text/plain": [
              "array([0.        , 0.        , 0.        , 0.        , 0.        ,\n",
              "       0.        , 0.        , 0.        , 0.03594765, 0.9888889 ,\n",
              "       0.42941174, 0.        , 0.        , 0.00228757, 0.7885626 ,\n",
              "       0.        , 0.9901961 , 0.        , 0.        , 0.65588236,\n",
              "       0.        , 0.        , 0.88235307, 0.        , 0.        ,\n",
              "       0.66078436, 0.5088234 , 0.7235297 , 0.        , 0.        ,\n",
              "       0.        , 0.        , 0.        , 0.        , 0.        ,\n",
              "       0.        ], dtype=float32)"
            ]
          },
          "execution_count": 45,
          "metadata": {},
          "output_type": "execute_result"
        }
      ],
      "source": [
        "X_train_resized[0].numpy().flatten()"
      ]
    },
    {
      "cell_type": "code",
      "execution_count": null,
      "metadata": {},
      "outputs": [
        {
          "data": {
            "text/plain": [
              "<tf.Tensor: shape=(6, 6), dtype=float32, numpy=\n",
              "array([[0.        , 0.        , 0.        , 0.        , 0.        ,\n",
              "        0.        ],\n",
              "       [0.        , 0.        , 0.03594765, 0.9888889 , 0.42941174,\n",
              "        0.        ],\n",
              "       [0.        , 0.00228757, 0.7885626 , 0.        , 0.9901961 ,\n",
              "        0.        ],\n",
              "       [0.        , 0.65588236, 0.        , 0.        , 0.88235307,\n",
              "        0.        ],\n",
              "       [0.        , 0.66078436, 0.5088234 , 0.7235297 , 0.        ,\n",
              "        0.        ],\n",
              "       [0.        , 0.        , 0.        , 0.        , 0.        ,\n",
              "        0.        ]], dtype=float32)>"
            ]
          },
          "execution_count": 46,
          "metadata": {},
          "output_type": "execute_result"
        }
      ],
      "source": [
        "var = X_train_resized[0]\n",
        "var"
      ]
    },
    {
      "cell_type": "code",
      "execution_count": null,
      "metadata": {
        "colab": {
          "base_uri": "https://localhost:8080/"
        },
        "id": "wT_mBILMBbKO",
        "outputId": "42a6cf7d-8a22-493f-81d8-eeff8c98d78a"
      },
      "outputs": [
        {
          "data": {
            "text/plain": [
              "(36,)"
            ]
          },
          "execution_count": 47,
          "metadata": {},
          "output_type": "execute_result"
        }
      ],
      "source": [
        "X_train_resized[0].numpy().flatten().shape"
      ]
    },
    {
      "cell_type": "markdown",
      "metadata": {
        "id": "NX0Wjec0BUf0"
      },
      "source": [
        "Во-вторых, на выходе не что-то одно, а две вероятности быть или не быть определенным классом.\n",
        "\n",
        "А значит на выходе имеем два нейрона, каждый из которых отвечает за класс."
      ]
    },
    {
      "cell_type": "markdown",
      "metadata": {
        "id": "LxLqY_5NCHy9"
      },
      "source": [
        "<img src='https://drive.google.com/uc?id=1BQbGhOqu8rgv25QbyHe6qljE-koEm103' width=500>"
      ]
    },
    {
      "cell_type": "markdown",
      "metadata": {
        "id": "UI2EmZawrLf8"
      },
      "source": [
        "В-третьих, на выходном слое нужно использовать другую функцию активации, а именно sigmoid, так как она позволяет решать задачу бинарной классификации очень хорошо."
      ]
    },
    {
      "cell_type": "code",
      "execution_count": null,
      "metadata": {
        "colab": {
          "base_uri": "https://localhost:8080/"
        },
        "id": "heddDO5IrLf8",
        "outputId": "223b0c77-7de2-4524-939c-4f9dfdd9dee3"
      },
      "outputs": [
        {
          "name": "stdout",
          "output_type": "stream",
          "text": [
            "Model: \"sequential_4\"\n",
            "_________________________________________________________________\n",
            " Layer (type)                Output Shape              Param #   \n",
            "=================================================================\n",
            " flatten (Flatten)           (None, 36)                0         \n",
            "                                                                 \n",
            " dense_5 (Dense)             (None, 2)                 74        \n",
            "                                                                 \n",
            "=================================================================\n",
            "Total params: 74\n",
            "Trainable params: 74\n",
            "Non-trainable params: 0\n",
            "_________________________________________________________________\n"
          ]
        }
      ],
      "source": [
        "from keras.layers import Flatten, Dense\n",
        "from keras.models import Sequential\n",
        "tf.random.set_seed(9)\n",
        "\n",
        "model = Sequential([\n",
        "    Flatten(input_shape=(6, 6)),\n",
        "    Dense(2, activation='sigmoid')\n",
        "])\n",
        "\n",
        "model.summary()"
      ]
    },
    {
      "cell_type": "markdown",
      "metadata": {
        "id": "0BKwDdZ4rLf9"
      },
      "source": [
        "Считаем количество весов.\n",
        "\n",
        "Для одного нейрона - 36 входов, плюс 1 bias. Для второго нейрона тоже самое.\n",
        "\n",
        "А значит, (36 + 1) * 2 = 74 настраиваемых весов."
      ]
    },
    {
      "cell_type": "markdown",
      "metadata": {
        "id": "3-83o1dhrLf9"
      },
      "source": [
        "### Что оптимизируем\n",
        "\n",
        "У нас задача бинарной классификации, поэтому берем функцию потерь, которая подходит сюда.\n",
        "\n",
        "Это к примеру, бинарная кросс-энтропия.\n",
        "\n",
        "А еще будем считать метрику классификации accuracy, если требуется вспомнить метрики качества для классификации, то советую вам посмотреть данный [плейлист](https://youtube.com/playlist?list=PLkJJmZ1EJno6CLyvD4DHc32Fed6cPBHje).\n",
        "\n",
        "<img src='https://drive.google.com/uc?id=19yZ9EcChO0wMe2bsGrjHS79SlkgeH3Ye'>"
      ]
    },
    {
      "cell_type": "markdown",
      "metadata": {
        "id": "RCpfxN4krLf-"
      },
      "source": [
        "### Как оптимизируем\n",
        "\n",
        "Возьмем тот же самый градиентный спуск со стохастикой."
      ]
    },
    {
      "cell_type": "code",
      "execution_count": null,
      "metadata": {
        "id": "aew4ofQSrLf-"
      },
      "outputs": [],
      "source": [
        "model.compile(optimizer='sgd', loss='binary_crossentropy', metrics='accuracy')"
      ]
    },
    {
      "cell_type": "code",
      "execution_count": null,
      "metadata": {
        "colab": {
          "base_uri": "https://localhost:8080/"
        },
        "id": "WBzBYAchrLf-",
        "outputId": "1462d3a3-885b-4050-d638-66b94cfa6b5f"
      },
      "outputs": [
        {
          "name": "stdout",
          "output_type": "stream",
          "text": [
            "Epoch 1/20\n",
            "396/396 [==============================] - 1s 1ms/step - loss: 0.5990 - accuracy: 0.7764\n",
            "Epoch 2/20\n",
            "396/396 [==============================] - 1s 1ms/step - loss: 0.4666 - accuracy: 0.9200\n",
            "Epoch 3/20\n",
            " 36/396 [=>............................] - ETA: 0s - loss: 0.4132 - accuracy: 0.9497"
          ]
        },
        {
          "name": "stdout",
          "output_type": "stream",
          "text": [
            "396/396 [==============================] - 1s 1ms/step - loss: 0.3861 - accuracy: 0.9550\n",
            "Epoch 4/20\n",
            "396/396 [==============================] - 1s 2ms/step - loss: 0.3320 - accuracy: 0.9664\n",
            "Epoch 5/20\n",
            "396/396 [==============================] - 0s 1ms/step - loss: 0.2934 - accuracy: 0.9701\n",
            "Epoch 6/20\n",
            "396/396 [==============================] - 1s 1ms/step - loss: 0.2645 - accuracy: 0.9724\n",
            "Epoch 7/20\n",
            "396/396 [==============================] - 1s 1ms/step - loss: 0.2420 - accuracy: 0.9736\n",
            "Epoch 8/20\n",
            "396/396 [==============================] - 1s 1ms/step - loss: 0.2240 - accuracy: 0.9746\n",
            "Epoch 9/20\n",
            "396/396 [==============================] - 0s 1ms/step - loss: 0.2093 - accuracy: 0.9758\n",
            "Epoch 10/20\n",
            "396/396 [==============================] - 0s 1ms/step - loss: 0.1969 - accuracy: 0.9764\n",
            "Epoch 11/20\n",
            "396/396 [==============================] - 1s 1ms/step - loss: 0.1864 - accuracy: 0.9771\n",
            "Epoch 12/20\n",
            "396/396 [==============================] - 1s 2ms/step - loss: 0.1773 - accuracy: 0.9774\n",
            "Epoch 13/20\n",
            "396/396 [==============================] - 1s 1ms/step - loss: 0.1694 - accuracy: 0.9780\n",
            "Epoch 14/20\n",
            "396/396 [==============================] - 1s 1ms/step - loss: 0.1624 - accuracy: 0.9784\n",
            "Epoch 15/20\n",
            "396/396 [==============================] - 1s 1ms/step - loss: 0.1562 - accuracy: 0.9785\n",
            "Epoch 16/20\n",
            "396/396 [==============================] - 1s 1ms/step - loss: 0.1506 - accuracy: 0.9790\n",
            "Epoch 17/20\n",
            "396/396 [==============================] - 0s 1ms/step - loss: 0.1456 - accuracy: 0.9795\n",
            "Epoch 18/20\n",
            "396/396 [==============================] - 1s 1ms/step - loss: 0.1411 - accuracy: 0.9799\n",
            "Epoch 19/20\n",
            "396/396 [==============================] - 1s 2ms/step - loss: 0.1369 - accuracy: 0.9799\n",
            "Epoch 20/20\n",
            "396/396 [==============================] - 1s 1ms/step - loss: 0.1331 - accuracy: 0.9805\n",
            "CPU times: total: 16.8 s\n",
            "Wall time: 11.6 s\n"
          ]
        },
        {
          "data": {
            "text/plain": [
              "<keras.callbacks.History at 0x29ccd00b970>"
            ]
          },
          "execution_count": 50,
          "metadata": {},
          "output_type": "execute_result"
        }
      ],
      "source": [
        "%%time\n",
        "model.fit(X_train_resized, y_train_cat, epochs=20)"
      ]
    },
    {
      "cell_type": "markdown",
      "metadata": {
        "id": "9kX47CoHrLf_"
      },
      "source": [
        "Сеть обучается, ошибка падает, метрика становится лучше, всё замечательно.\n",
        "\n",
        "Теперь проверим, а как модель работает на новых данных."
      ]
    },
    {
      "cell_type": "markdown",
      "metadata": {
        "id": "-yMPaO0i92Da"
      },
      "source": [
        "На выходе модель дает 2 вероятности:\n",
        "1. Быть нулевым классом\n",
        "2. Быть первым классом\n",
        "\n",
        "Для выбранного объекта вероятность быть первым классом гораздо выше, чем вероятность быть нулевым классом."
      ]
    },
    {
      "cell_type": "code",
      "execution_count": null,
      "metadata": {
        "colab": {
          "base_uri": "https://localhost:8080/"
        },
        "id": "kj_cxee_rLf_",
        "outputId": "0fb2ede7-c627-4965-89ae-860686a58218"
      },
      "outputs": [
        {
          "name": "stdout",
          "output_type": "stream",
          "text": [
            "Предсказание нейронной сети: \n",
            "1/1 [==============================] - 0s 57ms/step\n"
          ]
        },
        {
          "data": {
            "text/plain": [
              "array([[0.07196505, 0.9385438 ]], dtype=float32)"
            ]
          },
          "execution_count": 51,
          "metadata": {},
          "output_type": "execute_result"
        }
      ],
      "source": [
        "print(\"Предсказание нейронной сети: \")\n",
        "pred = model.predict(X_test_resized[:1])\n",
        "pred"
      ]
    },
    {
      "cell_type": "markdown",
      "metadata": {
        "id": "m6depfQz_KBL"
      },
      "source": [
        "Для того, чтобы выдать финальную метку класса можем взять класс, где максимальная предсказанная вероятность."
      ]
    },
    {
      "cell_type": "code",
      "execution_count": null,
      "metadata": {
        "colab": {
          "base_uri": "https://localhost:8080/"
        },
        "id": "NHyfsh00-8yg",
        "outputId": "0f277503-88ea-45ae-9f65-eb0aaadd4bd3"
      },
      "outputs": [
        {
          "data": {
            "text/plain": [
              "1"
            ]
          },
          "execution_count": 52,
          "metadata": {},
          "output_type": "execute_result"
        }
      ],
      "source": [
        "pred_cls = pred.argmax()\n",
        "pred_cls"
      ]
    },
    {
      "cell_type": "markdown",
      "metadata": {
        "id": "mOP-ZZh5_Q0h"
      },
      "source": [
        "Давайте проверим предсказание визуально."
      ]
    },
    {
      "cell_type": "code",
      "execution_count": null,
      "metadata": {
        "colab": {
          "base_uri": "https://localhost:8080/",
          "height": 281
        },
        "id": "LlYYEi7S-Wb9",
        "outputId": "d4c08b53-00f1-414d-a549-997557f6a955"
      },
      "outputs": [
        {
          "data": {
            "image/png": "[encoded data removed]",
            "text/plain": [
              "<Figure size 432x288 with 1 Axes>"
            ]
          },
          "metadata": {
            "needs_background": "light"
          },
          "output_type": "display_data"
        }
      ],
      "source": [
        "idx = 0\n",
        "plt.imshow(X_test_resized[idx], cmap=\"gray\")\n",
        "plt.title(f'pred {pred_cls}, true {y_test[idx]}');"
      ]
    },
    {
      "cell_type": "markdown",
      "metadata": {
        "id": "j0rlw4pc_T8Z"
      },
      "source": [
        "А это как выглядило изображение до изменения размера."
      ]
    },
    {
      "cell_type": "code",
      "execution_count": null,
      "metadata": {
        "colab": {
          "base_uri": "https://localhost:8080/",
          "height": 281
        },
        "id": "UM2mFmAZ-1QP",
        "outputId": "15667d27-cedb-46f4-ed35-e7ca5c18a364"
      },
      "outputs": [
        {
          "data": {
            "image/png": "[encoded data removed]",
            "text/plain": [
              "<Figure size 432x288 with 1 Axes>"
            ]
          },
          "metadata": {
            "needs_background": "light"
          },
          "output_type": "display_data"
        }
      ],
      "source": [
        "plt.imshow(X_test[idx], cmap=\"gray\")\n",
        "plt.title(f'pred {pred_cls}, true {y_test[idx]}');"
      ]
    },
    {
      "cell_type": "markdown",
      "metadata": {
        "id": "1c9VSeXarLf_"
      },
      "source": [
        "И проверимся на всех обучающих данных.\n",
        "\n",
        "Делаем предсказания на всех тестовых объектах."
      ]
    },
    {
      "cell_type": "code",
      "execution_count": null,
      "metadata": {
        "colab": {
          "base_uri": "https://localhost:8080/"
        },
        "id": "HTPb3vKQrLf_",
        "outputId": "b62b84a8-d3cc-4a08-a0c6-9eaaf64174b0"
      },
      "outputs": [
        {
          "name": "stdout",
          "output_type": "stream",
          "text": [
            "67/67 [==============================] - 0s 1ms/step\n"
          ]
        },
        {
          "data": {
            "text/plain": [
              "array([[0.07196505, 0.9385438 ],\n",
              "       [0.97239983, 0.02248327],\n",
              "       [0.0497918 , 0.9592531 ],\n",
              "       ...,\n",
              "       [0.04455569, 0.9635995 ],\n",
              "       [0.9782436 , 0.0225477 ],\n",
              "       [0.05339822, 0.9562637 ]], dtype=float32)"
            ]
          },
          "execution_count": 55,
          "metadata": {},
          "output_type": "execute_result"
        }
      ],
      "source": [
        "preds = model.predict(X_test_resized)\n",
        "preds"
      ]
    },
    {
      "cell_type": "markdown",
      "metadata": {
        "id": "thIA48Kd_l5I"
      },
      "source": [
        "И берем метку класса, где максимальная вероятность."
      ]
    },
    {
      "cell_type": "code",
      "execution_count": null,
      "metadata": {
        "colab": {
          "base_uri": "https://localhost:8080/"
        },
        "id": "mhO5qjCJhiH_",
        "outputId": "92c28d9a-5396-4dbc-bad2-89fbff4ae073"
      },
      "outputs": [
        {
          "data": {
            "text/plain": [
              "array([1, 0, 1, ..., 1, 0, 1], dtype=int64)"
            ]
          },
          "execution_count": 56,
          "metadata": {},
          "output_type": "execute_result"
        }
      ],
      "source": [
        "preds_cls = preds.argmax(axis=1)\n",
        "preds_cls"
      ]
    },
    {
      "cell_type": "markdown",
      "metadata": {
        "id": "dVhR-hXg_yWN"
      },
      "source": [
        "И можем посчитать метрику качества."
      ]
    },
    {
      "cell_type": "code",
      "execution_count": null,
      "metadata": {
        "colab": {
          "base_uri": "https://localhost:8080/"
        },
        "id": "luDjwHTj_3_M",
        "outputId": "3ff9e590-ea92-4b0a-cb28-42551f800e68"
      },
      "outputs": [
        {
          "name": "stdout",
          "output_type": "stream",
          "text": [
            "test acc: 98.63% (2086 out of 2115)\n"
          ]
        }
      ],
      "source": [
        "from sklearn.metrics import accuracy_score\n",
        "\n",
        "print(f'test acc: {accuracy_score(y_test, preds_cls)*100:.2f}% ({(y_test == preds_cls).sum()} out of {y_test.shape[0]})')"
      ]
    },
    {
      "cell_type": "markdown",
      "metadata": {
        "id": "symBokEiFukt"
      },
      "source": [
        "Вот так вот мы и обучили сетку на задачу классификации.\n",
        "\n",
        "А на самом деле уже обучили целых три нейронных сети за одно занятие."
      ]
    },
    {
      "cell_type": "markdown",
      "metadata": {
        "id": "cKL1g6ILJiNk"
      },
      "source": [
        "## Summary\n",
        "\n",
        "\n",
        "Вот мы и разобрались, как обучается нейронная сеть с помощью `keras`.\n"
      ]
    },
    {
      "cell_type": "markdown",
      "metadata": {
        "id": "jldOYbCAMv9o"
      },
      "source": [
        "<img src='https://media.giphy.com/media/G1ifnX4d5tYFACktp9/giphy.gif' width=300>\n",
        "\n",
        "\n",
        "1. Получаем выборку для обучения\n",
        "    - масштабирование данных (*MinMaxScaler, StandardScaler, /255.0*)\n",
        "    - Resize данных при необходимости\n",
        "    - Для классификации нужно перевести метки классов в бинарное представление  "
      ]
    },
    {
      "cell_type": "markdown",
      "metadata": {
        "id": "niS1K8UPMx8L"
      },
      "source": [
        "<img src='https://media.giphy.com/media/Yj6d4OMmDV3bnYtOow/giphy.gif' width=400>\n",
        "\n",
        "2. Создаем архитектуру\n",
        "    - выбираем количество входов\n",
        "    - выбираем количество слоев\n",
        "    - выбираем количество выходных нейронов\n",
        "    - выбираем функцию активации"
      ]
    },
    {
      "cell_type": "markdown",
      "metadata": {
        "id": "kNEHLHYjNDtZ"
      },
      "source": [
        "<img src='https://media.giphy.com/media/4HrNRdJUZcuJjrjsnY/giphy.gif' width=300>\n",
        "\n",
        "3. Что нужно оптимизировать\n",
        "    - выбор функции потерь\n",
        "    - из стандартных и привычных\n",
        "        - для регрессии - *MSE*\n",
        "        - для классификации - *binary_crossentropy, categorical_crossentropy*\n",
        "4. Как нужно оптимизировать\n",
        "    - выбор оптимизатора\n",
        "    - из стандартных и привычных: *sgd, adam*\n"
      ]
    },
    {
      "cell_type": "markdown",
      "metadata": {
        "id": "sSXSMryMNHyS"
      },
      "source": [
        "<img src='https://media.giphy.com/media/7GHKLedJKRIqEFquo7/giphy-downsized-large.gif' width=300>\n",
        "\n",
        "5. Компиляция модели *.compile()*\n"
      ]
    },
    {
      "cell_type": "markdown",
      "metadata": {
        "id": "GlzmUPbLNJHB"
      },
      "source": [
        "6. Обучение модели *.fit()*"
      ]
    },
    {
      "cell_type": "markdown",
      "metadata": {
        "id": "Mag0xVMAQAXU"
      },
      "source": [
        "."
      ]
    },
    {
      "cell_type": "markdown",
      "metadata": {
        "id": "wbynQKEXNKF1"
      },
      "source": [
        "<img src='https://media.giphy.com/media/gEvab1ilmJjA82FaSV/giphy.gif' width=300>\n",
        "\n",
        "7. Проверка результатов"
      ]
    }
  ],
  "metadata": {
    "colab": {
      "provenance": [],
      "toc_visible": true
    },
    "kernelspec": {
      "display_name": "Python 3",
      "language": "python",
      "name": "python3"
    },
    "language_info": {
      "codemirror_mode": {
        "name": "ipython",
        "version": 3
      },
      "file_extension": ".py",
      "mimetype": "text/x-python",
      "name": "python",
      "nbconvert_exporter": "python",
      "pygments_lexer": "ipython3",
      "version": "3.10.2"
    }
  },
  "nbformat": 4,
  "nbformat_minor": 0
}
