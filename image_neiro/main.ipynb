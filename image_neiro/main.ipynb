{
 "cells": [
  {
   "cell_type": "code",
   "execution_count": 6,
   "metadata": {},
   "outputs": [],
   "source": [
    "import numpy as np\n",
    "import tensorflow as tf\n",
    "from tensorflow.keras.datasets import fashion_mnist\n",
    "from tensorflow.keras.models import Sequential\n",
    "from tensorflow.keras.layers import Dense, Flatten, Conv2D, MaxPooling2D, Dropout\n",
    "from tensorflow.keras.utils import to_categorical\n",
    "from tensorflow.keras.optimizers import Adam\n",
    "import matplotlib.pyplot as plt"
   ]
  },
  {
   "cell_type": "markdown",
   "metadata": {},
   "source": [
    "# Нейросети\n",
    "\n",
    "Существует множество видов нейронных сетей, каждая из которых предназначена для решения определенных типов задач. Вот некоторые из наиболее распространенных типов нейронных сетей и их особенности:\n",
    "\n",
    "1. **Перцептрон:**\n",
    "   Перцептрон является базовым видом нейронной сети и представляет собой однослойную сеть. Он состоит из входных нейронов, выходных нейронов и весов, соединяющих их. Перцептроны могут использоваться для бинарной классификации и линейной регрессии. Однако они ограничены в своей способности выявления сложных зависимостей.\n",
    "\n",
    "2. **Сверточная нейронная сеть (CNN):**\n",
    "   CNN предназначена для обработки изображений и других сеток данных. Она состоит из сверточных слоев, выполняющих операцию свертки для выявления пространственных шаблонов, и пулинговых слоев, уменьшающих размерность данных. CNN хорошо работают с задачами компьютерного зрения, такими как классификация изображений и сегментация объектов.\n",
    "\n",
    "3. **Рекуррентная нейронная сеть (RNN):**\n",
    "   RNN предназначена для работы с последовательными данными, такими как временные ряды, тексты и аудиозаписи. Она имеет циклические связи, позволяющие передавать информацию от предыдущих шагов к текущему. Однако обычные RNN могут столкнуться с проблемой затухающего градиента при обучении на длинных последовательностях.\n",
    "\n",
    "4. **Долгая краткосрочная память (LSTM):**\n",
    "   LSTM - это тип RNN, который разработан для преодоления проблемы затухающего градиента. Он содержит ячейки памяти и механизмы управления, позволяющие модели сохранять и забывать информацию на долгие периоды времени. LSTM часто используются для задач обработки текстов и временных рядов.\n",
    "\n",
    "5. **Сеть долгой краткосрочной памяти (GRU):**\n",
    "   GRU - это альтернатива LSTM, которая также решает проблему затухающего градиента. Она имеет меньше параметров, что может ускорить обучение и уменьшить потребление ресурсов.\n",
    "\n",
    "6. **Сеть глубокого обучения:**\n",
    "   Это общее название для нейронных сетей с более чем одним скрытым слоем. Глубокие сети способны выявлять более сложные иерархические признаки из данных. Виды сетей, такие как глубокие CNN и глубокие полносвязные сети, используются для сложных задач классификации и регрессии.\n",
    "\n",
    "7. **Автокодировщик:**\n",
    "   Автокодировщик - это тип нейронной сети, используемый для изучения компактных представлений данных. Он состоит из энкодера, который сжимает данные в кодированное представление, и декодера, который восстанавливает исходные данные. Автокодировщики используются для снижения размерности, генерации данных и шумоподавления.\n",
    "\n",
    "Это лишь некоторые из множества типов нейронных сетей, доступных для различных задач машинного обучения. Выбор подходящего типа зависит от характеристик ваших данных и конкретной задачи."
   ]
  },
  {
   "cell_type": "markdown",
   "metadata": {},
   "source": [
    "# Загрузка данных"
   ]
  },
  {
   "cell_type": "code",
   "execution_count": 2,
   "metadata": {},
   "outputs": [],
   "source": [
    "(train_images, train_labels), (test_images, test_labels) = fashion_mnist.load_data()"
   ]
  },
  {
   "cell_type": "markdown",
   "metadata": {},
   "source": [
    "# Нормализация значений пикселей к диапазону [0, 1]\n"
   ]
  },
  {
   "cell_type": "code",
   "execution_count": 4,
   "metadata": {},
   "outputs": [],
   "source": [
    "train_images = train_images / 255.0\n",
    "test_images = test_images / 255.0"
   ]
  },
  {
   "cell_type": "markdown",
   "metadata": {},
   "source": [
    "# Преобразование меток в формат one-hot encoding\n"
   ]
  },
  {
   "cell_type": "markdown",
   "metadata": {},
   "source": [
    "Преобразование меток в формат one-hot encoding - это важный этап при подготовке данных для обучения модели классификации. Давайте рассмотрим этот момент подробнее:\n",
    "\n",
    "Зачем это:\n",
    "\n",
    "В задачах многоклассовой классификации, таких как классификация изображений на наборе данных Fashion MNIST, метки классов представляют собой целые числа (например, от 0 до 9), которые обозначают класс, к которому принадлежит каждый объект. Однако, нейронные сети требуют, чтобы метки были представлены в виде векторов, где каждый элемент вектора соответствует одному классу и равен 1, если объект принадлежит этому классу, и 0 в противном случае. Это позволяет сети правильно интерпретировать метки как выходные данные.\n",
    "\n",
    "Что это значит:\n",
    "\n",
    "Представим, что у нас есть метка класса 3. Вместо того чтобы использовать ее напрямую, мы создаем вектор [0, 0, 0, 1, 0, 0, 0, 0, 0, 0], где 1 находится в позиции, соответствующей классу 3. Это означает, что объект принадлежит классу 3.\n",
    "\n",
    "Какие параметры:\n",
    "\n",
    "train_labels и test_labels: Это массивы, содержащие целые числа, представляющие метки классов.\n",
    "\n",
    "num_classes: Это количество классов в задаче. В случае набора данных Fashion MNIST, у нас есть 10 классов (например, футболка, платье, обувь и так далее).\n",
    "\n",
    "Альтернативные значения:\n",
    "\n",
    "Параметры здесь определены явно и не имеют альтернативных значений.\n",
    "\n",
    "Что может поменяться:\n",
    "\n",
    "Если у вас есть задача с другим числом классов, значение num_classes будет отличаться от 10.\n",
    "В некоторых случаях, например, при использовании библиотеки scikit-learn, вы можете встретить подобную функцию, которая преобразует метки в формат one-hot encoding. В этом случае синтаксис может отличаться.\n",
    "Пример:\n",
    "\n",
    "Пусть у нас есть следующие метки классов:\n",
    "\n",
    "train_labels = [3, 2, 0, 1, 4]\n",
    "test_labels = [1, 4, 3, 0, 2]\n",
    "После преобразования в формат one-hot encoding, мы получим:\n",
    "\n",
    "train_labels:\n",
    "\n",
    "[[0, 0, 0, 1, 0, 0, 0, 0, 0, 0],<br>\n",
    " [0, 0, 1, 0, 0, 0, 0, 0, 0, 0],<br>\n",
    " [1, 0, 0, 0, 0, 0, 0, 0, 0, 0],<br>\n",
    " [0, 1, 0, 0, 0, 0, 0, 0, 0, 0],<br>\n",
    " [0, 0, 0, 0, 1, 0, 0, 0, 0, 0]]<br>\n",
    "\n",
    "test_labels:\n",
    "\n",
    "[[0, 1, 0, 0, 0, 0, 0, 0, 0, 0],<br>\n",
    " [0, 0, 0, 0, 1, 0, 0, 0, 0, 0],<br>\n",
    " [0, 0, 0, 1, 0, 0, 0, 0, 0, 0],<br>\n",
    " [1, 0, 0, 0, 0, 0, 0, 0, 0, 0],<br>\n",
    " [0, 0, 1, 0, 0, 0, 0, 0, 0, 0]]<br>\n"
   ]
  },
  {
   "cell_type": "code",
   "execution_count": 5,
   "metadata": {},
   "outputs": [],
   "source": [
    "train_labels = to_categorical(train_labels, num_classes=10)\n",
    "test_labels = to_categorical(test_labels, num_classes=10)"
   ]
  },
  {
   "cell_type": "markdown",
   "metadata": {},
   "source": [
    "# Создание архитектуры нейронной сети\n",
    "\n",
    "Эта архитектура представляет собой сверточную нейронную сеть (CNN) для классификации изображений.\n",
    "\n",
    "Зачем это:\n",
    "\n",
    "Сверточные нейронные сети (CNN) эффективно работают с изображениями, так как они способны выявлять пространственные шаблоны и иерархические признаки. Архитектура, предложенная в коде, состоит из нескольких слоев, каждый из которых выполняет определенные операции для обработки и абстракции признаков изображений.\n",
    "\n",
    "Что это значит:\n",
    "\n",
    "1. Conv2D: Это сверточный слой, который применяет фильтры к входному изображению, чтобы выявить различные пространственные признаки, такие как границы, текстуры и т.д. Первый аргумент (32 или 64) - количество фильтров, activation='relu' - функция активации ReLU.\n",
    "\n",
    "2. MaxPooling2D: Это слой пулинга, который уменьшает размерность изображения, сохраняя наиболее важные информационные фрагменты. Он выполняет операцию максимального пулинга, выбирая максимальное значение из определенной области.\n",
    "\n",
    "3. Flatten: Этот слой преобразует выходные данные из сверточных слоев в плоский вектор, который будет передан в полносвязные слои.\n",
    "\n",
    "4. Dropout: Слой Dropout добавляется для борьбы с переобучением. Здесь 0.5 означает, что случайно выбранные 50% нейронов будут отключены на каждой эпохе обучения.\n",
    "\n",
    "5. Dense: Полносвязный слой, в котором каждый нейрон связан с каждым нейроном предыдущего слоя. В последнем слое используется функция активации Softmax, чтобы получить вероятности принадлежности изображения к каждому классу.\n",
    "\n",
    "Какие параметры:\n",
    "\n",
    "1. Количество фильтров (32 и 64) в сверточных слоях.\n",
    "2. Размер фильтра (3, 3) в сверточных слоях.\n",
    "3. Функция активации activation='relu' в сверточных слоях.\n",
    "4. input_shape=(28, 28, 1): Это размерность входных данных. 28x28 - размер изображения, 1 - количество каналов (в данном случае, один канал, так как изображения черно-белые).\n",
    "Альтернативные значения:\n",
    "\n",
    "Вы можете изменить количество фильтров и размер фильтра в сверточных слоях. Например, Conv2D(16, (5, 5), activation='relu') или Conv2D(128, (3, 3), activation='relu').\n",
    "\n",
    "Можно использовать другие функции активации, например, activation='sigmoid'.\n",
    "\n",
    "MaxPooling2D может использовать другие методы пулинга, например, среднее значение вместо максимального.\n",
    "\n",
    "В полносвязных слоях, вы можете изменить количество нейронов или использовать другие функции активации.\n",
    "\n",
    "Значение Dropout (0.5) можно изменить в зависимости от того, насколько сильно проявляется переобучение.\n",
    "\n",
    "Что может поменяться:\n",
    "\n",
    "1. Изменение параметров может повлиять на способность модели обучаться, скорость обучения и устойчивость к переобучению.\n",
    "\n",
    "2. Изменение размера фильтра может влиять на то, какие пространственные признаки модель сможет выявлять.\n",
    "\n",
    "3. Изменение количества фильтров может влиять на сложность и емкость модели.\n",
    "\n",
    "4. Изменение функций активации может изменить способность модели выявлять нелинейные зависимости.\n",
    "\n",
    "5. Исходя из вашей задачи и доступных ресурсов, вы можете экспериментировать с разными параметрами, чтобы найти наилучшую архитектуру для вашей модели."
   ]
  },
  {
   "cell_type": "code",
   "execution_count": null,
   "metadata": {},
   "outputs": [],
   "source": [
    "# model = Sequential([\n",
    "#     Flatten(input_shape=(28, 28)),   # Преобразование 2D изображения в 1D вектор\n",
    "#     Dense(128, activation='relu'),    # Полносвязный слой с 128 нейронами и функцией активации ReLU\n",
    "#     Dense(10, activation='softmax')   # Выходной слой с 10 нейронами и функцией активации Softmax\n",
    "# ])"
   ]
  },
  {
   "cell_type": "code",
   "execution_count": 7,
   "metadata": {},
   "outputs": [],
   "source": [
    "model = Sequential([\n",
    "    Conv2D(32, (3, 3), activation='relu', input_shape=(28, 28, 1)),\n",
    "    MaxPooling2D((2, 2)),\n",
    "    Conv2D(64, (3, 3), activation='relu'),\n",
    "    MaxPooling2D((2, 2)),\n",
    "    Conv2D(64, (3, 3), activation='relu'),\n",
    "    Flatten(),\n",
    "    Dropout(0.5),\n",
    "    Dense(128, activation='relu'),\n",
    "    Dense(10, activation='softmax')\n",
    "])"
   ]
  },
  {
   "cell_type": "markdown",
   "metadata": {},
   "source": [
    "# Компиляция модели с оптимизатором Adam\n",
    "\n",
    "\n",
    "Зачем это:\n",
    "\n",
    "1. Компиляция модели - это процесс подготовки модели к обучению путем определения нескольких важных аспектов, таких как оптимизатор, функция потерь и метрики. Эти аспекты влияют на то, как модель будет обучаться и как будет оцениваться ее производительность.\n",
    "\n",
    "2. Какие параметры и что они значат:\n",
    "\n",
    "3. optimizer: Этот параметр определяет оптимизатор, который будет использоваться для обновления весов модели в процессе обучения. Здесь мы используем оптимизатор Adam, который является расширением стохастического градиентного спуска и обеспечивает хорошие результаты на многих задачах. Adam(learning_rate=0.001) указывает скорость обучения (learning rate) для оптимизатора.\n",
    "\n",
    "4. loss: Этот параметр определяет функцию потерь, которая будет минимизироваться во время обучения. В данном случае, мы используем категориальную перекрестную энтропию (categorical_crossentropy), так как решаем задачу многоклассовой классификации.\n",
    "\n",
    "5. metrics: Этот параметр определяет список метрик, которые будут оцениваться в процессе обучения. В данном случае, мы оцениваем точность (accuracy), которая показывает, как часто модель правильно классифицирует объекты.\n",
    "\n",
    "Альтернативные значения:\n",
    "\n",
    "1. optimizer: Вместо Adam, можно использовать другие оптимизаторы, такие как SGD (стохастический градиентный спуск), RMSprop и другие. Каждый из них имеет свои параметры, такие как скорость обучения.\n",
    "\n",
    "2. loss: Для разных задач могут использоваться разные функции потерь. Например, в задаче регрессии можно использовать среднеквадратичную ошибку (mean_squared_error).\n",
    "\n",
    "3. metrics: Кроме точности, можно оценивать другие метрики, такие как precision, recall, F1-score и другие, в зависимости от конкретной задачи.\n",
    "\n",
    "Что может поменяться:\n",
    "\n",
    "1. Изменение оптимизатора и скорости обучения может повлиять на скорость сходимости обучения и качество результатов. Разные оптимизаторы могут хорошо себя показывать на разных задачах.\n",
    "\n",
    "2. Изменение функции потерь может изменить, как модель воспринимает ошибки и как она будет их корректировать.\n",
    "\n",
    "3. Изменение метрик может дать более полное представление о производительности модели на задаче, помимо обычной точности.\n",
    "\n",
    "4. Выбор оптимальных параметров компиляции зависит от конкретной задачи, структуры модели и данных. Экспериментируйте с разными параметрами и анализируйте, как они влияют на обучение и результаты."
   ]
  },
  {
   "cell_type": "code",
   "execution_count": 8,
   "metadata": {},
   "outputs": [],
   "source": [
    "\n",
    "model.compile(optimizer=Adam(learning_rate=0.001),\n",
    "              loss='categorical_crossentropy',\n",
    "              metrics=['accuracy'])"
   ]
  },
  {
   "cell_type": "markdown",
   "metadata": {},
   "source": [
    "# Обучение модели"
   ]
  },
  {
   "cell_type": "code",
   "execution_count": 9,
   "metadata": {},
   "outputs": [
    {
     "name": "stdout",
     "output_type": "stream",
     "text": [
      "Epoch 1/20\n",
      "1500/1500 - 23s - loss: 0.6003 - accuracy: 0.7740 - val_loss: 0.3910 - val_accuracy: 0.8538 - 23s/epoch - 16ms/step\n",
      "Epoch 2/20\n",
      "1500/1500 - 28s - loss: 0.3927 - accuracy: 0.8550 - val_loss: 0.3321 - val_accuracy: 0.8764 - 28s/epoch - 18ms/step\n",
      "Epoch 3/20\n",
      "1500/1500 - 20s - loss: 0.3389 - accuracy: 0.8749 - val_loss: 0.2952 - val_accuracy: 0.8903 - 20s/epoch - 13ms/step\n",
      "Epoch 4/20\n",
      "1500/1500 - 22s - loss: 0.3077 - accuracy: 0.8871 - val_loss: 0.2798 - val_accuracy: 0.8978 - 22s/epoch - 15ms/step\n",
      "Epoch 5/20\n",
      "1500/1500 - 30s - loss: 0.2873 - accuracy: 0.8938 - val_loss: 0.2627 - val_accuracy: 0.9010 - 30s/epoch - 20ms/step\n",
      "Epoch 6/20\n",
      "1500/1500 - 25s - loss: 0.2688 - accuracy: 0.9011 - val_loss: 0.2590 - val_accuracy: 0.9020 - 25s/epoch - 17ms/step\n",
      "Epoch 7/20\n",
      "1500/1500 - 20s - loss: 0.2573 - accuracy: 0.9039 - val_loss: 0.2524 - val_accuracy: 0.9046 - 20s/epoch - 13ms/step\n",
      "Epoch 8/20\n",
      "1500/1500 - 19s - loss: 0.2440 - accuracy: 0.9085 - val_loss: 0.2484 - val_accuracy: 0.9084 - 19s/epoch - 13ms/step\n",
      "Epoch 9/20\n",
      "1500/1500 - 18s - loss: 0.2354 - accuracy: 0.9129 - val_loss: 0.2523 - val_accuracy: 0.9102 - 18s/epoch - 12ms/step\n",
      "Epoch 10/20\n",
      "1500/1500 - 19s - loss: 0.2264 - accuracy: 0.9156 - val_loss: 0.2360 - val_accuracy: 0.9133 - 19s/epoch - 12ms/step\n",
      "Epoch 11/20\n",
      "1500/1500 - 19s - loss: 0.2207 - accuracy: 0.9164 - val_loss: 0.2352 - val_accuracy: 0.9131 - 19s/epoch - 13ms/step\n",
      "Epoch 12/20\n",
      "1500/1500 - 19s - loss: 0.2129 - accuracy: 0.9202 - val_loss: 0.2321 - val_accuracy: 0.9171 - 19s/epoch - 13ms/step\n",
      "Epoch 13/20\n",
      "1500/1500 - 20s - loss: 0.2098 - accuracy: 0.9217 - val_loss: 0.2356 - val_accuracy: 0.9176 - 20s/epoch - 13ms/step\n",
      "Epoch 14/20\n",
      "1500/1500 - 21s - loss: 0.1992 - accuracy: 0.9244 - val_loss: 0.2404 - val_accuracy: 0.9159 - 21s/epoch - 14ms/step\n",
      "Epoch 15/20\n",
      "1500/1500 - 22s - loss: 0.1951 - accuracy: 0.9263 - val_loss: 0.2512 - val_accuracy: 0.9102 - 22s/epoch - 15ms/step\n",
      "Epoch 16/20\n",
      "1500/1500 - 20s - loss: 0.1921 - accuracy: 0.9266 - val_loss: 0.2505 - val_accuracy: 0.9085 - 20s/epoch - 13ms/step\n",
      "Epoch 17/20\n",
      "1500/1500 - 20s - loss: 0.1875 - accuracy: 0.9290 - val_loss: 0.2375 - val_accuracy: 0.9172 - 20s/epoch - 13ms/step\n",
      "Epoch 18/20\n",
      "1500/1500 - 21s - loss: 0.1795 - accuracy: 0.9324 - val_loss: 0.2573 - val_accuracy: 0.9118 - 21s/epoch - 14ms/step\n",
      "Epoch 19/20\n",
      "1500/1500 - 21s - loss: 0.1777 - accuracy: 0.9331 - val_loss: 0.2309 - val_accuracy: 0.9183 - 21s/epoch - 14ms/step\n",
      "Epoch 20/20\n",
      "1500/1500 - 32s - loss: 0.1730 - accuracy: 0.9350 - val_loss: 0.2281 - val_accuracy: 0.9183 - 32s/epoch - 21ms/step\n"
     ]
    }
   ],
   "source": [
    "\n",
    "history = model.fit(train_images[..., np.newaxis], train_labels, epochs=20, validation_split=0.2, verbose=2)"
   ]
  },
  {
   "cell_type": "markdown",
   "metadata": {},
   "source": [
    "# Визуализация процесса обучения"
   ]
  },
  {
   "cell_type": "code",
   "execution_count": 18,
   "metadata": {},
   "outputs": [
    {
     "data": {
      "text/plain": [
       "<Figure size 864x288 with 0 Axes>"
      ]
     },
     "execution_count": 18,
     "metadata": {},
     "output_type": "execute_result"
    },
    {
     "data": {
      "text/plain": [
       "<Figure size 864x288 with 0 Axes>"
      ]
     },
     "metadata": {},
     "output_type": "display_data"
    }
   ],
   "source": [
    "\n",
    "plt.figure(figsize=(12, 4))\n"
   ]
  },
  {
   "cell_type": "markdown",
   "metadata": {},
   "source": [
    "# График точности\n"
   ]
  },
  {
   "cell_type": "code",
   "execution_count": 19,
   "metadata": {},
   "outputs": [
    {
     "data": {
      "text/plain": [
       "<matplotlib.legend.Legend at 0x1f00655ef20>"
      ]
     },
     "execution_count": 19,
     "metadata": {},
     "output_type": "execute_result"
    },
    {
     "data": {
      "image/png": "[encoded data removed]",
      "text/plain": [
       "<Figure size 432x288 with 1 Axes>"
      ]
     },
     "metadata": {
      "needs_background": "light"
     },
     "output_type": "display_data"
    }
   ],
   "source": [
    "plt.subplot(1, 2, 1)\n",
    "plt.plot(history.history['accuracy'], label='Точность на обучающих данных')\n",
    "plt.plot(history.history['val_accuracy'], label='Точность на валидационных данных')\n",
    "plt.xlabel('Эпохи')\n",
    "plt.ylabel('Точность')\n",
    "plt.legend()\n",
    "\n"
   ]
  },
  {
   "cell_type": "markdown",
   "metadata": {},
   "source": [
    "# График функции потерь\n"
   ]
  },
  {
   "cell_type": "code",
   "execution_count": 20,
   "metadata": {},
   "outputs": [
    {
     "data": {
      "text/plain": [
       "<matplotlib.legend.Legend at 0x1f0065b35b0>"
      ]
     },
     "execution_count": 20,
     "metadata": {},
     "output_type": "execute_result"
    },
    {
     "data": {
      "image/png": "[encoded data removed]",
      "text/plain": [
       "<Figure size 432x288 with 1 Axes>"
      ]
     },
     "metadata": {
      "needs_background": "light"
     },
     "output_type": "display_data"
    }
   ],
   "source": [
    "plt.subplot(1, 2, 2)\n",
    "plt.plot(history.history['loss'], label='Потери на обучающих данных')\n",
    "plt.plot(history.history['val_loss'], label='Потери на валидационных данных')\n",
    "plt.xlabel('Эпохи')\n",
    "plt.ylabel('Потери')\n",
    "plt.legend()\n"
   ]
  },
  {
   "cell_type": "code",
   "execution_count": 21,
   "metadata": {},
   "outputs": [],
   "source": [
    "plt.show()"
   ]
  },
  {
   "cell_type": "markdown",
   "metadata": {},
   "source": [
    "# Оценка модели на тестовых данных\n",
    "\n",
    "Этот код относится к фазе оценки модели на тестовых данных после ее обучения. Давайте разберем каждый аспект:\n",
    "\n",
    "Зачем это:\n",
    "\n",
    "1. Оценка модели на тестовых данных позволяет оценить ее производительность на независимом наборе данных, которые модель ранее не видела во время обучения. Это помогает определить, насколько хорошо модель обобщает и как она будет себя вести на новых, реальных данных.\n",
    "\n",
    "Какие параметры и что они значат:\n",
    "\n",
    "1. test_images[..., np.newaxis]: Здесь мы добавляем новую размерность к тестовым изображениям. Это необходимо, так как модель ожидает входные данные в формате (количество_изображений, высота, ширина, количество_каналов), а у нас изображения в формате (количество_изображений, высота, ширина). Добавление новой оси преобразует данные в нужный формат.\n",
    "\n",
    "2. test_labels: Метки классов для тестовых данных.\n",
    "\n",
    "3. verbose=2: Этот параметр контролирует уровень вывода во время оценки модели. Значение 2 означает более подробный вывод.\n",
    "\n",
    "4. test_loss: Здесь будет сохранено значение функции потерь модели на тестовых данных.\n",
    "\n",
    "5. test_accuracy: Здесь будет сохранено значение точности модели на тестовых данных.\n",
    "\n",
    "Альтернативные значения:\n",
    "\n",
    "1. Вы можете использовать другие метрики для оценки модели, помимо функции потерь и точности. Например, вы можете измерить precision, recall, F1-score и другие, в зависимости от целей задачи.\n",
    "Что может поменяться:\n",
    "\n",
    "2. Если вы хотите оценить модель на другом наборе данных, вам нужно будет заменить test_images и test_labels на новые данные.\n",
    "\n",
    "3. Изменение параметра verbose позволит вам настроить уровень подробности вывода при оценке модели.\n",
    "\n",
    "Вывод точности на тестовых данных помогает понять, как хорошо модель производит классификацию на новых данных, которые она ранее не видела. Это важный шаг для оценки производительности модели и дальнейшего принятия решений о ее использовании или настройке."
   ]
  },
  {
   "cell_type": "code",
   "execution_count": 22,
   "metadata": {},
   "outputs": [
    {
     "name": "stdout",
     "output_type": "stream",
     "text": [
      "313/313 - 2s - loss: 0.2452 - accuracy: 0.9147 - 2s/epoch - 5ms/step\n",
      "Точность на тестовых данных: 0.9147\n"
     ]
    }
   ],
   "source": [
    "\n",
    "test_loss, test_accuracy = model.evaluate(test_images[..., np.newaxis], test_labels, verbose=2)\n",
    "print(f\"Точность на тестовых данных: {test_accuracy:.4f}\")"
   ]
  },
  {
   "cell_type": "markdown",
   "metadata": {},
   "source": [
    "# Что дальше\n",
    "\n",
    "Дальше мы рассмотрить создание нейросетей для регрессии. Для примера мы будем использовать датасет с домами"
   ]
  }
 ],
 "metadata": {
  "kernelspec": {
   "display_name": "Python 3",
   "language": "python",
   "name": "python3"
  },
  "language_info": {
   "codemirror_mode": {
    "name": "ipython",
    "version": 3
   },
   "file_extension": ".py",
   "mimetype": "text/x-python",
   "name": "python",
   "nbconvert_exporter": "python",
   "pygments_lexer": "ipython3",
   "version": "3.10.2"
  },
  "orig_nbformat": 4
 },
 "nbformat": 4,
 "nbformat_minor": 2
}
