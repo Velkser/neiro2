{
  "cells": [
    {
      "cell_type": "markdown",
      "metadata": {
        "id": "y1FWR90xxpSl"
      },
      "source": [
        "# Функции активации\n",
        "\n"
      ]
    },
    {
      "cell_type": "markdown",
      "metadata": {
        "id": "lsgGTfpbH4-M"
      },
      "source": [
        "Сегодня обсудим:\n",
        "1. Какие есть функции активации нейронов (Sigmoid, ReLU, ELU, Leaky ReLU...)\n",
        "2. Плюсы каждой функции активации\n",
        "3. Минусы каждой функции активации\n",
        "4. Как написать свою функцию активации"
      ]
    },
    {
      "cell_type": "markdown",
      "metadata": {
        "id": "Pr1-IHkeQYpT"
      },
      "source": [
        "## Для чего нужны?"
      ]
    },
    {
      "cell_type": "markdown",
      "metadata": {
        "id": "fGVPLAmJXidO"
      },
      "source": [
        "<img src='https://drive.google.com/uc?id=1gF12si7S9po9bBfJ9Q7bfmM5v55vi3tE'>\n",
        "\n",
        "Наш нейрон из себя представляет взвешенную сумму:\n",
        "\n",
        "$$y = \\sum{XW} + bias$$\n",
        "\n",
        "И значение $y$ может изменяться от $-∞$ до $+∞$. И значит *всегда* этот нейрон будет пропускать через себя сигнал. У него **нет границы** активации.\n",
        "\n",
        "А если вспомним биологический нейрон, то чтобы нейрон активировался (пропустил информацию дальше), нужно поднакопить необходимый сигнал. А значит, раз искусственный нейрон основан на биологическом нейроне, то и **активировать** его мы будем должным образом.\n",
        "\n",
        "И поможет нам в этом фукнция активации. Ее задача заключается в том, чтобы проверять, является ли нейрон активированным, или его можно проигнорировать."
      ]
    },
    {
      "cell_type": "markdown",
      "metadata": {
        "id": "8XAJ86DF6BZM"
      },
      "source": [
        "## Основная задача на сегодня"
      ]
    },
    {
      "cell_type": "code",
      "execution_count": 1,
      "metadata": {
        "id": "I55u4X-J5kzo"
      },
      "outputs": [],
      "source": [
        "from keras.datasets import fashion_mnist\n",
        "\n",
        "(X_train, y_train_labels), (X_test, y_test_labels) = fashion_mnist.load_data()"
      ]
    },
    {
      "cell_type": "code",
      "execution_count": 2,
      "metadata": {
        "id": "rs1KRcox5-j5"
      },
      "outputs": [],
      "source": [
        "class_names = ['T-shirt/top',\n",
        "               'Trouser',\n",
        "               'Pullover',\n",
        "               'Dress',\n",
        "               'Coat',\n",
        "               'Sandal',\n",
        "               'Shirt',\n",
        "               'Sneaker',\n",
        "               'Bag',\n",
        "               'Ankle boot']"
      ]
    },
    {
      "cell_type": "code",
      "execution_count": 4,
      "metadata": {},
      "outputs": [
        {
          "data": {
            "text/plain": [
              "'Ankle boot'"
            ]
          },
          "execution_count": 4,
          "metadata": {},
          "output_type": "execute_result"
        }
      ],
      "source": [
        "class_names[9]"
      ]
    },
    {
      "cell_type": "code",
      "execution_count": 3,
      "metadata": {
        "colab": {
          "base_uri": "https://localhost:8080/"
        },
        "id": "Nn44i7HiKvh7",
        "outputId": "40b91f8a-ff2a-4bcf-8eb3-0b2d1e668d53"
      },
      "outputs": [
        {
          "data": {
            "text/plain": [
              "array([9, 0, 0, ..., 3, 0, 5], dtype=uint8)"
            ]
          },
          "execution_count": 3,
          "metadata": {},
          "output_type": "execute_result"
        }
      ],
      "source": [
        "y_train_labels"
      ]
    },
    {
      "cell_type": "code",
      "execution_count": 5,
      "metadata": {
        "id": "wIKT6m7a5owt"
      },
      "outputs": [],
      "source": [
        "from keras.utils.np_utils import to_categorical\n",
        "\n",
        "y_train = to_categorical(y_train_labels)\n",
        "y_test = to_categorical(y_test_labels)"
      ]
    },
    {
      "cell_type": "code",
      "execution_count": 6,
      "metadata": {
        "colab": {
          "base_uri": "https://localhost:8080/"
        },
        "id": "ECGVyWpsKyvC",
        "outputId": "548b7066-3fcf-4568-a117-2264b64114de"
      },
      "outputs": [
        {
          "data": {
            "text/plain": [
              "array([[0., 0., 0., ..., 0., 0., 1.],\n",
              "       [1., 0., 0., ..., 0., 0., 0.],\n",
              "       [1., 0., 0., ..., 0., 0., 0.],\n",
              "       ...,\n",
              "       [0., 0., 0., ..., 0., 0., 0.],\n",
              "       [1., 0., 0., ..., 0., 0., 0.],\n",
              "       [0., 0., 0., ..., 0., 0., 0.]], dtype=float32)"
            ]
          },
          "execution_count": 6,
          "metadata": {},
          "output_type": "execute_result"
        }
      ],
      "source": [
        "y_train"
      ]
    },
    {
      "cell_type": "code",
      "execution_count": 7,
      "metadata": {
        "colab": {
          "base_uri": "https://localhost:8080/",
          "height": 265
        },
        "id": "Z99r-_Nr5uIE",
        "outputId": "5c626ed0-1b6a-473e-f14d-13048a38b3fb"
      },
      "outputs": [
        {
          "data": {
            "image/png": "[encoded data removed]",
            "text/plain": [
              "<Figure size 432x288 with 2 Axes>"
            ]
          },
          "metadata": {
            "needs_background": "light"
          },
          "output_type": "display_data"
        }
      ],
      "source": [
        "import matplotlib.pyplot as plt\n",
        "\n",
        "plt.figure()\n",
        "plt.imshow(X_train[0], cmap='gray')\n",
        "plt.colorbar()\n",
        "plt.show()"
      ]
    },
    {
      "cell_type": "markdown",
      "metadata": {
        "id": "SlP4NjHJ50CX"
      },
      "source": [
        "Нормализуем данные, из диапазона от 0 до 255 переводим в диапазон от 0 до 1."
      ]
    },
    {
      "cell_type": "code",
      "execution_count": 8,
      "metadata": {
        "id": "aV8OSFXO55QI"
      },
      "outputs": [],
      "source": [
        "X_train = X_train / 255.0\n",
        "X_test = X_test / 255.0"
      ]
    },
    {
      "cell_type": "markdown",
      "metadata": {
        "id": "uZVWYh54R3gp"
      },
      "source": [
        "## Какие бывают функции активации?\n",
        "\n",
        "\n"
      ]
    },
    {
      "cell_type": "markdown",
      "metadata": {
        "id": "4k6swcWLfRzt"
      },
      "source": [
        "### Линейная функция\n",
        "\n",
        "$$A(x) = x$$\n",
        "\n",
        "Линейная функция представляет собой прямую линию и она пропорциональна входу."
      ]
    },
    {
      "cell_type": "code",
      "execution_count": 9,
      "metadata": {
        "colab": {
          "base_uri": "https://localhost:8080/",
          "height": 404
        },
        "id": "W5p81P4bg51j",
        "outputId": "c29b1b52-2438-4f50-97f0-d4ff5390ebc0"
      },
      "outputs": [
        {
          "data": {
            "image/png": "[encoded data removed]",
            "text/plain": [
              "<Figure size 576x432 with 1 Axes>"
            ]
          },
          "metadata": {
            "needs_background": "light"
          },
          "output_type": "display_data"
        }
      ],
      "source": [
        "from keras.activations import linear\n",
        "import matplotlib.pyplot as plt\n",
        "import numpy as np\n",
        "\n",
        "\n",
        "x = np.linspace(-10, 10, 100)\n",
        "y = linear(x)\n",
        "\n",
        "plt.figure(figsize=(8, 6))\n",
        "plt.plot(x, y, c='b', label='activation')\n",
        "plt.ylabel('output')\n",
        "plt.xlabel('input')\n",
        "plt.title('linear')\n",
        "plt.legend()\n",
        "plt.grid();"
      ]
    },
    {
      "cell_type": "markdown",
      "metadata": {
        "id": "txcNIApJiF3l"
      },
      "source": [
        "\n",
        "Производная такой функции по $x$ равняется:\n",
        "\n",
        "$$\\frac{∂A}{∂x} = 1$$"
      ]
    },
    {
      "cell_type": "code",
      "execution_count": null,
      "metadata": {
        "colab": {
          "base_uri": "https://localhost:8080/",
          "height": 404
        },
        "id": "yP6VaGN9iC3B",
        "outputId": "dda10b4c-caca-400f-cd0b-52206b2f6d1a"
      },
      "outputs": [
        {
          "data": {
            "image/png": "[encoded data removed]",
            "text/plain": [
              "<Figure size 576x432 with 1 Axes>"
            ]
          },
          "metadata": {
            "needs_background": "light"
          },
          "output_type": "display_data"
        }
      ],
      "source": [
        "x = np.linspace(-10, 10, 100)\n",
        "y = linear(x)\n",
        "\n",
        "grad_y = np.ones_like(x)\n",
        "\n",
        "plt.figure(figsize=(8, 6))\n",
        "plt.plot(x, y, c='b', label='activation')\n",
        "plt.plot(x, grad_y, c='g', label='grad')\n",
        "plt.ylabel('output')\n",
        "plt.xlabel('input')\n",
        "plt.title('linear')\n",
        "plt.legend()\n",
        "plt.grid();"
      ]
    },
    {
      "cell_type": "markdown",
      "metadata": {
        "id": "mfAvJISrg6n7"
      },
      "source": [
        "#### Первая проблема\n",
        "\n",
        "Для этой функции производная всегда одинакова в любой точке.\n",
        "\n",
        "А это значит, что градиент никак не связан с входом ($x$). Градиент - постоянный вектор, а спуск идет по **постоянному** градиенту. Если есть ошибочное предсказание, то изменения, сделанные обратным распространением ошибки, тоже постоянны вне зависимости от входа."
      ]
    },
    {
      "cell_type": "markdown",
      "metadata": {
        "id": "d9UDd0y8TbJV"
      },
      "source": [
        "Чтобы это проверить, создадим обучающие данные, будем обучать нейронную сеть на воспроизведение входа."
      ]
    },
    {
      "cell_type": "code",
      "execution_count": null,
      "metadata": {
        "id": "aMwK0J81-AJ9"
      },
      "outputs": [],
      "source": [
        "import numpy as np\n",
        "\n",
        "X = np.array([[1], [3], [2]])\n",
        "y = np.array([[1, 3, 2]]).T"
      ]
    },
    {
      "cell_type": "markdown",
      "metadata": {
        "id": "AzQVJ42byNkG"
      },
      "source": [
        "Сделаем один линейные слой с линейной активацией и уберем свободный вес."
      ]
    },
    {
      "cell_type": "code",
      "execution_count": 15,
      "metadata": {
        "colab": {
          "base_uri": "https://localhost:8080/"
        },
        "id": "c6UWgSx29ohw",
        "outputId": "a8bbe6a1-4356-4eb1-d749-2bf5bfea75cf"
      },
      "outputs": [
        {
          "name": "stdout",
          "output_type": "stream",
          "text": [
            "Model: \"sequential\"\n",
            "_________________________________________________________________\n",
            " Layer (type)                Output Shape              Param #   \n",
            "=================================================================\n",
            " dense (Dense)               (None, 1)                 1         \n",
            "                                                                 \n",
            "=================================================================\n",
            "Total params: 1\n",
            "Trainable params: 1\n",
            "Non-trainable params: 0\n",
            "_________________________________________________________________\n"
          ]
        }
      ],
      "source": [
        "from keras.layers import Dense\n",
        "from keras.models import Sequential\n",
        "import tensorflow as tf\n",
        "tf.random.set_seed(1)\n",
        "\n",
        "\n",
        "model = Sequential([\n",
        "    Dense(1, input_shape=(1,), activation='linear', use_bias=False),\n",
        "])\n",
        "\n",
        "model.summary()"
      ]
    },
    {
      "cell_type": "code",
      "execution_count": null,
      "metadata": {
        "colab": {
          "base_uri": "https://localhost:8080/"
        },
        "id": "RVyCuttxsvQN",
        "outputId": "2dc7613e-5f92-4676-803d-3aa3c2d44abd"
      },
      "outputs": [
        {
          "data": {
            "text/plain": [
              "[array([[-1.1600207]], dtype=float32)]"
            ]
          },
          "execution_count": 18,
          "metadata": {},
          "output_type": "execute_result"
        }
      ],
      "source": [
        "model.get_weights()"
      ]
    },
    {
      "cell_type": "markdown",
      "metadata": {
        "id": "p7amuc24yVtj"
      },
      "source": [
        "Будем следить за градиентами на очень низком уровне, для этого нам потребуется объект из tensorflow `GradientTape`, который записывает градиенты."
      ]
    },
    {
      "cell_type": "code",
      "execution_count": null,
      "metadata": {
        "colab": {
          "base_uri": "https://localhost:8080/"
        },
        "id": "MWW4M4PYmXtg",
        "outputId": "c714e962-ffd2-4a57-cfd8-a0ed16e86662"
      },
      "outputs": [
        {
          "name": "stdout",
          "output_type": "stream",
          "text": [
            "Prediction is [[-1.1600207]] True is [1]\n",
            "Loss is [4.66569]\n",
            "Grad are tf.Tensor([[[-0.925917]]], shape=(1, 1, 1), dtype=float32)\n",
            "________________________________________\n",
            "Prediction is [[-3.480062]] True is [3]\n",
            "Loss is [41.991203]\n",
            "Grad are tf.Tensor([[[-0.925917]]], shape=(1, 1, 1), dtype=float32)\n",
            "________________________________________\n",
            "Prediction is [[-2.3200414]] True is [2]\n",
            "Loss is [18.66276]\n",
            "Grad are tf.Tensor([[[-0.925917]]], shape=(1, 1, 1), dtype=float32)\n",
            "________________________________________\n"
          ]
        }
      ],
      "source": [
        "from keras.losses import MSE\n",
        "\n",
        "\n",
        "for i in range(3):\n",
        "    with tf.GradientTape() as tape:\n",
        "        pred = model(X[i])\n",
        "        print('Prediction is', pred.numpy(), 'True is', y[i])\n",
        "\n",
        "        loss_value = MSE(y[i], pred)\n",
        "        print('Loss is', loss_value.numpy())\n",
        "\n",
        "        grads = tape.gradient(loss_value, model.trainable_weights)\n",
        "        print('Grad are', grads / loss_value)\n",
        "        print('_' * 40)"
      ]
    },
    {
      "cell_type": "markdown",
      "metadata": {
        "id": "nr6rBWv4hAU0"
      },
      "source": [
        "#### Вторая проблема\n",
        "\n",
        "\n",
        "<img src='https://drive.google.com/uc?id=1pLd9DW7HxfcxoXyS3mRaENS8ugpxeSou' width=800>\n",
        "\n",
        "\n",
        "Раз каждый слой активируется линейной функцией, то в следующий слой пойдет линейная связь от входа. В другом слое получаем линейную комбинацию, прогоняем через линейную активацию и дальше.\n",
        "\n",
        "Нет разницы, сколько у нас слоев. Ведь финальная функция активации в последнем слое будет просто линейной функцией от входных параметров на первом слое.\n",
        "\n",
        "Значит, любое количество слоев можно заменить одним. Больше нет смысла ставить подряд слои с линейной активацией.\n",
        "\n"
      ]
    },
    {
      "cell_type": "markdown",
      "metadata": {
        "id": "sesjAUrq12LE"
      },
      "source": [
        "### Сигмоида\n",
        "\n",
        "Сигмоида - одна из самых частых активационных функций в нейросетях.\n",
        "\n",
        "\n",
        "$$A(x) = \\frac{1}{1 + e^{-x}}$$\n",
        "\n",
        "\n",
        "**Преимущества:**\n",
        "1. Сигмоида — **нелинейная функция**, а комбинация таких функций производит тоже нелинейную функцию. А значит проблема линейной функция здесь неактуальна, мы можем обучать подряд **много слоев** и это будет иметь смысл.\n",
        "2. В диапазоне значений сигнала от -2.5 до 2.5 значения активации меняются очень быстро. А значит, что любое изменение значения сигнала в этой области повлечет существенное изменение значения активации.\n",
        "3. Сигмоида идеально подходит для задач **бинарной классификации**. Она стремится привести значения к одной из сторон кривой, по итогу получаем четкие границы предсказания\n",
        "4. У сигмоиды фиксированный диапазон значений функции — [0,1], а линейная функция обладает диапазоном ($-∞$, $+∞$). А значит в случае с сигмоидой **не будет ошибок** с большими значениями активаций\n",
        "\n",
        "\n"
      ]
    },
    {
      "cell_type": "code",
      "execution_count": null,
      "metadata": {
        "colab": {
          "base_uri": "https://localhost:8080/",
          "height": 404
        },
        "id": "N_5FTMfa2FIq",
        "outputId": "91204cd5-42e0-4db0-d934-9127c9aa52c1"
      },
      "outputs": [
        {
          "data": {
            "image/png": "[encoded data removed]",
            "text/plain": [
              "<Figure size 576x432 with 1 Axes>"
            ]
          },
          "metadata": {
            "needs_background": "light"
          },
          "output_type": "display_data"
        }
      ],
      "source": [
        "from keras.activations import sigmoid\n",
        "\n",
        "\n",
        "x = np.linspace(-10, 10, 100)\n",
        "y = sigmoid(x)\n",
        "\n",
        "plt.figure(figsize=(8, 6))\n",
        "plt.plot(x, y, c='b', label='activation')\n",
        "plt.ylabel('output')\n",
        "plt.xlabel('input')\n",
        "plt.title('sigmoid')\n",
        "plt.legend()\n",
        "plt.grid();"
      ]
    },
    {
      "cell_type": "markdown",
      "metadata": {
        "id": "iDIBOvMq2FIs"
      },
      "source": [
        "Производная сигмоиды\n",
        "\n",
        "$$\\sigma(z) = \\frac{1}{1 + exp(-z)}$$\n",
        "\n",
        "$$\\frac{d\\sigma(z)}{dz} = -\\frac{1}{(1 + exp(-z))^2}(-exp(-z)) = \\frac{exp(-z)}{(1 + exp(-z))^2} \\text{(*)} = \\frac{1}{1 + exp(-z)}(1-\\frac{1}{1 + exp(-z)}) = \\sigma(1-\\sigma)$$\n",
        "\n",
        "$ (*)\\frac{exp(-z) +1-1}{(1 + exp(-z))^2} = \\frac{1 + exp(-z) -1}{(1 + exp(-z))^2}= \\frac{1 + exp(-z)}{(1 + exp(-z))^2} - \\frac{1}{(1 + exp(-z))^2}=$\n",
        "\n",
        "$ = \\frac{1}{(1 + exp(-z))} - \\frac{1}{(1 + exp(-z))}\\frac{1}{(1 + exp(-z))} = \\frac{1}{(1 + exp(-z))}(1- \\frac{1}{(1 + exp(-z))}) $"
      ]
    },
    {
      "cell_type": "code",
      "execution_count": 10,
      "metadata": {
        "id": "g1BDRq1r2Smt"
      },
      "outputs": [],
      "source": [
        "def sigmoid_grad(x):\n",
        "    return sigmoid(x) * (1 - sigmoid(x))"
      ]
    },
    {
      "cell_type": "code",
      "execution_count": 12,
      "metadata": {
        "colab": {
          "base_uri": "https://localhost:8080/",
          "height": 404
        },
        "id": "TfTVrYhH2FIt",
        "outputId": "6ac8be58-db84-4cd5-ecc7-acae12eeefd2"
      },
      "outputs": [
        {
          "data": {
            "image/png": "[encoded data removed]",
            "text/plain": [
              "<Figure size 576x432 with 1 Axes>"
            ]
          },
          "metadata": {
            "needs_background": "light"
          },
          "output_type": "display_data"
        }
      ],
      "source": [
        "from keras.activations import sigmoid\n",
        "\n",
        "x = np.linspace(-10, 10, 100)\n",
        "y = sigmoid(x)\n",
        "\n",
        "grad_y = sigmoid_grad(x)\n",
        "\n",
        "plt.figure(figsize=(8, 6))\n",
        "plt.plot(x, y, c='b', label='activation')\n",
        "plt.plot(x, grad_y, c='g', label='grad')\n",
        "plt.ylabel('output')\n",
        "plt.xlabel('input')\n",
        "plt.title('sigmoid')\n",
        "plt.legend()\n",
        "plt.grid();"
      ]
    },
    {
      "cell_type": "code",
      "execution_count": null,
      "metadata": {
        "colab": {
          "base_uri": "https://localhost:8080/"
        },
        "id": "eP9bKQdaQJwt",
        "outputId": "e3c289d6-8d42-4f63-e24e-bafa9ed3821c"
      },
      "outputs": [
        {
          "data": {
            "text/plain": [
              "9.765625e-07"
            ]
          },
          "execution_count": 30,
          "metadata": {},
          "output_type": "execute_result"
        }
      ],
      "source": [
        "0.25 ** 5 * 0.001"
      ]
    },
    {
      "cell_type": "markdown",
      "metadata": {
        "id": "4fmXMtLo1_cZ"
      },
      "source": [
        "#### Проблема\n",
        "\n",
        "При приближении к концам сигмоиды значения активации очень слабо изменяются. Это означает, что градиент в таких областях имеет очень мальнькие значения. А из-за этого рождается проблема **затухающих градиентов**\n",
        "\n",
        "Градиент получается настолько маленьким или же вообще нулевым, что обучение замораживается или же идет очень медленно."
      ]
    },
    {
      "cell_type": "code",
      "execution_count": 16,
      "metadata": {
        "colab": {
          "base_uri": "https://localhost:8080/"
        },
        "id": "uExVUIqH6IzY",
        "outputId": "e4377155-e61c-47e0-970e-16dbfc5f3f6b"
      },
      "outputs": [
        {
          "name": "stdout",
          "output_type": "stream",
          "text": [
            "Model: \"sequential_1\"\n",
            "_________________________________________________________________\n",
            " Layer (type)                Output Shape              Param #   \n",
            "=================================================================\n",
            " flatten (Flatten)           (None, 784)               0         \n",
            "                                                                 \n",
            " dense_1 (Dense)             (None, 128)               100480    \n",
            "                                                                 \n",
            " dense_2 (Dense)             (None, 64)                8256      \n",
            "                                                                 \n",
            " dense_3 (Dense)             (None, 32)                2080      \n",
            "                                                                 \n",
            " dense_4 (Dense)             (None, 16)                528       \n",
            "                                                                 \n",
            " dense_5 (Dense)             (None, 10)                170       \n",
            "                                                                 \n",
            "=================================================================\n",
            "Total params: 111,514\n",
            "Trainable params: 111,514\n",
            "Non-trainable params: 0\n",
            "_________________________________________________________________\n"
          ]
        }
      ],
      "source": [
        "from keras.layers import Flatten\n",
        "import tensorflow as tf\n",
        "tf.random.set_seed(9)\n",
        "\n",
        "model = Sequential([\n",
        "    Flatten(input_shape=(28, 28)),\n",
        "    Dense(128, activation='sigmoid'),\n",
        "    Dense(64, activation='sigmoid'),\n",
        "    Dense(32, activation='sigmoid'),\n",
        "    Dense(16, activation='sigmoid'),\n",
        "    Dense(10, activation='sigmoid')\n",
        "])\n",
        "\n",
        "\n",
        "model.summary()"
      ]
    },
    {
      "cell_type": "code",
      "execution_count": 17,
      "metadata": {
        "id": "t6aHGuqV6aUq"
      },
      "outputs": [
        {
          "ename": "ModuleNotFoundError",
          "evalue": "No module named 'keras.optimizer_v2'",
          "output_type": "error",
          "traceback": [
            "\u001b[1;31m---------------------------------------------------------------------------\u001b[0m",
            "\u001b[1;31mModuleNotFoundError\u001b[0m                       Traceback (most recent call last)",
            "\u001b[1;32mc:\\Users\\Sehii\\OneDrive\\Desktop\\popapavuka\\python\\my_python\\neiro\\lesson3\\Функции_активации.ipynb Cell 37\u001b[0m line \u001b[0;36m<module>\u001b[1;34m\u001b[0m\n\u001b[0;32m      <a href='vscode-notebook-cell:/c%3A/Users/Sehii/OneDrive/Desktop/popapavuka/python/my_python/neiro/lesson3/%D0%A4%D1%83%D0%BD%D0%BA%D1%86%D0%B8%D0%B8_%D0%B0%D0%BA%D1%82%D0%B8%D0%B2%D0%B0%D1%86%D0%B8%D0%B8.ipynb#X50sZmlsZQ%3D%3D?line=0'>1</a>\u001b[0m \u001b[39mfrom\u001b[39;00m \u001b[39mkeras\u001b[39;00m\u001b[39m.\u001b[39;00m\u001b[39mlosses\u001b[39;00m \u001b[39mimport\u001b[39;00m CategoricalCrossentropy\n\u001b[1;32m----> <a href='vscode-notebook-cell:/c%3A/Users/Sehii/OneDrive/Desktop/popapavuka/python/my_python/neiro/lesson3/%D0%A4%D1%83%D0%BD%D0%BA%D1%86%D0%B8%D0%B8_%D0%B0%D0%BA%D1%82%D0%B8%D0%B2%D0%B0%D1%86%D0%B8%D0%B8.ipynb#X50sZmlsZQ%3D%3D?line=1'>2</a>\u001b[0m \u001b[39mfrom\u001b[39;00m \u001b[39mkeras\u001b[39;00m\u001b[39m.\u001b[39;00m\u001b[39moptimizer_v2\u001b[39;00m \u001b[39mimport\u001b[39;00m gradient_descent\n\u001b[0;32m      <a href='vscode-notebook-cell:/c%3A/Users/Sehii/OneDrive/Desktop/popapavuka/python/my_python/neiro/lesson3/%D0%A4%D1%83%D0%BD%D0%BA%D1%86%D0%B8%D0%B8_%D0%B0%D0%BA%D1%82%D0%B8%D0%B2%D0%B0%D1%86%D0%B8%D0%B8.ipynb#X50sZmlsZQ%3D%3D?line=3'>4</a>\u001b[0m optimizer \u001b[39m=\u001b[39m gradient_descent\u001b[39m.\u001b[39mSGD(learning_rate\u001b[39m=\u001b[39m\u001b[39m0.01\u001b[39m)\n\u001b[0;32m      <a href='vscode-notebook-cell:/c%3A/Users/Sehii/OneDrive/Desktop/popapavuka/python/my_python/neiro/lesson3/%D0%A4%D1%83%D0%BD%D0%BA%D1%86%D0%B8%D0%B8_%D0%B0%D0%BA%D1%82%D0%B8%D0%B2%D0%B0%D1%86%D0%B8%D0%B8.ipynb#X50sZmlsZQ%3D%3D?line=4'>5</a>\u001b[0m loss_fn \u001b[39m=\u001b[39m CategoricalCrossentropy()\n",
            "\u001b[1;31mModuleNotFoundError\u001b[0m: No module named 'keras.optimizer_v2'"
          ]
        }
      ],
      "source": [
        "from keras.losses import CategoricalCrossentropy\n",
        "from keras.optimizer_v2 import gradient_descent\n",
        "\n",
        "optimizer = gradient_descent.SGD(learning_rate=0.01)\n",
        "loss_fn = CategoricalCrossentropy()"
      ]
    },
    {
      "cell_type": "code",
      "execution_count": null,
      "metadata": {
        "id": "JGNri8JR-j3V"
      },
      "outputs": [],
      "source": [
        "# Подготовим тренировочный датасет\n",
        "batch_size = 64\n",
        "train_dataset = tf.data.Dataset.from_tensor_slices((X_train, y_train))\n",
        "train_dataset = train_dataset.shuffle(buffer_size=X_train.shape[0]).batch(batch_size)"
      ]
    },
    {
      "cell_type": "code",
      "execution_count": null,
      "metadata": {
        "colab": {
          "base_uri": "https://localhost:8080/"
        },
        "id": "_ds5ZHPD-3ub",
        "outputId": "4dd09efb-55cc-4207-f44f-0bf2670f5b8d"
      },
      "outputs": [
        {
          "name": "stdout",
          "output_type": "stream",
          "text": [
            "(64, 28, 28)\n"
          ]
        }
      ],
      "source": [
        "for X, y in train_dataset:\n",
        "    print(X.shape)\n",
        "    break"
      ]
    },
    {
      "cell_type": "code",
      "execution_count": null,
      "metadata": {
        "colab": {
          "base_uri": "https://localhost:8080/"
        },
        "id": "2PLJUul26Qk2",
        "outputId": "8a79b883-ead4-429d-deda-a333d39fd918"
      },
      "outputs": [
        {
          "name": "stdout",
          "output_type": "stream",
          "text": [
            "Epoch 1/2. Step 0. Train loss: 2.47444748878479\n",
            "Epoch 1/2. Step 200. Train loss: 2.2992992401123047\n",
            "Epoch 1/2. Step 400. Train loss: 2.307833433151245\n",
            "Epoch 1/2. Step 600. Train loss: 2.310232162475586\n",
            "Epoch 1/2. Step 800. Train loss: 2.302314281463623\n",
            "Epoch 2/2. Step 0. Train loss: 2.2998695373535156\n",
            "Epoch 2/2. Step 200. Train loss: 2.301020622253418\n",
            "Epoch 2/2. Step 400. Train loss: 2.3048338890075684\n",
            "Epoch 2/2. Step 600. Train loss: 2.3041810989379883\n",
            "Epoch 2/2. Step 800. Train loss: 2.2992186546325684\n"
          ]
        }
      ],
      "source": [
        "grad_log = []\n",
        "\n",
        "epochs = 2\n",
        "\n",
        "for epoch in range(epochs):\n",
        "    for step, (x_batch_train, y_batch_train) in enumerate(train_dataset):\n",
        "\n",
        "        with tf.GradientTape() as tape:\n",
        "            preds = model(x_batch_train)\n",
        "\n",
        "            loss_value = loss_fn(y_batch_train, preds)\n",
        "\n",
        "            grads = tape.gradient(loss_value, model.trainable_weights)\n",
        "            g_g = []\n",
        "\n",
        "            for g_s in grads:\n",
        "                if len(g_s.numpy().shape) == 2:\n",
        "                    g_g.append(g_s.numpy()[0, 0])\n",
        "\n",
        "        grad_log.append(g_g)\n",
        "\n",
        "        optimizer.apply_gradients(zip(grads, model.trainable_weights))\n",
        "\n",
        "        if step % 200 == 0:\n",
        "            print(f'Epoch {epoch + 1}/{epochs}', end='. ')\n",
        "            print(f'Step {step}. Train loss: {loss_value}')"
      ]
    },
    {
      "cell_type": "code",
      "execution_count": null,
      "metadata": {
        "colab": {
          "base_uri": "https://localhost:8080/",
          "height": 350
        },
        "id": "UCvv0Xtm_JJC",
        "outputId": "f618a60c-2031-463d-ab83-ad0e6a22dd89"
      },
      "outputs": [
        {
          "data": {
            "image/png": "[encoded data removed]",
            "text/plain": [
              "<Figure size 1152x360 with 1 Axes>"
            ]
          },
          "metadata": {
            "needs_background": "light"
          },
          "output_type": "display_data"
        }
      ],
      "source": [
        "grad_log = np.array(grad_log)\n",
        "\n",
        "plt.figure(figsize=(16, 5))\n",
        "plt.title('Grad by layer')\n",
        "plt.xlabel('№ layer')\n",
        "plt.ylabel('grad')\n",
        "plt.grid()\n",
        "plt.plot(np.abs(grad_log[0, :]), label='step 0')\n",
        "plt.plot(np.abs(grad_log[10, :]), label='step 10')\n",
        "plt.plot(np.abs(grad_log[100, :]), label='step 100')\n",
        "plt.plot(np.abs(grad_log[700, :]), label='step 700')\n",
        "plt.legend()\n",
        "plt.show()"
      ]
    },
    {
      "cell_type": "markdown",
      "metadata": {
        "id": "N_7ZTC1bAScL"
      },
      "source": [
        "### Тангенс\n",
        "\n",
        "$$tanh(x)={\\frac {e^{x}-e^{-x}}{e^{x}+e^{-x}}}={\\frac {e^{2x}-1}{e^{2x}+1}} = 2σ(2x) - 1$$"
      ]
    },
    {
      "cell_type": "code",
      "execution_count": null,
      "metadata": {
        "colab": {
          "base_uri": "https://localhost:8080/",
          "height": 404
        },
        "id": "SltysuZ9ArvK",
        "outputId": "853779ab-0274-46ba-db45-1c5bcf4b4308"
      },
      "outputs": [
        {
          "data": {
            "image/png": "[encoded data removed]",
            "text/plain": [
              "<Figure size 576x432 with 1 Axes>"
            ]
          },
          "metadata": {
            "needs_background": "light"
          },
          "output_type": "display_data"
        }
      ],
      "source": [
        "from keras.activations import tanh\n",
        "\n",
        "\n",
        "x = np.linspace(-10, 10, 100)\n",
        "y = tanh(x)\n",
        "\n",
        "plt.figure(figsize=(8, 6))\n",
        "plt.plot(x, y, c='b', label='activation')\n",
        "plt.ylabel('output')\n",
        "plt.xlabel('input')\n",
        "plt.title('tanh')\n",
        "plt.legend()\n",
        "plt.grid();"
      ]
    },
    {
      "cell_type": "markdown",
      "metadata": {
        "id": "ZiH31uVGArvL"
      },
      "source": [
        "Производная тангенса\n",
        "\n",
        "$$∂\\tanh(z) = \\frac{1}{ch^2(x)} = \\frac{1}{(\\frac{e^x + e^{-x}}{2})^2}$$\n",
        "\n",
        "$$ch(x) = \\frac{e^x + e^{-x}}{2}$$"
      ]
    },
    {
      "cell_type": "code",
      "execution_count": null,
      "metadata": {
        "id": "ZnmMTuSPArvL"
      },
      "outputs": [],
      "source": [
        "def tanh_grad(x):\n",
        "    return 1 / (np.exp(x) + np.exp(-x) / 2) ** 2"
      ]
    },
    {
      "cell_type": "code",
      "execution_count": null,
      "metadata": {
        "colab": {
          "base_uri": "https://localhost:8080/",
          "height": 404
        },
        "id": "YBS-d2u4ArvM",
        "outputId": "65c97e6d-b8c3-4157-de14-0a83353460e6"
      },
      "outputs": [
        {
          "data": {
            "image/png": "[encoded data removed]",
            "text/plain": [
              "<Figure size 576x432 with 1 Axes>"
            ]
          },
          "metadata": {
            "needs_background": "light"
          },
          "output_type": "display_data"
        }
      ],
      "source": [
        "x = np.linspace(-10, 10, 100)\n",
        "y = tanh(x)\n",
        "\n",
        "grad_y = tanh_grad(x)\n",
        "\n",
        "plt.figure(figsize=(8, 6))\n",
        "plt.plot(x, y, c='b', label='activation')\n",
        "plt.plot(x, grad_y, c='g', label='grad')\n",
        "plt.ylabel('output')\n",
        "plt.xlabel('input')\n",
        "plt.title('tanh')\n",
        "plt.legend()\n",
        "plt.grid();"
      ]
    },
    {
      "cell_type": "markdown",
      "metadata": {
        "id": "VUgJWIakAQ89"
      },
      "source": [
        "Гиперболический тангенс очень похож на сигмоиду, только вот производная у него чуть больше, но все остальные плюсы и минусы остаются.\n",
        "\n",
        "**Плюсы:**\n",
        "1. Тангенс - **нелинейная функция**, можем обучать подряд много слоев и это будет иметь смысл.\n",
        "2. В диапазоне значений сигнала от -2.5 до 2.5 значения активации меняются очень быстро. А значит, что любое изменение значения сигнала в этой области повлечет существенное изменение значения активации.\n",
        "3. Тангенс идеально подходит для задач **бинарной классификации**. Он стремится привести значения к одной из сторон кривой.\n",
        "4. У тангенса фиксированный диапазон значений функции — [-1,1]. А значит не будет ошибок с большими значениями аткиваций\n",
        "\n",
        "\n",
        "**Минусы:**\n",
        "1. При приближении к концам тангенса значения активации очень слабо изменяются. Имеем проблему **затухающих градиентов**."
      ]
    },
    {
      "cell_type": "markdown",
      "metadata": {
        "id": "1zzKgTZXSVxX"
      },
      "source": [
        "### ReLU\n",
        "\n",
        "\n",
        "$$A(x) = max(0, x)$$\n",
        "\n",
        "Может показаться, что у ReLU все те же самые проблемы, что и у линейной функция. Но на самом деле, ReLU нелинейна. А это значит, что мы можем создавать подряд много слоев.\n",
        "\n",
        "ReLU менее требовательна к вычислительным ресурсам, чем тангенс или сигмоида, поэтому ReLU пользуется популярностью при создании глубоких нейронных сетей."
      ]
    },
    {
      "cell_type": "code",
      "execution_count": null,
      "metadata": {
        "colab": {
          "base_uri": "https://localhost:8080/",
          "height": 404
        },
        "id": "o3wfrXHMRSWL",
        "outputId": "20407650-d079-4472-fcff-fed3a5a9921d"
      },
      "outputs": [
        {
          "data": {
            "image/png": "[encoded data removed]",
            "text/plain": [
              "<Figure size 576x432 with 1 Axes>"
            ]
          },
          "metadata": {
            "needs_background": "light"
          },
          "output_type": "display_data"
        }
      ],
      "source": [
        "from keras.activations import relu\n",
        "\n",
        "\n",
        "x = np.linspace(-10, 10, 100)\n",
        "y = relu(x)\n",
        "\n",
        "plt.figure(figsize=(8, 6))\n",
        "plt.plot(x, y, c='b', label='activation')\n",
        "plt.ylabel('output')\n",
        "plt.xlabel('input')\n",
        "plt.title('ReLU')\n",
        "plt.legend()\n",
        "plt.grid();"
      ]
    },
    {
      "cell_type": "markdown",
      "metadata": {
        "id": "_58gl5ucRSWY"
      },
      "source": [
        "Производная ReLU"
      ]
    },
    {
      "cell_type": "code",
      "execution_count": null,
      "metadata": {
        "id": "V-6ePlamRSWZ"
      },
      "outputs": [],
      "source": [
        "def relu_grad(x):\n",
        "    return np.where(x >= 0, 1, 0)"
      ]
    },
    {
      "cell_type": "code",
      "execution_count": null,
      "metadata": {
        "colab": {
          "base_uri": "https://localhost:8080/",
          "height": 404
        },
        "id": "hAY6aIidRSWZ",
        "outputId": "55cc0142-cf6a-4f64-ced0-4d91a67b7c24"
      },
      "outputs": [
        {
          "data": {
            "image/png": "[encoded data removed]",
            "text/plain": [
              "<Figure size 576x432 with 1 Axes>"
            ]
          },
          "metadata": {
            "needs_background": "light"
          },
          "output_type": "display_data"
        }
      ],
      "source": [
        "x = np.linspace(-10, 10, 100)\n",
        "y = relu(x)\n",
        "\n",
        "grad_y = relu_grad(x)\n",
        "\n",
        "plt.figure(figsize=(8, 6))\n",
        "plt.plot(x, y, c='b', label='activation')\n",
        "plt.plot(x, grad_y, c='g', label='grad')\n",
        "plt.ylabel('output')\n",
        "plt.xlabel('input')\n",
        "plt.title('relu')\n",
        "plt.legend()\n",
        "plt.grid();"
      ]
    },
    {
      "cell_type": "markdown",
      "metadata": {
        "id": "i8gkdDv9cLLD"
      },
      "source": [
        "Проверим, что проблемы затухающих градиентов больше нет."
      ]
    },
    {
      "cell_type": "code",
      "execution_count": null,
      "metadata": {
        "colab": {
          "base_uri": "https://localhost:8080/"
        },
        "id": "ItexJeNOcJgI",
        "outputId": "fe9b8986-2378-4db9-dea4-8aed1edb06f0"
      },
      "outputs": [
        {
          "name": "stdout",
          "output_type": "stream",
          "text": [
            "Model: \"sequential_2\"\n",
            "_________________________________________________________________\n",
            " Layer (type)                Output Shape              Param #   \n",
            "=================================================================\n",
            " flatten_1 (Flatten)         (None, 784)               0         \n",
            "                                                                 \n",
            " dense_6 (Dense)             (None, 128)               100480    \n",
            "                                                                 \n",
            " dense_7 (Dense)             (None, 64)                8256      \n",
            "                                                                 \n",
            " dense_8 (Dense)             (None, 32)                2080      \n",
            "                                                                 \n",
            " dense_9 (Dense)             (None, 16)                528       \n",
            "                                                                 \n",
            " dense_10 (Dense)            (None, 10)                170       \n",
            "                                                                 \n",
            "=================================================================\n",
            "Total params: 111,514\n",
            "Trainable params: 111,514\n",
            "Non-trainable params: 0\n",
            "_________________________________________________________________\n"
          ]
        }
      ],
      "source": [
        "tf.random.set_seed(9)\n",
        "\n",
        "model = Sequential([\n",
        "    Flatten(input_shape=(28, 28)),\n",
        "    Dense(128, activation='relu'),\n",
        "    Dense(64, activation='relu'),\n",
        "    Dense(32, activation='relu'),\n",
        "    Dense(16, activation='relu'),\n",
        "    Dense(10, activation='sigmoid')\n",
        "])\n",
        "\n",
        "\n",
        "model.summary()"
      ]
    },
    {
      "cell_type": "code",
      "execution_count": null,
      "metadata": {
        "id": "7lfJOtS4cJgV"
      },
      "outputs": [],
      "source": [
        "optimizer = gradient_descent.SGD(learning_rate=0.01)\n",
        "loss_fn = CategoricalCrossentropy()"
      ]
    },
    {
      "cell_type": "code",
      "execution_count": null,
      "metadata": {
        "colab": {
          "base_uri": "https://localhost:8080/"
        },
        "id": "9j-B5BSNcJgV",
        "outputId": "71310708-d992-4254-cbf8-d768f76d98cd"
      },
      "outputs": [
        {
          "name": "stdout",
          "output_type": "stream",
          "text": [
            "Epoch 1/2. Step 0. Train loss: 2.351628541946411\n",
            "Epoch 1/2. Step 200. Train loss: 1.8318686485290527\n",
            "Epoch 1/2. Step 400. Train loss: 1.2116221189498901\n",
            "Epoch 1/2. Step 600. Train loss: 0.8003709316253662\n",
            "Epoch 1/2. Step 800. Train loss: 0.4912152886390686\n",
            "Epoch 2/2. Step 0. Train loss: 0.7042253017425537\n",
            "Epoch 2/2. Step 200. Train loss: 0.6148197650909424\n",
            "Epoch 2/2. Step 400. Train loss: 0.5967527031898499\n",
            "Epoch 2/2. Step 600. Train loss: 0.5230977535247803\n",
            "Epoch 2/2. Step 800. Train loss: 0.48200517892837524\n"
          ]
        }
      ],
      "source": [
        "grad_log = []\n",
        "\n",
        "epochs = 2\n",
        "\n",
        "for epoch in range(epochs):\n",
        "    for step, (x_batch_train, y_batch_train) in enumerate(train_dataset):\n",
        "\n",
        "        with tf.GradientTape() as tape:\n",
        "            preds = model(x_batch_train)\n",
        "\n",
        "            loss_value = loss_fn(y_batch_train, preds)\n",
        "\n",
        "            grads = tape.gradient(loss_value, model.trainable_weights)\n",
        "            g_g = []\n",
        "\n",
        "            for g_s in grads:\n",
        "                if len(g_s.numpy().shape) == 2:\n",
        "                    g_g.append(g_s.numpy()[0, 0])\n",
        "\n",
        "        grad_log.append(g_g)\n",
        "\n",
        "        optimizer.apply_gradients(zip(grads, model.trainable_weights))\n",
        "\n",
        "        if step % 200 == 0:\n",
        "            print(f'Epoch {epoch + 1}/{epochs}', end='. ')\n",
        "            print(f'Step {step}. Train loss: {loss_value}')"
      ]
    },
    {
      "cell_type": "code",
      "execution_count": null,
      "metadata": {
        "colab": {
          "base_uri": "https://localhost:8080/",
          "height": 350
        },
        "id": "LpUYMyF4cJgW",
        "outputId": "5a639e1c-f0c8-4f9a-f4d3-a32716bb248c"
      },
      "outputs": [
        {
          "data": {
            "image/png": "[encoded data removed]",
            "text/plain": [
              "<Figure size 1152x360 with 1 Axes>"
            ]
          },
          "metadata": {
            "needs_background": "light"
          },
          "output_type": "display_data"
        }
      ],
      "source": [
        "grad_log = np.array(grad_log)\n",
        "\n",
        "plt.figure(figsize=(16, 5))\n",
        "plt.title('Grad by layer')\n",
        "plt.xlabel('№ layer')\n",
        "plt.ylabel('grad')\n",
        "plt.grid()\n",
        "plt.plot(np.abs(grad_log[0, :]), label='step 0')\n",
        "plt.plot(np.abs(grad_log[10, :]), label='step 10')\n",
        "plt.plot(np.abs(grad_log[100, :]), label='step 100')\n",
        "plt.plot(np.abs(grad_log[700, :]), label='step 700')\n",
        "plt.legend()\n",
        "plt.show()"
      ]
    },
    {
      "cell_type": "markdown",
      "metadata": {
        "id": "p7glU6SnRaLe"
      },
      "source": [
        "#### Проблема\n",
        "\n",
        "\n",
        "Если имеем большую нейронную сеть с огромным количеством нейронов, то использование сигмоиды или гиперболического тангенса повлекут за собой **активацию буквально всех нейронов**. А в идеале хочется, чтобы некоторые нейроны не были активированы, чтобы сеть была легче.\n",
        "\n",
        "ReLu может это сделать. К примеру, если у нас есть нейросеть со случайно инициализированными весами, то 50% активаций равны 0 по ReLU.\n",
        "\n",
        "Но и тут есть проблема. Градиент на этой части равен 0. А значит, веса сети не будут изменяться во время обучения.\n",
        "\n",
        "\n",
        "Но существуют модификации ReLU, которые помогают эту проблему решить.\n",
        "\n"
      ]
    },
    {
      "cell_type": "code",
      "execution_count": null,
      "metadata": {
        "id": "RQG4CMiJbtw7"
      },
      "outputs": [],
      "source": [
        "X = np.array([[1], [3], [2]])\n",
        "y = np.array([[1, 3, 2]]).T"
      ]
    },
    {
      "cell_type": "markdown",
      "metadata": {
        "id": "DhwNjm4AbtxH"
      },
      "source": [
        "Сделаем один линейные слой с активацией ReLU и уберем свободный вес."
      ]
    },
    {
      "cell_type": "code",
      "execution_count": null,
      "metadata": {
        "colab": {
          "base_uri": "https://localhost:8080/"
        },
        "id": "Wk2AxC5lbtxI",
        "outputId": "339b3589-f9a5-4365-be73-efa82685de32"
      },
      "outputs": [
        {
          "name": "stdout",
          "output_type": "stream",
          "text": [
            "Model: \"sequential_3\"\n",
            "_________________________________________________________________\n",
            " Layer (type)                Output Shape              Param #   \n",
            "=================================================================\n",
            " dense_11 (Dense)            (None, 1)                 1         \n",
            "                                                                 \n",
            "=================================================================\n",
            "Total params: 1\n",
            "Trainable params: 1\n",
            "Non-trainable params: 0\n",
            "_________________________________________________________________\n"
          ]
        }
      ],
      "source": [
        "tf.random.set_seed(1)\n",
        "\n",
        "\n",
        "model = Sequential([\n",
        "    Dense(1, input_shape=(1,), activation='relu', use_bias=False),\n",
        "])\n",
        "\n",
        "model.summary()"
      ]
    },
    {
      "cell_type": "code",
      "execution_count": null,
      "metadata": {
        "colab": {
          "base_uri": "https://localhost:8080/"
        },
        "id": "2TkIhqenbtxI",
        "outputId": "b16144d6-df33-473b-970b-957a66ac9267"
      },
      "outputs": [
        {
          "data": {
            "text/plain": [
              "[array([[-1.1600207]], dtype=float32)]"
            ]
          },
          "execution_count": 43,
          "metadata": {},
          "output_type": "execute_result"
        }
      ],
      "source": [
        "model.get_weights()"
      ]
    },
    {
      "cell_type": "markdown",
      "metadata": {
        "id": "F_gfOxWabtxJ"
      },
      "source": [
        "Будем следить за градиентами на очень низком уровне."
      ]
    },
    {
      "cell_type": "code",
      "execution_count": null,
      "metadata": {
        "colab": {
          "base_uri": "https://localhost:8080/"
        },
        "id": "WsZ4uuGlbtxJ",
        "outputId": "1911434f-d78e-4cfe-ce07-bfee0640d5ea"
      },
      "outputs": [
        {
          "name": "stdout",
          "output_type": "stream",
          "text": [
            "Prediction is [[0.]] True is [1]\n",
            "Loss is [1.]\n",
            "Grad are tf.Tensor([[[-0.]]], shape=(1, 1, 1), dtype=float32)\n",
            "________________________________________\n",
            "Prediction is [[0.]] True is [3]\n",
            "Loss is [9.]\n",
            "Grad are tf.Tensor([[[-0.]]], shape=(1, 1, 1), dtype=float32)\n",
            "________________________________________\n",
            "Prediction is [[0.]] True is [2]\n",
            "Loss is [4.]\n",
            "Grad are tf.Tensor([[[-0.]]], shape=(1, 1, 1), dtype=float32)\n",
            "________________________________________\n"
          ]
        }
      ],
      "source": [
        "for i in range(3):\n",
        "    with tf.GradientTape() as tape:\n",
        "        pred = model(X[i])\n",
        "        print('Prediction is', pred.numpy(), 'True is', y[i])\n",
        "\n",
        "        loss_value = MSE(y[i], pred)\n",
        "        print('Loss is', loss_value.numpy())\n",
        "\n",
        "        grads = tape.gradient(loss_value, model.trainable_weights)\n",
        "        print('Grad are', grads / loss_value)\n",
        "        print('_' * 40)"
      ]
    },
    {
      "cell_type": "markdown",
      "metadata": {
        "id": "d5VYGAW3UOWA"
      },
      "source": [
        "### Leaky ReLU\n",
        "\n",
        "\n",
        "$$A(x) = max(0.1x, x)$$\n",
        "\n",
        "\n",
        "Например, для решения проблемы нулевого градиента имеет смысл заменить горизонтальную часть функции на линейную.\n",
        "\n",
        "Получаем слегка отклоненную линию от горизонтального положения. Суть в том, чтобы сделать градиент неравным нулю и постепенно восстанавливать его во время тренировки."
      ]
    },
    {
      "cell_type": "code",
      "execution_count": null,
      "metadata": {
        "colab": {
          "base_uri": "https://localhost:8080/",
          "height": 404
        },
        "id": "D4uwAvENUPiX",
        "outputId": "b9550b6e-e824-44a0-9ddb-54f99f3f9e74"
      },
      "outputs": [
        {
          "data": {
            "image/png": "[encoded data removed]",
            "text/plain": [
              "<Figure size 576x432 with 1 Axes>"
            ]
          },
          "metadata": {
            "needs_background": "light"
          },
          "output_type": "display_data"
        }
      ],
      "source": [
        "from keras.activations import leaky_relu\n",
        "\n",
        "\n",
        "x = np.linspace(-10, 10, 100)\n",
        "y = leaky_relu(x, alpha=0.1)\n",
        "\n",
        "plt.figure(figsize=(8, 6))\n",
        "plt.plot(x, y, c='b', label='activation')\n",
        "plt.ylabel('output')\n",
        "plt.xlabel('input')\n",
        "plt.title('leaky ReLU')\n",
        "plt.legend()\n",
        "plt.grid();"
      ]
    },
    {
      "cell_type": "markdown",
      "metadata": {
        "id": "8o4KFtBDUPiY"
      },
      "source": [
        "Производная leaky ReLU"
      ]
    },
    {
      "cell_type": "code",
      "execution_count": null,
      "metadata": {
        "id": "pukyEl7eUPiY"
      },
      "outputs": [],
      "source": [
        "def leaky_relu_grad(x):\n",
        "    return np.where(x >= 0, 1, 0.1)"
      ]
    },
    {
      "cell_type": "code",
      "execution_count": null,
      "metadata": {
        "colab": {
          "base_uri": "https://localhost:8080/",
          "height": 404
        },
        "id": "vHSDyja1UPiZ",
        "outputId": "d7cd62bb-70f7-4364-aeb2-34ae723bd956"
      },
      "outputs": [
        {
          "data": {
            "image/png": "[encoded data removed]",
            "text/plain": [
              "<Figure size 576x432 with 1 Axes>"
            ]
          },
          "metadata": {
            "needs_background": "light"
          },
          "output_type": "display_data"
        }
      ],
      "source": [
        "x = np.linspace(-10, 10, 100)\n",
        "y = leaky_relu(x, alpha=0.1)\n",
        "\n",
        "grad_y = leaky_relu_grad(x)\n",
        "\n",
        "plt.figure(figsize=(8, 6))\n",
        "plt.plot(x, y, c='b', label='activation')\n",
        "plt.plot(x, grad_y, c='g', label='grad')\n",
        "plt.ylabel('output')\n",
        "plt.xlabel('input')\n",
        "plt.title('leaky ReLU')\n",
        "plt.legend()\n",
        "plt.grid();"
      ]
    },
    {
      "cell_type": "markdown",
      "metadata": {
        "id": "Muhv9htSVH8S"
      },
      "source": [
        "### ELU\n",
        "\n",
        "\n",
        "<img src='https://drive.google.com/uc?id=1bCygDVQiwQP7lu-m0gyQy6EjyCSa1YA9' width=200>\n",
        "\n",
        "Или же можем нелинейно отклонять линию от горизонтального положения, а более плавно.\n",
        "\n",
        "Но суть остается такая же - делаем градиент ненулевым."
      ]
    },
    {
      "cell_type": "code",
      "execution_count": null,
      "metadata": {
        "colab": {
          "base_uri": "https://localhost:8080/",
          "height": 404
        },
        "id": "SCcXV91zVH8T",
        "outputId": "0889509f-a1ed-46c9-f5b2-ddd3e4e022f5"
      },
      "outputs": [
        {
          "data": {
            "image/png": "[encoded data removed]",
            "text/plain": [
              "<Figure size 576x432 with 1 Axes>"
            ]
          },
          "metadata": {
            "needs_background": "light"
          },
          "output_type": "display_data"
        }
      ],
      "source": [
        "from keras.activations import elu\n",
        "\n",
        "\n",
        "x = np.linspace(-10, 10, 100)\n",
        "alpha = 0.3\n",
        "y = elu(x, alpha=alpha)\n",
        "\n",
        "plt.figure(figsize=(8, 6))\n",
        "plt.plot(x, y, c='b', label='activation')\n",
        "plt.ylabel('output')\n",
        "plt.xlabel('input')\n",
        "plt.title('elu')\n",
        "plt.legend()\n",
        "plt.grid();"
      ]
    },
    {
      "cell_type": "markdown",
      "metadata": {
        "id": "UKOkKcxMVH8U"
      },
      "source": [
        "Производная ELU"
      ]
    },
    {
      "cell_type": "code",
      "execution_count": null,
      "metadata": {
        "id": "UIBBUBz5VH8U"
      },
      "outputs": [],
      "source": [
        "def elu_grad(x):\n",
        "    return np.where(x >= 0, 1, elu(x, alpha=alpha) + alpha)"
      ]
    },
    {
      "cell_type": "code",
      "execution_count": null,
      "metadata": {
        "colab": {
          "base_uri": "https://localhost:8080/",
          "height": 404
        },
        "id": "ooi_ijtwVH8V",
        "outputId": "56d1e549-f2c6-496e-cdac-b9ae0ad1da87"
      },
      "outputs": [
        {
          "data": {
            "image/png": "[encoded data removed]",
            "text/plain": [
              "<Figure size 576x432 with 1 Axes>"
            ]
          },
          "metadata": {
            "needs_background": "light"
          },
          "output_type": "display_data"
        }
      ],
      "source": [
        "x = np.linspace(-10, 10, 100)\n",
        "y = elu(x, alpha=alpha)\n",
        "\n",
        "grad_y = elu_grad(x)\n",
        "\n",
        "plt.figure(figsize=(8, 6))\n",
        "plt.plot(x, y, c='b', label='activation')\n",
        "plt.plot(x, grad_y, c='g', label='grad')\n",
        "plt.ylabel('output')\n",
        "plt.xlabel('input')\n",
        "plt.title('ELU')\n",
        "plt.legend()\n",
        "plt.grid();"
      ]
    },
    {
      "cell_type": "markdown",
      "metadata": {
        "id": "Rll0DgezUbBb"
      },
      "source": [
        "### Как выбрать функцию активации?\n",
        "\n",
        "Как и во всем глубоком обучении, здесь нет очевидного ответа. Выбирайте ту функцию, которая ведет к более быстрому обучению.\n",
        "\n",
        "Есть только однозначный ответ касаемо функции активации на последнем слое. Если у вас задача классификации, то самый лучший кандидат - sigmoid, т.к. выдает по сути вероятность быть одним классом или другим.\n",
        "\n",
        "А если задача регрессии, то выбирайте ReLU - если у вас не может быть отрицательного целевого значения или же линейную активацию.\n",
        "\n",
        "Ну и конечно же, можно использоваться кастомные функции активации."
      ]
    },
    {
      "cell_type": "markdown",
      "metadata": {
        "id": "Omm9ekUeSYv1"
      },
      "source": [
        "### Кастомная функция активации"
      ]
    },
    {
      "cell_type": "markdown",
      "metadata": {
        "id": "oIJFZQ2EqMmt"
      },
      "source": [
        "Посмотрим на проблемы очень больших градиентов."
      ]
    },
    {
      "cell_type": "code",
      "execution_count": null,
      "metadata": {
        "colab": {
          "base_uri": "https://localhost:8080/"
        },
        "id": "T0_mVb06hyFb",
        "outputId": "14e96349-600c-4c81-837f-f80ddf3bee55"
      },
      "outputs": [
        {
          "name": "stdout",
          "output_type": "stream",
          "text": [
            "Model: \"sequential_4\"\n",
            "_________________________________________________________________\n",
            " Layer (type)                Output Shape              Param #   \n",
            "=================================================================\n",
            " flatten_2 (Flatten)         (None, 784)               0         \n",
            "                                                                 \n",
            " dense_12 (Dense)            (None, 128)               100480    \n",
            "                                                                 \n",
            " dense_13 (Dense)            (None, 64)                8256      \n",
            "                                                                 \n",
            " dense_14 (Dense)            (None, 32)                2080      \n",
            "                                                                 \n",
            " dense_15 (Dense)            (None, 16)                528       \n",
            "                                                                 \n",
            " dense_16 (Dense)            (None, 10)                170       \n",
            "                                                                 \n",
            "=================================================================\n",
            "Total params: 111,514\n",
            "Trainable params: 111,514\n",
            "Non-trainable params: 0\n",
            "_________________________________________________________________\n"
          ]
        }
      ],
      "source": [
        "model = Sequential([\n",
        "    Flatten(input_shape=(28, 28)),\n",
        "    Dense(128, activation='relu'),\n",
        "    Dense(64, activation='relu'),\n",
        "    Dense(32, activation='relu'),\n",
        "    Dense(16, activation='relu'),\n",
        "    Dense(10, activation='sigmoid')\n",
        "])\n",
        "\n",
        "\n",
        "model.summary()"
      ]
    },
    {
      "cell_type": "markdown",
      "metadata": {
        "id": "XZ3bxu8IqPPp"
      },
      "source": [
        "Для этого поставим очень большие веса.\n",
        "\n",
        "Такие веса могут получится, если градиент будет всегда большой."
      ]
    },
    {
      "cell_type": "code",
      "execution_count": null,
      "metadata": {
        "colab": {
          "base_uri": "https://localhost:8080/"
        },
        "id": "Zv_yIojviLbb",
        "outputId": "c816dca5-4097-4b90-881c-8c6dfb7f5fa6"
      },
      "outputs": [
        {
          "data": {
            "text/plain": [
              "[array([[ 1.10855468e-01, -2.89544067e+01, -1.11606628e+02, ...,\n",
              "          2.70807247e+01, -1.09553963e+02,  2.40134293e+02],\n",
              "        [-2.79909744e+01,  2.03080078e+02, -8.19394684e+00, ...,\n",
              "         -3.82227927e-01,  1.05748680e+02, -9.83664932e+01],\n",
              "        [ 1.08536072e+02,  3.65864944e+01, -1.09298759e+02, ...,\n",
              "         -5.81144371e+01,  4.14889984e+01,  1.60726120e+02],\n",
              "        ...,\n",
              "        [ 1.35224182e+02,  2.94914799e+01,  1.18652184e+02, ...,\n",
              "          4.81741476e+00, -2.53905319e+02, -4.74941177e+01],\n",
              "        [-3.37093697e+01,  1.03940331e+02,  1.14126289e+02, ...,\n",
              "          1.74861115e+02,  4.74479866e+00,  1.33079357e+01],\n",
              "        [ 2.64444885e+01, -1.50783691e+02,  1.20068794e+02, ...,\n",
              "          7.30409470e+01,  9.83183594e+01,  1.32491974e+02]], dtype=float32),\n",
              " array([ -81.39623  ,   17.539917 ,  -72.668785 ,    2.2356956,\n",
              "          33.181274 ,  119.915825 ,   89.62817  ,  -21.945011 ,\n",
              "        -127.10773  ,   84.82333  , -114.00925  , -107.28623  ,\n",
              "        -105.227394 ,   72.34629  , -185.23276  ,   75.82127  ,\n",
              "          84.89399  ,  -48.0772   ,   95.85509  ,   42.351986 ,\n",
              "         -55.54747  ,  -85.327446 ,   36.231747 , -111.04444  ,\n",
              "         142.21878  ,  -27.96712  ,  -82.693214 , -157.61082  ,\n",
              "          43.035976 ,  -10.153697 ,  -11.75323  , -123.57437  ,\n",
              "        -152.12593  ,   68.998146 ,  126.63506  ,   28.599375 ,\n",
              "          39.884834 ,  115.92708  ,  144.53403  ,   -3.449321 ,\n",
              "        -141.29587  ,  160.0608   ,  -24.593626 ,  -12.272469 ,\n",
              "         -28.378496 ,  -30.395138 ,  -32.246723 , -109.36284  ,\n",
              "         105.92969  ,   90.871284 ,   -8.158327 , -104.07955  ,\n",
              "           2.5509229,   58.863476 ,   23.961063 , -209.25856  ,\n",
              "         175.1751   ,  107.30941  ,  -36.855186 ,  -85.826775 ,\n",
              "         100.4044   , -213.92224  ,  -94.55485  ,   79.15706  ,\n",
              "        -150.8383   ,  186.42526  ,   60.645195 ,   11.612469 ,\n",
              "         -20.27751  ,  162.37465  ,   55.11471  , -136.64284  ,\n",
              "         -61.330055 ,   28.820726 ,  159.97343  ,  148.26462  ,\n",
              "         -29.312792 ,  127.24373  , -162.9382   ,    8.875424 ,\n",
              "        -105.87448  ,  -71.96845  , -152.99469  ,  -88.84712  ,\n",
              "          -6.833829 ,  115.30349  , -147.22337  ,   23.91302  ,\n",
              "        -163.3704   ,   26.936224 ,   52.587135 , -184.51111  ,\n",
              "          28.710106 ,   58.37481  ,   10.116421 ,  -53.908672 ,\n",
              "        -112.12747  , -127.8494   , -260.9589   ,  -86.06942  ,\n",
              "         -55.096497 ,  -78.455475 , -121.97097  ,   78.840065 ,\n",
              "         -61.227093 , -100.67971  ,  -21.41796  ,  -51.679893 ,\n",
              "         -57.308086 ,  -33.136093 ,  -64.72705  , -136.82013  ,\n",
              "        -114.87947  ,   70.16235  ,  -27.950813 , -139.28178  ,\n",
              "          53.165443 ,  -24.113924 ,  -44.250675 ,  -89.93796  ,\n",
              "         -21.553434 ,  -39.026154 ,   11.854126 ,  -87.78572  ,\n",
              "          78.29342  ,  137.9324   ,   36.78383  , -225.8375   ],\n",
              "       dtype=float32)]"
            ]
          },
          "execution_count": 52,
          "metadata": {},
          "output_type": "execute_result"
        }
      ],
      "source": [
        "np.random.seed(9)\n",
        "\n",
        "new_weights = []\n",
        "\n",
        "for weights in model.get_weights():\n",
        "    if len(weights.shape) == 2:\n",
        "        new_weights.append(np.random.randn(weights.shape[0], weights.shape[1]) * 100)\n",
        "    else:\n",
        "        new_weights.append(np.random.randn(weights.shape[0]) * 100)\n",
        "\n",
        "model.set_weights(new_weights)\n",
        "\n",
        "model.get_weights()[:2]"
      ]
    },
    {
      "cell_type": "code",
      "execution_count": null,
      "metadata": {
        "id": "sNBF9dz9hyFo"
      },
      "outputs": [],
      "source": [
        "optimizer = gradient_descent.SGD(learning_rate=0.01)\n",
        "loss_fn = CategoricalCrossentropy()"
      ]
    },
    {
      "cell_type": "markdown",
      "metadata": {
        "id": "G_RIQPxGqanS"
      },
      "source": [
        "А видим, что уже ошибка посчитаться не может, что-то пошло не так."
      ]
    },
    {
      "cell_type": "code",
      "execution_count": null,
      "metadata": {
        "colab": {
          "base_uri": "https://localhost:8080/"
        },
        "id": "vfVz8QlyhyFo",
        "outputId": "00c8485c-3731-4649-db33-f98198249689"
      },
      "outputs": [
        {
          "name": "stdout",
          "output_type": "stream",
          "text": [
            "Epoch 1/2. Step 0. Train loss: 58217132457984.0\n",
            "Epoch 1/2. Step 200. Train loss: nan\n",
            "Epoch 1/2. Step 400. Train loss: nan\n",
            "Epoch 1/2. Step 600. Train loss: nan\n",
            "Epoch 1/2. Step 800. Train loss: nan\n",
            "Epoch 2/2. Step 0. Train loss: nan\n",
            "Epoch 2/2. Step 200. Train loss: nan\n",
            "Epoch 2/2. Step 400. Train loss: nan\n",
            "Epoch 2/2. Step 600. Train loss: nan\n",
            "Epoch 2/2. Step 800. Train loss: nan\n"
          ]
        }
      ],
      "source": [
        "grad_log = []\n",
        "\n",
        "epochs = 2\n",
        "\n",
        "for epoch in range(epochs):\n",
        "    for step, (x_batch_train, y_batch_train) in enumerate(train_dataset):\n",
        "\n",
        "        with tf.GradientTape() as tape:\n",
        "            preds = model(x_batch_train)\n",
        "\n",
        "            loss_value = loss_fn(y_batch_train, preds)\n",
        "\n",
        "            grads = tape.gradient(loss_value, model.trainable_weights)\n",
        "            g_g = []\n",
        "\n",
        "            for g_s in grads:\n",
        "                if len(g_s.numpy().shape) == 2:\n",
        "                    g_g.append(g_s.numpy()[0, 0])\n",
        "\n",
        "        grad_log.append(g_g)\n",
        "\n",
        "        optimizer.apply_gradients(zip(grads, model.trainable_weights))\n",
        "\n",
        "        if step % 200 == 0:\n",
        "            print(f'Epoch {epoch + 1}/{epochs}', end='. ')\n",
        "            print(f'Step {step}. Train loss: {loss_value}')"
      ]
    },
    {
      "cell_type": "markdown",
      "metadata": {
        "id": "p4w0zR3jqgdX"
      },
      "source": [
        "А веса тоже посчитаться не могут, они вышли за разрешенные значения float32."
      ]
    },
    {
      "cell_type": "code",
      "execution_count": null,
      "metadata": {
        "colab": {
          "base_uri": "https://localhost:8080/"
        },
        "id": "4VfBiS0ligQe",
        "outputId": "1fe28398-7f72-4f5e-971b-0a43062771a2"
      },
      "outputs": [
        {
          "data": {
            "text/plain": [
              "[array([[nan, nan, nan, ..., nan, nan, nan],\n",
              "        [nan, nan, nan, ..., nan, nan, nan],\n",
              "        [nan, nan, nan, ..., nan, nan, nan],\n",
              "        ...,\n",
              "        [nan, nan, nan, ..., nan, nan, nan],\n",
              "        [nan, nan, nan, ..., nan, nan, nan],\n",
              "        [nan, nan, nan, ..., nan, nan, nan]], dtype=float32),\n",
              " array([nan, nan, nan, nan, nan, nan, nan, nan, nan, nan, nan, nan, nan,\n",
              "        nan, nan, nan, nan, nan, nan, nan, nan, nan, nan, nan, nan, nan,\n",
              "        nan, nan, nan, nan, nan, nan, nan, nan, nan, nan, nan, nan, nan,\n",
              "        nan, nan, nan, nan, nan, nan, nan, nan, nan, nan, nan, nan, nan,\n",
              "        nan, nan, nan, nan, nan, nan, nan, nan, nan, nan, nan, nan, nan,\n",
              "        nan, nan, nan, nan, nan, nan, nan, nan, nan, nan, nan, nan, nan,\n",
              "        nan, nan, nan, nan, nan, nan, nan, nan, nan, nan, nan, nan, nan,\n",
              "        nan, nan, nan, nan, nan, nan, nan, nan, nan, nan, nan, nan, nan,\n",
              "        nan, nan, nan, nan, nan, nan, nan, nan, nan, nan, nan, nan, nan,\n",
              "        nan, nan, nan, nan, nan, nan, nan, nan, nan, nan, nan],\n",
              "       dtype=float32)]"
            ]
          },
          "execution_count": 55,
          "metadata": {},
          "output_type": "execute_result"
        }
      ],
      "source": [
        "model.get_weights()[:2]"
      ]
    },
    {
      "cell_type": "markdown",
      "metadata": {
        "id": "_IlhMgQzqnds"
      },
      "source": [
        "Но можем изменить фукнцию активации ReLU.\n",
        "\n",
        "Раньше у неё не было ограничений в большую сторону, а значит выходные значения активации могли быть очень большими.\n",
        "\n",
        "Но теперь поставим ограничения в 6, чтобы как-то утихомирить наши сигнала, а значит и веса."
      ]
    },
    {
      "cell_type": "code",
      "execution_count": null,
      "metadata": {
        "id": "5j5xY3DSiv1I"
      },
      "outputs": [],
      "source": [
        "from keras import backend as K\n",
        "\n",
        "def my_relu(x):\n",
        "    return K.relu(x, max_value=6)"
      ]
    },
    {
      "cell_type": "code",
      "execution_count": null,
      "metadata": {
        "colab": {
          "base_uri": "https://localhost:8080/"
        },
        "id": "rN9rFAGtjQwZ",
        "outputId": "c4cd33c6-25ab-467d-bc6d-fa34d7e73290"
      },
      "outputs": [
        {
          "data": {
            "text/plain": [
              "<tf.Tensor: shape=(4,), dtype=int32, numpy=array([6, 0, 0, 6], dtype=int32)>"
            ]
          },
          "execution_count": 57,
          "metadata": {},
          "output_type": "execute_result"
        }
      ],
      "source": [
        "my_relu([10, 0, -2, 7])"
      ]
    },
    {
      "cell_type": "code",
      "execution_count": null,
      "metadata": {
        "colab": {
          "base_uri": "https://localhost:8080/"
        },
        "id": "oX8E6Xjbiuyl",
        "outputId": "baeabf06-24fd-4cb3-bb9f-e598a7b15827"
      },
      "outputs": [
        {
          "name": "stdout",
          "output_type": "stream",
          "text": [
            "Model: \"sequential_5\"\n",
            "_________________________________________________________________\n",
            " Layer (type)                Output Shape              Param #   \n",
            "=================================================================\n",
            " flatten_3 (Flatten)         (None, 784)               0         \n",
            "                                                                 \n",
            " dense_17 (Dense)            (None, 128)               100480    \n",
            "                                                                 \n",
            " dense_18 (Dense)            (None, 64)                8256      \n",
            "                                                                 \n",
            " dense_19 (Dense)            (None, 32)                2080      \n",
            "                                                                 \n",
            " dense_20 (Dense)            (None, 16)                528       \n",
            "                                                                 \n",
            " dense_21 (Dense)            (None, 10)                170       \n",
            "                                                                 \n",
            "=================================================================\n",
            "Total params: 111,514\n",
            "Trainable params: 111,514\n",
            "Non-trainable params: 0\n",
            "_________________________________________________________________\n"
          ]
        }
      ],
      "source": [
        "model = Sequential([\n",
        "    Flatten(input_shape=(28, 28)),\n",
        "    Dense(128, activation=my_relu),\n",
        "    Dense(64, activation=my_relu),\n",
        "    Dense(32, activation=my_relu),\n",
        "    Dense(16, activation=my_relu),\n",
        "    Dense(10, activation='sigmoid')\n",
        "])\n",
        "\n",
        "\n",
        "model.summary()"
      ]
    },
    {
      "cell_type": "code",
      "execution_count": null,
      "metadata": {
        "id": "dti7GO6riuyl"
      },
      "outputs": [],
      "source": [
        "model.set_weights(new_weights)"
      ]
    },
    {
      "cell_type": "code",
      "execution_count": null,
      "metadata": {
        "id": "b3YNx6Ybiuym"
      },
      "outputs": [],
      "source": [
        "optimizer = gradient_descent.SGD(learning_rate=0.01)\n",
        "loss_fn = CategoricalCrossentropy()"
      ]
    },
    {
      "cell_type": "markdown",
      "metadata": {
        "id": "qydopanXq305"
      },
      "source": [
        "Обучение идёт, nan'ов не видно."
      ]
    },
    {
      "cell_type": "code",
      "execution_count": null,
      "metadata": {
        "colab": {
          "base_uri": "https://localhost:8080/"
        },
        "id": "8z64OHg0iuym",
        "outputId": "92e44a62-fee2-4d30-ce62-c2f28c7f69e8"
      },
      "outputs": [
        {
          "name": "stdout",
          "output_type": "stream",
          "text": [
            "Epoch 1/2. Step 0. Train loss: 1820.707763671875\n",
            "Epoch 1/2. Step 200. Train loss: 1920.79052734375\n",
            "Epoch 1/2. Step 400. Train loss: 1579.050048828125\n",
            "Epoch 1/2. Step 600. Train loss: 1625.4769287109375\n",
            "Epoch 1/2. Step 800. Train loss: 1563.5634765625\n",
            "Epoch 2/2. Step 0. Train loss: 1265.1722412109375\n",
            "Epoch 2/2. Step 200. Train loss: 1093.002685546875\n",
            "Epoch 2/2. Step 400. Train loss: 1185.621337890625\n",
            "Epoch 2/2. Step 600. Train loss: 1491.9697265625\n",
            "Epoch 2/2. Step 800. Train loss: 1223.733154296875\n"
          ]
        }
      ],
      "source": [
        "grad_log = []\n",
        "\n",
        "epochs = 2\n",
        "\n",
        "for epoch in range(epochs):\n",
        "    for step, (x_batch_train, y_batch_train) in enumerate(train_dataset):\n",
        "\n",
        "        with tf.GradientTape() as tape:\n",
        "            preds = model(x_batch_train)\n",
        "\n",
        "            loss_value = loss_fn(y_batch_train, preds)\n",
        "\n",
        "            grads = tape.gradient(loss_value, model.trainable_weights)\n",
        "            g_g = []\n",
        "\n",
        "            for g_s in grads:\n",
        "                if len(g_s.numpy().shape) == 2:\n",
        "                    g_g.append(g_s.numpy()[0, 0])\n",
        "\n",
        "        grad_log.append(g_g)\n",
        "\n",
        "        optimizer.apply_gradients(zip(grads, model.trainable_weights))\n",
        "\n",
        "        if step % 200 == 0:\n",
        "            print(f'Epoch {epoch + 1}/{epochs}', end='. ')\n",
        "            print(f'Step {step}. Train loss: {loss_value}')"
      ]
    },
    {
      "cell_type": "code",
      "execution_count": null,
      "metadata": {
        "colab": {
          "base_uri": "https://localhost:8080/"
        },
        "id": "gnjR7oQRiuym",
        "outputId": "70fe3264-b171-4b28-97f3-17dd358767e9"
      },
      "outputs": [
        {
          "data": {
            "text/plain": [
              "[array([[ 1.10855468e-01, -2.89544067e+01, -1.11606628e+02, ...,\n",
              "          2.70807247e+01, -1.09553963e+02,  2.40134293e+02],\n",
              "        [-2.79909744e+01,  2.03080078e+02, -8.19394684e+00, ...,\n",
              "         -3.82227927e-01,  1.05748680e+02, -9.83664932e+01],\n",
              "        [ 1.08536072e+02,  3.65864944e+01, -1.09298759e+02, ...,\n",
              "         -5.81144371e+01,  4.14889984e+01,  1.60726120e+02],\n",
              "        ...,\n",
              "        [ 1.35224182e+02,  2.94914799e+01,  1.18652184e+02, ...,\n",
              "          4.81741476e+00, -2.53905319e+02, -4.74941177e+01],\n",
              "        [-3.37093697e+01,  1.03940331e+02,  1.14126289e+02, ...,\n",
              "          1.74861115e+02,  4.74479866e+00,  1.33079357e+01],\n",
              "        [ 2.64444885e+01, -1.50783691e+02,  1.20068794e+02, ...,\n",
              "          7.30409470e+01,  9.83183594e+01,  1.32491974e+02]], dtype=float32),\n",
              " array([ -81.39623  ,   17.539917 ,  -72.668785 ,    2.2356956,\n",
              "          33.181274 ,  119.915825 ,   89.62817  ,  -21.945011 ,\n",
              "        -127.10773  ,   84.82333  , -114.00925  , -107.28623  ,\n",
              "        -105.227394 ,   72.34629  , -185.23276  ,   75.82127  ,\n",
              "          84.89399  ,  -48.0772   ,   95.85509  ,   42.351986 ,\n",
              "         -55.54747  ,  -85.327446 ,   36.231747 , -111.04444  ,\n",
              "         142.21878  ,  -27.96712  ,  -82.693214 , -157.61082  ,\n",
              "          43.035976 ,  -10.153697 ,  -11.75323  , -123.57437  ,\n",
              "        -152.12593  ,   68.998146 ,  126.63506  ,   28.599375 ,\n",
              "          39.884834 ,  115.92708  ,  144.53403  ,   -3.449321 ,\n",
              "        -141.29587  ,  160.0608   ,  -24.593626 ,  -12.272469 ,\n",
              "         -28.378496 ,  -30.395138 ,  -32.246723 , -109.36284  ,\n",
              "         105.92969  ,   90.871284 ,   -8.158327 , -104.07955  ,\n",
              "           2.5509229,   58.863476 ,   23.961063 , -209.25856  ,\n",
              "         175.1751   ,  107.30941  ,  -36.855186 ,  -85.826775 ,\n",
              "         100.4044   , -213.92224  ,  -94.55485  ,   79.15706  ,\n",
              "        -150.8383   ,  186.42526  ,   60.645195 ,   11.612469 ,\n",
              "         -20.27751  ,  162.37465  ,   55.11471  , -136.64284  ,\n",
              "         -61.330055 ,   28.820726 ,  159.97343  ,  148.26462  ,\n",
              "         -29.312792 ,  127.24373  , -162.9382   ,    8.875424 ,\n",
              "        -105.87448  ,  -71.96845  , -152.99469  ,  -88.84712  ,\n",
              "          -6.833829 ,  115.30349  , -147.22337  ,   23.91302  ,\n",
              "        -163.3704   ,   26.936224 ,   52.587135 , -184.51111  ,\n",
              "          28.710106 ,   58.37481  ,   10.116421 ,  -53.908672 ,\n",
              "        -112.12747  , -127.8494   , -260.9589   ,  -86.06942  ,\n",
              "         -55.096497 ,  -78.455475 , -121.97097  ,   78.840065 ,\n",
              "         -61.227093 , -100.67971  ,  -21.41796  ,  -51.679893 ,\n",
              "         -57.308086 ,  -33.136093 ,  -64.72705  , -136.82013  ,\n",
              "        -114.87947  ,   70.16235  ,  -27.950813 , -139.28178  ,\n",
              "          53.165443 ,  -24.113924 ,  -44.250675 ,  -89.93796  ,\n",
              "         -21.553434 ,  -39.026154 ,   11.854126 ,  -87.78572  ,\n",
              "          78.29342  ,  137.9324   ,   36.78383  , -225.8375   ],\n",
              "       dtype=float32)]"
            ]
          },
          "execution_count": 62,
          "metadata": {},
          "output_type": "execute_result"
        }
      ],
      "source": [
        "model.get_weights()[:2]"
      ]
    },
    {
      "cell_type": "markdown",
      "metadata": {
        "id": "ztwSPvVzvNlU"
      },
      "source": [
        "## Summary\n",
        "\n",
        "Сегодня обсудили:\n",
        "1. Какие есть функции активации нейронов (Sigmoid, ReLU, ELU, Leaky ReLU...)\n",
        "2. Плюсы каждой функции активации\n",
        "3. Минусы каждой функции активации\n",
        "4. Как написать свою функцию активации\n",
        "\n",
        "\n",
        "\n",
        "<table>\n",
        "<tr>\n",
        "<th>\n",
        "Функция активации\n",
        "</th>\n",
        "\n",
        "<th>\n",
        "Плюсы\n",
        "</th>\n",
        "\n",
        "<th>\n",
        "Минусы\n",
        "</th>\n",
        "</tr>\n",
        "\n",
        "<tr>\n",
        "<td>\n",
        "linear\n",
        "</td>\n",
        "\n",
        "<td>\n",
        "\n",
        "        1. Меньше времени на вычисления\n",
        "</td>\n",
        "\n",
        "<td>\n",
        "\n",
        "        1. Линейная функция\n",
        "        2. Нефиксированный диапазон значений функции — [-∞,+∞]\n",
        "        3. Константный градиент\n",
        "</td>\n",
        "</tr>\n",
        "\n",
        "\n",
        "<tr>\n",
        "<td>\n",
        "Sigmoid\n",
        "</td>\n",
        "\n",
        "<td>\n",
        "\n",
        "        1. Нелинейная функция\n",
        "        2. В диапазоне значений сигнала от -2.5 до 2.5 значения активации меняются очень быстро\n",
        "        3. Фиксированный диапазон значений функции — [0,1]\n",
        "\n",
        "</td>\n",
        "\n",
        "<td>\n",
        "\n",
        "        1. Затухают градиенты\n",
        "\n",
        "</td>\n",
        "</tr>\n",
        "\n",
        "<tr>\n",
        "<td>\n",
        "Tanh\n",
        "</td>\n",
        "\n",
        "<td>\n",
        "\n",
        "        1. Нелинейная функция\n",
        "        2. В диапазоне значений сигнала от -2.5 до 2.5 значения активации меняются очень быстро\n",
        "        3. Фиксированный диапазон значений функции — [-1,1]\n",
        "</td>\n",
        "\n",
        "<td>\n",
        "\n",
        "        1. Затухают градиенты\n",
        "\n",
        "</td>\n",
        "</tr>\n",
        "\n",
        "<tr>\n",
        "<td>\n",
        "ReLU\n",
        "</td>\n",
        "\n",
        "<td>\n",
        "\n",
        "        1. Меньше времени на вычисления\n",
        "        2. Меньше вес у сети\n",
        "        3. Нет проблемы затухающих градиентов\n",
        "    \n",
        "</td>\n",
        "\n",
        "<td>\n",
        "\n",
        "        1. Нулевые градиенты у сигналов, которые меньше 0\n",
        "        2. Нефиксированный диапазон значений функции\n",
        "</td>\n",
        "</tr>\n",
        "\n",
        "<tr>\n",
        "<td>\n",
        "Leaky ReLU\n",
        "</td>\n",
        "\n",
        "<td>\n",
        "\n",
        "        1. Нет проблемы нулевых градиентов\n",
        "\n",
        "</td>\n",
        "\n",
        "<td>\n",
        "\n",
        "        1. Нужно подбирать значение alpha\n",
        "        2. Нефиксированный диапазон значений функции\n",
        "</td>\n",
        "</tr>\n",
        "\n",
        "<tr>\n",
        "<td>\n",
        "ELU\n",
        "</td>\n",
        "\n",
        "<td>\n",
        "\n",
        "        1. Нет проблемы нулевых градиентов\n",
        "        2. Имеются негативные выходы, что помогает нейронке направлять веса в нужное напрвление\n",
        "</td>\n",
        "\n",
        "<td>\n",
        "\n",
        "        1. Больше времени на вычисления\n",
        "        2. Нефиксированный диапазон значений функции\n",
        "        3. Нужно подбирать значение alpha\n",
        "</td>\n",
        "</tr>\n",
        "\n",
        "</table>\n"
      ]
    }
  ],
  "metadata": {
    "colab": {
      "provenance": [],
      "toc_visible": true
    },
    "kernelspec": {
      "display_name": "Python 3",
      "language": "python",
      "name": "python3"
    },
    "language_info": {
      "codemirror_mode": {
        "name": "ipython",
        "version": 3
      },
      "file_extension": ".py",
      "mimetype": "text/x-python",
      "name": "python",
      "nbconvert_exporter": "python",
      "pygments_lexer": "ipython3",
      "version": "3.10.2"
    }
  },
  "nbformat": 4,
  "nbformat_minor": 0
}
