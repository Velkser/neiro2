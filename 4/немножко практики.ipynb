{
 "cells": [
  {
   "cell_type": "markdown",
   "metadata": {},
   "source": [
    "# Подготовка среды и загрузка данных:\n",
    "\n",
    "# Создание нейронной сети для CIFAR-10\n",
    "\n",
    "В этом блоке мы создадим нейронную сеть для классификации изображений из датасета CIFAR-10. CIFAR-10 состоит из 60 000 цветных изображений размером 32x32 пикселя, разделенных на 10 классов.\n",
    "\n",
    "```python\n",
    "# Импорт необходимых библиотек\n",
    "import tensorflow as tf\n",
    "from tensorflow.keras.datasets import cifar10\n",
    "from tensorflow.keras.models import Sequential\n",
    "from tensorflow.keras.layers import Conv2D, MaxPooling2D, Flatten, Dense, Dropout\n",
    "from tensorflow.keras.optimizers import Adam\n",
    "from tensorflow.keras.utils import to_categorical\n"
   ]
  },
  {
   "cell_type": "code",
   "execution_count": 1,
   "metadata": {},
   "outputs": [],
   "source": [
    "# Импорт необходимых библиотек\n",
    "import tensorflow as tf\n",
    "from tensorflow.keras.datasets import cifar10\n",
    "from tensorflow.keras.models import Sequential\n",
    "from tensorflow.keras.layers import Conv2D, MaxPooling2D, Flatten, Dense, Dropout\n",
    "from tensorflow.keras.optimizers import Adam\n",
    "from tensorflow.keras.utils import to_categorical\n",
    "import matplotlib.pyplot as plt\n",
    "import seaborn as sns"
   ]
  },
  {
   "cell_type": "markdown",
   "metadata": {},
   "source": [
    "Мы начинаем с импорта необходимых библиотек TensorFlow и Keras для создания и обучения нейронной сети.\n",
    "\n",
    "## Загрузка данных CIFAR-10\n",
    "\n",
    "Для обучения модели сначала необходимо загрузить данные из датасета CIFAR-10. В CIFAR-10 уже включены обучающие и тестовые данные.\n"
   ]
  },
  {
   "cell_type": "code",
   "execution_count": 2,
   "metadata": {},
   "outputs": [],
   "source": [
    "# Загрузка данных CIFAR-10\n",
    "(train_images, train_labels), (test_images, test_labels) = cifar10.load_data()"
   ]
  },
  {
   "cell_type": "code",
   "execution_count": 3,
   "metadata": {},
   "outputs": [],
   "source": [
    "cifar10_classes = [\n",
    "    'Самолет (Airplane)',\n",
    "    'Автомобиль (Automobile)',\n",
    "    'Птица (Bird)',\n",
    "    'Кошка (Cat)',\n",
    "    'Олень (Deer)',\n",
    "    'Собака (Dog)',\n",
    "    'Лягушка (Frog)',\n",
    "    'Лошадь (Horse)',\n",
    "    'Корабль (Ship)',\n",
    "    'Грузовик (Truck)'\n",
    "]"
   ]
  },
  {
   "cell_type": "code",
   "execution_count": 4,
   "metadata": {},
   "outputs": [
    {
     "data": {
      "image/png": "[encoded data removed]",
      "text/plain": [
       "<Figure size 2160x1440 with 5 Axes>"
      ]
     },
     "metadata": {
      "needs_background": "light"
     },
     "output_type": "display_data"
    }
   ],
   "source": [
    "fig, ax = plt.subplots(1, 5, figsize=(30, 20))\n",
    "\n",
    "for i in range(5):\n",
    "    ax[i].imshow(train_images[i], cmap='gray')\n",
    "    ax[i].axis('off')"
   ]
  },
  {
   "cell_type": "code",
   "execution_count": 5,
   "metadata": {},
   "outputs": [
    {
     "data": {
      "text/plain": [
       "array([[6],\n",
       "       [9],\n",
       "       [9],\n",
       "       [4],\n",
       "       [1]], dtype=uint8)"
      ]
     },
     "execution_count": 5,
     "metadata": {},
     "output_type": "execute_result"
    }
   ],
   "source": [
    "train_labels[:5]"
   ]
  },
  {
   "cell_type": "markdown",
   "metadata": {},
   "source": [
    "В этом коде мы используем функцию cifar10.load_data() для загрузки данных CIFAR-10. Обучающие данные сохраняются в train_images и train_labels, а тестовые данные - в test_images и test_labels.\n",
    "\n",
    "## Предобработка данных\n",
    "\n",
    "Для обеспечения правильной работы нейронной сети данные должны быть предобработаны. Это включает в себя нормализацию пикселей и преобразование меток в формат one-hot encoding.\n"
   ]
  },
  {
   "cell_type": "code",
   "execution_count": 6,
   "metadata": {},
   "outputs": [],
   "source": [
    "# Нормализация пикселей в диапазоне [0, 1]\n",
    "train_images = train_images.astype('float32') / 255.0\n",
    "test_images = test_images.astype('float32') / 255.0\n",
    "\n",
    "# Преобразование меток в формат one-hot encoding\n",
    "num_classes = 10\n",
    "train_labels = to_categorical(train_labels, num_classes)\n",
    "test_labels = to_categorical(test_labels, num_classes)"
   ]
  },
  {
   "cell_type": "markdown",
   "metadata": {},
   "source": [
    "Здесь мы нормализуем значения пикселей изображений, чтобы они находились в диапазоне от 0 до 1, и преобразуем метки классов в формат one-hot encoding.\n",
    "\n",
    "## Создание модели нейронной сети\n",
    "\n",
    "Создание архитектуры нейронной сети, включая сверточные слои, слои пулинга, полносвязные слои и слои dropout для предотвращения переобучения.\n"
   ]
  },
  {
   "cell_type": "code",
   "execution_count": 7,
   "metadata": {},
   "outputs": [],
   "source": [
    "model = Sequential([\n",
    "    Conv2D(32, (3, 3), activation='relu', input_shape=(32, 32, 3)),\n",
    "    MaxPooling2D((2, 2)),\n",
    "    Conv2D(64, (3, 3), activation='relu'),\n",
    "    MaxPooling2D((2, 2)),\n",
    "    Conv2D(64, (3, 3), activation='relu'),\n",
    "    Flatten(),\n",
    "    Dense(64, activation='relu'),\n",
    "    Dropout(0.5),\n",
    "    Dense(num_classes, activation='softmax')\n",
    "])"
   ]
  },
  {
   "cell_type": "markdown",
   "metadata": {},
   "source": [
    "В этом блоке кода мы определяем архитектуру модели, включая сверточные слои, слои пулинга, полносвязные слои и слои dropout.\n",
    "\n",
    "<table>\n",
    "  <tr>\n",
    "    <th>Слой</th>\n",
    "    <th>Параметры</th>\n",
    "    <th>Назначение</th>\n",
    "  </tr>\n",
    "  <tr>\n",
    "    <td>Conv2D</td>\n",
    "    <td>\n",
    "      <ul>\n",
    "        <li>Количество фильтров: Определяет, сколько различных признаков будет извлечено.</li>\n",
    "        <li>Размер фильтров: Определяет размер области, которую фильтр анализирует.</li>\n",
    "        <li>Функция активации: Определяет, какая функция активации будет применяться к выходным данным слоя после свертки.</li>\n",
    "        <li>Шаг (stride): Определяет, насколько \"шагает\" фильтр по изображению.</li>\n",
    "        <li>Заполнение (padding): Определяет, какие значения добавляются вокруг изображения перед сверткой</li>\n",
    "      </ul>\n",
    "    </td>\n",
    "    <td>\n",
    "      <p>Слой применяет набор фильтров (или ядер) к входному изображению. Каждый фильтр - это небольшая матрица, которая скользит по изображению. Фильтр проверяет различные области изображения и выделяет определенные характеристики, такие как грани, углы и текстуры. Эти характеристики помогают модели понимать, что находится на изображении.</p>\n",
    "    </td>\n",
    "  </tr>\n",
    "  <tr>\n",
    "    <td>MaxPooling2D</td>\n",
    "    <td>\n",
    "      <ul>\n",
    "        <li>Размер окна пулинга: Определяет размер области, из которой выбирается</li>\n",
    "        <li>Шаг (stride): Определяет, насколько \"шагает\" окно пулинга по изображению</li>\n",
    "      </ul>\n",
    "    </td>\n",
    "    <td>\n",
    "      <p>Слой пулинга, который уменьшает размерность данных, выбирая максимальное значение из каждой группы. Слой пулинга разбивает изображение на неперекрывающиеся области и выбирает максимальное значение из каждой области. Это позволяет уменьшить количество данных, сохраняя при этом наиболее важные признаки. Например, после нескольких сверточных слоев, слой пулинга может уменьшить размер изображения в два раза.</p>\n",
    "    </td>\n",
    "  </tr>\n",
    "  <tr>\n",
    "    <td>Flatten</td>\n",
    "    <td>-</td>\n",
    "    <td>\n",
    "      <p>Слой, который преобразует многомерные данные в одномерный вектор, подготавливая данные для полносвязных слоев.</p>\n",
    "    </td>\n",
    "  </tr>\n",
    "  <tr>\n",
    "    <td>Dense (Полносвязный слой)</td>\n",
    "    <td>\n",
    "      <ul>\n",
    "        <li>Количество нейронов (units)</li>\n",
    "        <li>Функция активации (например, ReLU, sigmoid)</li>\n",
    "      </ul>\n",
    "    </td>\n",
    "    <td>\n",
    "      <p>Полносвязный слой, в котором каждый нейрон связан со всеми нейронами предыдущего слоя. Он выполняет линейную комбинацию входных данных.</p>\n",
    "    </td>\n",
    "  </tr>\n",
    "  <tr>\n",
    "    <td>Dropout</td>\n",
    "    <td>\n",
    "      <ul>\n",
    "        <li>Уровень отсева (dropout rate)</li>\n",
    "      </ul>\n",
    "    </td>\n",
    "    <td>\n",
    "      <p>Слой, который случайным образом исключает часть нейронов во время обучения с некоторой вероятностью. Это помогает предотвратить переобучение.</p>\n",
    "    </td>\n",
    "  </tr>\n",
    "</table>\n"
   ]
  },
  {
   "cell_type": "markdown",
   "metadata": {},
   "source": [
    "## Компиляция модели\n",
    "\n",
    "После создания модели нейронной сети мы компилируем ее, указывая оптимизатор, функцию потерь и метрики для оценки производительности.\n"
   ]
  },
  {
   "cell_type": "code",
   "execution_count": 8,
   "metadata": {},
   "outputs": [],
   "source": [
    "# Компиляция модели\n",
    "model.compile(optimizer=Adam(learning_rate=0.001),\n",
    "              loss='categorical_crossentropy',\n",
    "              metrics=['accuracy'])"
   ]
  },
  {
   "cell_type": "markdown",
   "metadata": {},
   "source": [
    "*Adam (Adaptive Moment Estimation)** - это оптимизационный алгоритм, который широко используется для обучения нейронных сетей и других моделей машинного обучения. Он является комбинацией двух других оптимизаторов: RMSprop (Root Mean Square Propagation) и Momentum. Adam был предложен Diederik P. Kingma и Jimmy Ba в статье \"Adam: A Method for Stochastic Optimization\" в 2014 году и с тех пор стал одним из наиболее популярных оптимизаторов.\n",
    "\n",
    "### Как работает оптимизатор Adam:\n",
    "\n",
    "1. **Инициализация параметров:**\n",
    "   Adam начинает с инициализации двух переменных момента (momentum) и скользящего среднего квадратов градиентов (moving average of squared gradients). Эти переменные обычно инициализируются нулями или малыми случайными значениями.\n",
    "\n",
    "2. **Вычисление градиентов:**\n",
    "   На каждом шаге обучения вычисляются градиенты функции потерь по параметрам модели.\n",
    "\n",
    "3. **Обновление момента:**\n",
    "   Момент (momentum) подобен скорости и определяет, как быстро модель должна двигаться в направлении градиентов. Он обновляется на основе текущих градиентов и предыдущего значения момента. Это помогает ускорить обучение в направлении, в котором градиенты имеют устойчивое направление.\n",
    "\n",
    "4. **Обновление скользящего среднего квадратов градиентов:**\n",
    "   Adam также поддерживает скользящее среднее квадратов градиентов, которое используется для нормализации градиентов. Это помогает учитывать разный масштаб градиентов для разных параметров. Скользящее среднее обновляется на основе квадрата текущих градиентов.\n",
    "\n",
    "5. **Вычисление корректировок смещения:**\n",
    "   В начале обучения, когда значения момента и скользящего среднего близки к нулю, Adam может быть смещен в сторону нулевых значений. Для исправления этого смещения вычисляются корректировки смещения (bias corrections) для момента и скользящего среднего. Эти коррекции уменьшают смещение в начале обучения.\n",
    "\n",
    "6. **Обновление параметров модели:**\n",
    "   Наконец, параметры модели обновляются с использованием вычисленных значений момента, скользящего среднего и градиентов. Adam использует эти значения для определения, как обновить параметры так, чтобы минимизировать функцию потерь.\n",
    "\n",
    "### Преимущества Adam:\n",
    "- **Сходимость:** Adam может обеспечить более быструю сходимость к оптимальным параметрам.\n",
    "- **Адаптивность:** Adam автоматически адаптирует скорость обучения для каждого параметра на основе скользящего среднего квадратов градиентов.\n",
    "- **Работа с разными масштабами:** Adam эффективно работает с параметрами, имеющими разные масштабы градиентов.\n",
    "\n",
    "Однако следует отметить, что Adam может быть чувствительным к выбору скорости обучения и требует настройки гиперпараметров для достижения лучших результатов.\n",
    "\n",
    "<!DOCTYPE html>\n",
    "<html>\n",
    "<head>\n",
    "    <title>Гифка</title>\n",
    "</head>\n",
    "<body>\n",
    "    <a href=\"https://optimization.cbe.cornell.edu/images/d/d6/1_-_2dKCQHh_-_Long_Valley.gif\">\n",
    "        <img src=\"https://optimization.cbe.cornell.edu/images/d/d6/1_-_2dKCQHh_-_Long_Valley.gif\" alt=\"Гифка\" width=\"300\" height=\"200\">\n",
    "    </a>\n",
    "</body>\n",
    "</html>\n"
   ]
  },
  {
   "cell_type": "markdown",
   "metadata": {},
   "source": [
    "<!DOCTYPE html>\n",
    "<html>\n",
    "<head>\n",
    "<style>\n",
    "  table {\n",
    "    font-family: Arial, sans-serif;\n",
    "    border-collapse: collapse;\n",
    "    width: 80%;\n",
    "    margin: 20px auto;\n",
    "  }\n",
    "\n",
    "  th, td {\n",
    "    border: 1px solid #dddddd;\n",
    "    text-align: left;\n",
    "    padding: 8px;\n",
    "  }\n",
    "\n",
    "  tr:nth-child(even) {\n",
    "    background-color: #f2f2f2;\n",
    "  }\n",
    "\n",
    "  th {\n",
    "    background-color: #4CAF50;\n",
    "    color: white;\n",
    "  }\n",
    "</style>\n",
    "</head>\n",
    "<body>\n",
    "\n",
    "<h2>Сравнение оптимизаторов: Adam vs. SGD</h2>\n",
    "\n",
    "<table>\n",
    "  <tr>\n",
    "    <th>Характеристика</th>\n",
    "    <th>Adam</th>\n",
    "    <th>SGD</th>\n",
    "  </tr>\n",
    "  <tr>\n",
    "    <td>Аббревиатура</td>\n",
    "    <td>Adam (Adaptive Moment Estimation)</td>\n",
    "    <td>SGD (Stochastic Gradient Descent)</td>\n",
    "  </tr>\n",
    "  <tr>\n",
    "    <td>Тип оптимизации</td>\n",
    "    <td>Адаптивный оптимизатор</td>\n",
    "    <td>Градиентный оптимизатор</td>\n",
    "  </tr>\n",
    "  <tr>\n",
    "    <td>Скорость обучения</td>\n",
    "    <td>Адаптируется автоматически для каждого параметра</td>\n",
    "    <td>Фиксированная для всех параметров</td>\n",
    "  </tr>\n",
    "  <tr>\n",
    "    <td>Скорость сходимости</td>\n",
    "    <td>Обычно быстрее, особенно на начальных этапах</td>\n",
    "    <td>Может быть медленнее, требует аккуратной настройки</td>\n",
    "  </tr>\n",
    "  <tr>\n",
    "    <td>Адаптивность к разным масштабам</td>\n",
    "    <td>Да, работает хорошо с параметрами, имеющими разные масштабы</td>\n",
    "    <td>Требует масштабирования признаков для эффективной работы</td>\n",
    "  </tr>\n",
    "  <tr>\n",
    "    <td>Подходит для глубоких сетей</td>\n",
    "    <td>Обычно да, хорошо работает с глубокими архитектурами</td>\n",
    "    <td>Требует тщательной настройки и может быть сложным для глубоких сетей</td>\n",
    "  </tr>\n",
    "</table>\n",
    "\n",
    "</body>\n",
    "</html>\n"
   ]
  },
  {
   "cell_type": "markdown",
   "metadata": {},
   "source": [
    "# Сравнение оптимизаторов SGD и Adam\n",
    "\n",
    "Оптимизаторы SGD (Stochastic Gradient Descent) и Adam оба используются для обучения нейронных сетей, но они имеют разные характеристики и могут быть лучше в разных сценариях. Вот некоторые сравнительные характеристики SGD и Adam:\n",
    "\n",
    "## Оптимизатор SGD\n",
    "\n",
    "1. **Простота:** SGD - это простой и понятный оптимизатор, и он может быть легко настроен.\n",
    "\n",
    "2. **Меньшее количество памяти:** SGD требует меньше памяти в сравнении с Adam, поскольку он хранит только текущие значения параметров и градиентов.\n",
    "\n",
    "3. **Скорость обучения можно настроить:** С SGD вы можете явно настроить скорость обучения (learning rate) и изменять ее в процессе обучения.\n",
    "\n",
    "4. **Стабильность:** В некоторых случаях SGD может быть более стабильным и предсказуемым, особенно при правильной настройке скорости обучения.\n",
    "\n",
    "## Оптимизатор Adam\n",
    "\n",
    "1. **Адаптивность скорости обучения:** Adam автоматически адаптирует скорость обучения для каждого параметра на основе скользящего среднего квадратов градиентов. Это позволяет ускорить сходимость и улучшить производительность на большинстве задач.\n",
    "\n",
    "2. **Работа с разными масштабами градиентов:** Adam эффективно работает с параметрами, имеющими разные масштабы градиентов, что может быть проблемой для SGD.\n",
    "\n",
    "3. **Популярность и популярные реализации:** Adam стал одним из наиболее популярных оптимизаторов и имеет множество оптимизированных реализаций в библиотеках машинного обучения.\n",
    "\n",
    "4. **Скорость обучения настраивается автоматически:** В большинстве случаев Adam не требует явной настройки скорости обучения, что может упростить процесс обучения.\n",
    "\n",
    "Выбор между SGD и Adam зависит от конкретной задачи, архитектуры модели и даже проб и ошибок. В общем случае, Adam часто предпочтителен из-за своей адаптивности и хорошей производительности на многих задачах. Однако в некоторых случаях, особенно с маленькими наборами данных, SGD с правильной настройкой скорости обучения может быть полезным инструментом.\n"
   ]
  },
  {
   "cell_type": "markdown",
   "metadata": {},
   "source": [
    "Здесь мы используем оптимизатор Adam с заданной скоростью обучения, функцию потерь categorical crossentropy и метрику accuracy для оценки точности модели.\n",
    "\n",
    "## Обучение модели\n",
    "\n",
    "Мы обучаем модель на обучающих данных и оцениваем ее производительность на тестовых данных.\n"
   ]
  },
  {
   "cell_type": "code",
   "execution_count": 9,
   "metadata": {},
   "outputs": [
    {
     "name": "stdout",
     "output_type": "stream",
     "text": [
      "Epoch 1/20\n",
      "196/196 [==============================] - 19s 91ms/step - loss: 1.8913 - accuracy: 0.2942 - val_loss: 1.5272 - val_accuracy: 0.4564\n",
      "Epoch 2/20\n",
      "196/196 [==============================] - 21s 108ms/step - loss: 1.5823 - accuracy: 0.4200 - val_loss: 1.4371 - val_accuracy: 0.4976\n",
      "Epoch 3/20\n",
      "196/196 [==============================] - 22s 111ms/step - loss: 1.4630 - accuracy: 0.4739 - val_loss: 1.2706 - val_accuracy: 0.5480\n",
      "Epoch 4/20\n",
      "196/196 [==============================] - 23s 119ms/step - loss: 1.3671 - accuracy: 0.5110 - val_loss: 1.2524 - val_accuracy: 0.5510\n",
      "Epoch 5/20\n",
      "196/196 [==============================] - 22s 112ms/step - loss: 1.2997 - accuracy: 0.5377 - val_loss: 1.1435 - val_accuracy: 0.5923\n",
      "Epoch 6/20\n",
      "196/196 [==============================] - 23s 116ms/step - loss: 1.2348 - accuracy: 0.5643 - val_loss: 1.0959 - val_accuracy: 0.6136\n",
      "Epoch 7/20\n",
      "196/196 [==============================] - 26s 131ms/step - loss: 1.1895 - accuracy: 0.5810 - val_loss: 1.0389 - val_accuracy: 0.6359\n",
      "Epoch 8/20\n",
      "196/196 [==============================] - 23s 118ms/step - loss: 1.1521 - accuracy: 0.5944 - val_loss: 1.0179 - val_accuracy: 0.6453\n",
      "Epoch 9/20\n",
      "196/196 [==============================] - 22s 114ms/step - loss: 1.1126 - accuracy: 0.6122 - val_loss: 1.0289 - val_accuracy: 0.6378\n",
      "Epoch 10/20\n",
      "196/196 [==============================] - 23s 117ms/step - loss: 1.0896 - accuracy: 0.6187 - val_loss: 0.9896 - val_accuracy: 0.6521\n",
      "Epoch 11/20\n",
      "196/196 [==============================] - 21s 105ms/step - loss: 1.0569 - accuracy: 0.6327 - val_loss: 0.9379 - val_accuracy: 0.6757\n",
      "Epoch 12/20\n",
      "196/196 [==============================] - 19s 99ms/step - loss: 1.0324 - accuracy: 0.6399 - val_loss: 0.9052 - val_accuracy: 0.6813\n",
      "Epoch 13/20\n",
      "196/196 [==============================] - 19s 95ms/step - loss: 0.9986 - accuracy: 0.6520 - val_loss: 0.9349 - val_accuracy: 0.6713\n",
      "Epoch 14/20\n",
      "196/196 [==============================] - 19s 95ms/step - loss: 0.9810 - accuracy: 0.6590 - val_loss: 0.8996 - val_accuracy: 0.6862\n",
      "Epoch 15/20\n",
      "196/196 [==============================] - 21s 106ms/step - loss: 0.9533 - accuracy: 0.6679 - val_loss: 0.9496 - val_accuracy: 0.6646\n",
      "Epoch 16/20\n",
      "196/196 [==============================] - 20s 104ms/step - loss: 0.9363 - accuracy: 0.6753 - val_loss: 0.8888 - val_accuracy: 0.6849\n",
      "Epoch 17/20\n",
      "196/196 [==============================] - 20s 100ms/step - loss: 0.9166 - accuracy: 0.6809 - val_loss: 0.8860 - val_accuracy: 0.6921\n",
      "Epoch 18/20\n",
      "196/196 [==============================] - 21s 109ms/step - loss: 0.9050 - accuracy: 0.6841 - val_loss: 0.8621 - val_accuracy: 0.6982\n",
      "Epoch 19/20\n",
      "196/196 [==============================] - 22s 112ms/step - loss: 0.8802 - accuracy: 0.6928 - val_loss: 0.8428 - val_accuracy: 0.7034\n",
      "Epoch 20/20\n",
      "196/196 [==============================] - 22s 112ms/step - loss: 0.8662 - accuracy: 0.6984 - val_loss: 0.8118 - val_accuracy: 0.7197\n",
      "CPU times: total: 34min 27s\n",
      "Wall time: 7min 8s\n"
     ]
    }
   ],
   "source": [
    "%%time\n",
    "epochs = 20\n",
    "history = model.fit(train_images, train_labels, epochs=epochs,\n",
    "                    validation_data=(test_images, test_labels), batch_size=256)"
   ]
  },
  {
   "cell_type": "code",
   "execution_count": null,
   "metadata": {},
   "outputs": [],
   "source": []
  },
  {
   "cell_type": "markdown",
   "metadata": {},
   "source": [
    "Здесь мы используем функцию model.fit() для обучения модели на данных в течение заданного количества эпох.\n",
    "\n",
    "## Оценка модели\n",
    "\n",
    "После обучения модели мы оцениваем ее производительность на тестовых данных.\n"
   ]
  },
  {
   "cell_type": "code",
   "execution_count": 10,
   "metadata": {},
   "outputs": [
    {
     "name": "stdout",
     "output_type": "stream",
     "text": [
      "313/313 - 3s - loss: 0.8118 - accuracy: 0.7197 - 3s/epoch - 8ms/step\n",
      "\n",
      "Точность на тестовых данных: 0.7196999788284302\n"
     ]
    }
   ],
   "source": [
    "test_loss, test_acc = model.evaluate(test_images, test_labels, verbose=2)\n",
    "print(\"\\nТочность на тестовых данных:\", test_acc)"
   ]
  }
 ],
 "metadata": {
  "kernelspec": {
   "display_name": "Python 3",
   "language": "python",
   "name": "python3"
  },
  "language_info": {
   "codemirror_mode": {
    "name": "ipython",
    "version": 3
   },
   "file_extension": ".py",
   "mimetype": "text/x-python",
   "name": "python",
   "nbconvert_exporter": "python",
   "pygments_lexer": "ipython3",
   "version": "3.10.2"
  },
  "orig_nbformat": 4
 },
 "nbformat": 4,
 "nbformat_minor": 2
}
