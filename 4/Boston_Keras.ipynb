{
  "cells": [
    {
      "cell_type": "markdown",
      "metadata": {
        "id": "Q9lphOLwnZgW"
      },
      "source": [
        "## Детали метода fit в Keras"
      ]
    },
    {
      "cell_type": "markdown",
      "metadata": {
        "id": "lsgGTfpbH4-M"
      },
      "source": [
        "Сегодня обсудим:\n",
        "1. Как обучаться по батчам (batch_size)\n",
        "2. Как при обучении считать метрики и на тесте (validation_data)\n",
        "3. Как обучаться на генераторах\n",
        "4. И как визуализировать процесс обучения\n"
      ]
    },
    {
      "cell_type": "markdown",
      "metadata": {
        "id": "5wJj0qVRMUhf"
      },
      "source": [
        "Получение данных\n",
        "\n",
        "Описание датасета:\n",
        "\n",
        "- CRIM     per capita crime rate by town\n",
        "- ZN       proportion of residential land zoned for lots over 25,000 sq.ft.\n",
        "- INDUS    proportion of non-retail business acres per town\n",
        "- CHAS     Charles River dummy variable (= 1 if tract bounds river; 0 otherwise)\n",
        "- NOX      nitric oxides concentration (parts per 10 million)\n",
        "- RM       average number of rooms per dwelling\n",
        "- AGE      proportion of owner-occupied units built prior to 1940\n",
        "- DIS      weighted distances to five Boston employment centres\n",
        "- RAD      index of accessibility to radial highways\n",
        "- TAX      full-value property-tax rate per 10,000\n",
        "- PTRATIO  pupil-teacher ratio by town\n",
        "- B        1000(Bk - 0.63)^2 where Bk is the proportion of blacks by town\n",
        "- LSTAT    % lower status of the population\n",
        "- MEDV     Median value of owner-occupied homes in $1000's"
      ]
    },
    {
      "cell_type": "code",
      "execution_count": 1,
      "metadata": {
        "colab": {
          "base_uri": "https://localhost:8080/"
        },
        "id": "22XUy6MVL66Z",
        "outputId": "37499774-2593-4cb1-8948-d7c20d4199ca"
      },
      "outputs": [
        {
          "data": {
            "text/plain": [
              "((404, 13), (102, 13))"
            ]
          },
          "execution_count": 1,
          "metadata": {},
          "output_type": "execute_result"
        }
      ],
      "source": [
        "from keras.datasets import boston_housing\n",
        "\n",
        "(X_train, y_train), (X_test, y_test) = boston_housing.load_data()\n",
        "\n",
        "X_train.shape, X_test.shape"
      ]
    },
    {
      "cell_type": "code",
      "execution_count": 2,
      "metadata": {
        "colab": {
          "base_uri": "https://localhost:8080/"
        },
        "id": "Q5Ds6QFBMiAX",
        "outputId": "ca0610b3-9e64-4ab2-d287-bd1d5dc902d6"
      },
      "outputs": [
        {
          "data": {
            "text/plain": [
              "array([[  1.23247,   0.     ,   8.14   ,   0.     ,   0.538  ,   6.142  ,\n",
              "         91.7    ,   3.9769 ,   4.     , 307.     ,  21.     , 396.9    ,\n",
              "         18.72   ]])"
            ]
          },
          "execution_count": 2,
          "metadata": {},
          "output_type": "execute_result"
        }
      ],
      "source": [
        "X_train[:1]"
      ]
    },
    {
      "cell_type": "markdown",
      "metadata": {
        "id": "CSYSvyorMWTO"
      },
      "source": [
        "Масштабирование данных"
      ]
    },
    {
      "cell_type": "code",
      "execution_count": 3,
      "metadata": {
        "colab": {
          "base_uri": "https://localhost:8080/"
        },
        "id": "xAepFcolMM93",
        "outputId": "d1a2afda-5d00-4e3a-e270-0af1469e6e4c"
      },
      "outputs": [
        {
          "data": {
            "text/plain": [
              "(array([3.74511057e+00, 1.14801980e+01, 1.11044307e+01, 6.18811881e-02,\n",
              "        5.57355941e-01, 6.26708168e+00, 6.90106436e+01, 3.74027079e+00,\n",
              "        9.44059406e+00, 4.05898515e+02, 1.84759901e+01, 3.54783168e+02,\n",
              "        1.27408168e+01]),\n",
              " array([9.22929073e+00, 2.37382770e+01, 6.80287253e+00, 2.40939633e-01,\n",
              "        1.17147847e-01, 7.08908627e-01, 2.79060634e+01, 2.02770050e+00,\n",
              "        8.68758849e+00, 1.66168506e+02, 2.19765689e+00, 9.39946015e+01,\n",
              "        7.24556085e+00]))"
            ]
          },
          "execution_count": 3,
          "metadata": {},
          "output_type": "execute_result"
        }
      ],
      "source": [
        "mean = X_train.mean(axis=0)\n",
        "std = X_train.std(axis=0)\n",
        "\n",
        "mean, std"
      ]
    },
    {
      "cell_type": "code",
      "execution_count": 4,
      "metadata": {
        "id": "qu2qimTJMMyT"
      },
      "outputs": [],
      "source": [
        "X_train -= mean\n",
        "X_train /= std\n",
        "\n",
        "X_test -= mean\n",
        "X_test /= std"
      ]
    },
    {
      "cell_type": "code",
      "execution_count": 5,
      "metadata": {
        "colab": {
          "base_uri": "https://localhost:8080/"
        },
        "id": "p3vd2WHqMMoa",
        "outputId": "66d4cd9c-44ee-4b1a-9e50-57caaa5256af"
      },
      "outputs": [
        {
          "data": {
            "text/plain": [
              "array([-1.01541438e-16,  1.09923072e-17,  1.74337992e-15, -1.26686340e-16,\n",
              "       -5.25377321e-15,  6.41414864e-15,  2.98441140e-16,  4.94653823e-16,\n",
              "        1.12671149e-17, -1.98136337e-16,  2.36686358e-14,  5.95679996e-15,\n",
              "        6.13920356e-16])"
            ]
          },
          "execution_count": 5,
          "metadata": {},
          "output_type": "execute_result"
        }
      ],
      "source": [
        "X_train.mean(axis=0)"
      ]
    },
    {
      "cell_type": "code",
      "execution_count": 6,
      "metadata": {
        "colab": {
          "base_uri": "https://localhost:8080/"
        },
        "id": "PSOWwTi7MMhI",
        "outputId": "925d0923-22a4-4576-e8b4-719d526f40ff"
      },
      "outputs": [
        {
          "data": {
            "text/plain": [
              "array([1., 1., 1., 1., 1., 1., 1., 1., 1., 1., 1., 1., 1.])"
            ]
          },
          "execution_count": 6,
          "metadata": {},
          "output_type": "execute_result"
        }
      ],
      "source": [
        "X_train.std(axis=0)"
      ]
    },
    {
      "cell_type": "code",
      "execution_count": 7,
      "metadata": {},
      "outputs": [
        {
          "data": {
            "text/plain": [
              "(404, 13)"
            ]
          },
          "execution_count": 7,
          "metadata": {},
          "output_type": "execute_result"
        }
      ],
      "source": [
        "X_train.shape"
      ]
    },
    {
      "cell_type": "markdown",
      "metadata": {
        "id": "Z1XTMfjpNU8S"
      },
      "source": [
        "### Архитектура сети\n",
        "\n",
        "\n",
        "Определение сети через класс Sequential и добавление слоев в него через add"
      ]
    },
    {
      "cell_type": "code",
      "execution_count": 8,
      "metadata": {
        "colab": {
          "base_uri": "https://localhost:8080/"
        },
        "id": "P734IyAUNWpM",
        "outputId": "a20fd3a3-4ebc-40c3-c92f-6454c9f1c816"
      },
      "outputs": [
        {
          "name": "stdout",
          "output_type": "stream",
          "text": [
            "Model: \"sequential\"\n",
            "_________________________________________________________________\n",
            " Layer (type)                Output Shape              Param #   \n",
            "=================================================================\n",
            " dense (Dense)               (None, 256)               3584      \n",
            "                                                                 \n",
            " dense_1 (Dense)             (None, 128)               32896     \n",
            "                                                                 \n",
            " dense_2 (Dense)             (None, 16)                2064      \n",
            "                                                                 \n",
            " dense_3 (Dense)             (None, 1)                 17        \n",
            "                                                                 \n",
            "=================================================================\n",
            "Total params: 38,561\n",
            "Trainable params: 38,561\n",
            "Non-trainable params: 0\n",
            "_________________________________________________________________\n"
          ]
        }
      ],
      "source": [
        "from keras.models import Sequential\n",
        "from keras.layers import Dense\n",
        "import tensorflow as tf\n",
        "tf.random.set_seed(9)\n",
        "\n",
        "\n",
        "model = Sequential()\n",
        "model.add(Dense(256, activation='relu', input_shape=(X_train.shape[1], )))\n",
        "model.add(Dense(128, activation='relu'))\n",
        "model.add(Dense(16, activation='relu'))\n",
        "model.add(Dense(1))\n",
        "\n",
        "model.summary()"
      ]
    },
    {
      "cell_type": "code",
      "execution_count": 10,
      "metadata": {
        "id": "6bxv11s1NnJu"
      },
      "outputs": [],
      "source": [
        "model.compile(optimizer='adam', loss='mse', metrics=['mae'])"
      ]
    },
    {
      "cell_type": "markdown",
      "metadata": {
        "id": "QmoBr-uXRcy2"
      },
      "source": [
        "### Обучение сети"
      ]
    },
    {
      "cell_type": "code",
      "execution_count": 10,
      "metadata": {
        "colab": {
          "base_uri": "https://localhost:8080/"
        },
        "id": "vCI--E5vN3HG",
        "outputId": "e2a25964-68e7-47e4-d4cb-e09e6d14e8e2"
      },
      "outputs": [
        {
          "name": "stdout",
          "output_type": "stream",
          "text": [
            "Epoch 1/100\n",
            "13/13 [==============================] - 1s 4ms/step - loss: 531.2217 - mae: 21.0541\n",
            "Epoch 2/100\n",
            "13/13 [==============================] - 0s 2ms/step - loss: 345.5101 - mae: 16.1452\n",
            "Epoch 3/100\n",
            "13/13 [==============================] - 0s 2ms/step - loss: 108.5693 - mae: 8.2144\n",
            "Epoch 4/100\n",
            "13/13 [==============================] - 0s 2ms/step - loss: 52.7582 - mae: 5.5726\n",
            "Epoch 5/100\n",
            "13/13 [==============================] - 0s 2ms/step - loss: 27.4220 - mae: 3.6859\n",
            "Epoch 6/100\n",
            "13/13 [==============================] - 0s 2ms/step - loss: 20.8373 - mae: 3.1989\n",
            "Epoch 7/100\n",
            "13/13 [==============================] - 0s 2ms/step - loss: 18.8427 - mae: 3.1006\n",
            "Epoch 8/100\n",
            "13/13 [==============================] - 0s 3ms/step - loss: 16.5789 - mae: 2.8524\n",
            "Epoch 9/100\n",
            "13/13 [==============================] - 0s 2ms/step - loss: 15.2218 - mae: 2.7524\n",
            "Epoch 10/100\n",
            "13/13 [==============================] - 0s 2ms/step - loss: 14.0879 - mae: 2.6576\n",
            "Epoch 11/100\n",
            "13/13 [==============================] - 0s 2ms/step - loss: 13.2822 - mae: 2.5893\n",
            "Epoch 12/100\n",
            "13/13 [==============================] - 0s 2ms/step - loss: 12.5158 - mae: 2.5360\n",
            "Epoch 13/100\n",
            "13/13 [==============================] - 0s 2ms/step - loss: 11.9713 - mae: 2.5024\n",
            "Epoch 14/100\n",
            "13/13 [==============================] - 0s 2ms/step - loss: 11.6068 - mae: 2.4380\n",
            "Epoch 15/100\n",
            "13/13 [==============================] - 0s 2ms/step - loss: 11.4337 - mae: 2.4274\n",
            "Epoch 16/100\n",
            "13/13 [==============================] - 0s 2ms/step - loss: 10.8099 - mae: 2.3742\n",
            "Epoch 17/100\n",
            "13/13 [==============================] - 0s 2ms/step - loss: 10.6869 - mae: 2.3523\n",
            "Epoch 18/100\n",
            "13/13 [==============================] - 0s 2ms/step - loss: 10.6047 - mae: 2.3717\n",
            "Epoch 19/100\n",
            "13/13 [==============================] - 0s 2ms/step - loss: 10.1073 - mae: 2.2848\n",
            "Epoch 20/100\n",
            "13/13 [==============================] - 0s 2ms/step - loss: 10.0748 - mae: 2.3153\n",
            "Epoch 21/100\n",
            "13/13 [==============================] - 0s 3ms/step - loss: 9.9211 - mae: 2.2708\n",
            "Epoch 22/100\n",
            "13/13 [==============================] - 0s 2ms/step - loss: 9.7530 - mae: 2.2814\n",
            "Epoch 23/100\n",
            "13/13 [==============================] - 0s 2ms/step - loss: 9.5194 - mae: 2.2263\n",
            "Epoch 24/100\n",
            "13/13 [==============================] - 0s 2ms/step - loss: 9.3135 - mae: 2.2065\n",
            "Epoch 25/100\n",
            "13/13 [==============================] - 0s 2ms/step - loss: 9.2184 - mae: 2.2030\n",
            "Epoch 26/100\n",
            "13/13 [==============================] - 0s 2ms/step - loss: 8.9755 - mae: 2.1792\n",
            "Epoch 27/100\n",
            "13/13 [==============================] - 0s 2ms/step - loss: 8.8069 - mae: 2.1305\n",
            "Epoch 28/100\n",
            "13/13 [==============================] - 0s 2ms/step - loss: 8.5896 - mae: 2.1273\n",
            "Epoch 29/100\n",
            "13/13 [==============================] - 0s 2ms/step - loss: 8.6258 - mae: 2.1162\n",
            "Epoch 30/100\n",
            "13/13 [==============================] - 0s 2ms/step - loss: 8.5510 - mae: 2.1062\n",
            "Epoch 31/100\n",
            "13/13 [==============================] - 0s 3ms/step - loss: 8.3073 - mae: 2.0545\n",
            "Epoch 32/100\n",
            "13/13 [==============================] - 0s 3ms/step - loss: 8.5381 - mae: 2.0902\n",
            "Epoch 33/100\n",
            "13/13 [==============================] - 0s 4ms/step - loss: 8.1752 - mae: 2.0463\n",
            "Epoch 34/100\n",
            "13/13 [==============================] - 0s 3ms/step - loss: 8.1389 - mae: 2.0567\n",
            "Epoch 35/100\n",
            "13/13 [==============================] - 0s 2ms/step - loss: 7.9908 - mae: 2.0220\n",
            "Epoch 36/100\n",
            "13/13 [==============================] - 0s 3ms/step - loss: 7.8851 - mae: 2.0164\n",
            "Epoch 37/100\n",
            "13/13 [==============================] - 0s 2ms/step - loss: 7.8192 - mae: 2.0152\n",
            "Epoch 38/100\n",
            "13/13 [==============================] - 0s 2ms/step - loss: 7.4181 - mae: 1.9590\n",
            "Epoch 39/100\n",
            "13/13 [==============================] - 0s 2ms/step - loss: 7.4489 - mae: 1.9352\n",
            "Epoch 40/100\n",
            "13/13 [==============================] - 0s 2ms/step - loss: 7.4067 - mae: 1.9386\n",
            "Epoch 41/100\n",
            "13/13 [==============================] - 0s 2ms/step - loss: 7.0615 - mae: 1.9043\n",
            "Epoch 42/100\n",
            "13/13 [==============================] - 0s 2ms/step - loss: 7.2326 - mae: 1.9411\n",
            "Epoch 43/100\n",
            "13/13 [==============================] - 0s 2ms/step - loss: 6.9787 - mae: 1.8881\n",
            "Epoch 44/100\n",
            "13/13 [==============================] - 0s 2ms/step - loss: 7.0167 - mae: 1.9160\n",
            "Epoch 45/100\n",
            "13/13 [==============================] - 0s 2ms/step - loss: 6.8346 - mae: 1.8760\n",
            "Epoch 46/100\n",
            "13/13 [==============================] - 0s 2ms/step - loss: 6.7321 - mae: 1.8753\n",
            "Epoch 47/100\n",
            "13/13 [==============================] - 0s 2ms/step - loss: 6.9339 - mae: 1.8803\n",
            "Epoch 48/100\n",
            "13/13 [==============================] - 0s 2ms/step - loss: 7.0731 - mae: 1.9257\n",
            "Epoch 49/100\n",
            "13/13 [==============================] - 0s 2ms/step - loss: 6.5810 - mae: 1.8535\n",
            "Epoch 50/100\n",
            "13/13 [==============================] - 0s 2ms/step - loss: 6.2962 - mae: 1.7962\n",
            "Epoch 51/100\n",
            "13/13 [==============================] - 0s 2ms/step - loss: 6.2885 - mae: 1.7845\n",
            "Epoch 52/100\n",
            "13/13 [==============================] - 0s 2ms/step - loss: 6.4172 - mae: 1.8341\n",
            "Epoch 53/100\n",
            "13/13 [==============================] - 0s 2ms/step - loss: 6.4882 - mae: 1.7994\n",
            "Epoch 54/100\n",
            "13/13 [==============================] - 0s 2ms/step - loss: 6.1254 - mae: 1.7859\n",
            "Epoch 55/100\n",
            "13/13 [==============================] - 0s 2ms/step - loss: 5.8230 - mae: 1.7168\n",
            "Epoch 56/100\n",
            "13/13 [==============================] - 0s 2ms/step - loss: 6.2208 - mae: 1.8247\n",
            "Epoch 57/100\n",
            "13/13 [==============================] - 0s 2ms/step - loss: 6.1458 - mae: 1.8107\n",
            "Epoch 58/100\n",
            "13/13 [==============================] - 0s 2ms/step - loss: 5.8622 - mae: 1.7336\n",
            "Epoch 59/100\n",
            "13/13 [==============================] - 0s 2ms/step - loss: 5.9132 - mae: 1.7482\n",
            "Epoch 60/100\n",
            "13/13 [==============================] - 0s 2ms/step - loss: 5.4312 - mae: 1.6706\n",
            "Epoch 61/100\n",
            "13/13 [==============================] - 0s 2ms/step - loss: 5.4641 - mae: 1.6996\n",
            "Epoch 62/100\n",
            "13/13 [==============================] - 0s 2ms/step - loss: 5.5108 - mae: 1.6855\n",
            "Epoch 63/100\n",
            "13/13 [==============================] - 0s 2ms/step - loss: 5.4775 - mae: 1.6731\n",
            "Epoch 64/100\n",
            "13/13 [==============================] - 0s 2ms/step - loss: 5.4232 - mae: 1.6740\n",
            "Epoch 65/100\n",
            "13/13 [==============================] - 0s 2ms/step - loss: 5.3929 - mae: 1.6589\n",
            "Epoch 66/100\n",
            "13/13 [==============================] - 0s 2ms/step - loss: 5.2387 - mae: 1.6795\n",
            "Epoch 67/100\n",
            "13/13 [==============================] - 0s 2ms/step - loss: 4.9151 - mae: 1.5993\n",
            "Epoch 68/100\n",
            "13/13 [==============================] - 0s 2ms/step - loss: 4.9839 - mae: 1.6092\n",
            "Epoch 69/100\n",
            "13/13 [==============================] - 0s 2ms/step - loss: 4.9616 - mae: 1.6038\n",
            "Epoch 70/100\n",
            "13/13 [==============================] - 0s 2ms/step - loss: 4.9935 - mae: 1.6056\n",
            "Epoch 71/100\n",
            "13/13 [==============================] - 0s 2ms/step - loss: 4.8075 - mae: 1.5684\n",
            "Epoch 72/100\n",
            "13/13 [==============================] - 0s 3ms/step - loss: 4.6626 - mae: 1.5562\n",
            "Epoch 73/100\n",
            "13/13 [==============================] - 0s 2ms/step - loss: 4.6751 - mae: 1.5658\n",
            "Epoch 74/100\n",
            "13/13 [==============================] - 0s 6ms/step - loss: 4.6725 - mae: 1.5662\n",
            "Epoch 75/100\n",
            "13/13 [==============================] - 0s 2ms/step - loss: 4.5837 - mae: 1.5453\n",
            "Epoch 76/100\n",
            "13/13 [==============================] - 0s 2ms/step - loss: 4.6961 - mae: 1.5536\n",
            "Epoch 77/100\n",
            "13/13 [==============================] - 0s 2ms/step - loss: 4.4533 - mae: 1.5646\n",
            "Epoch 78/100\n",
            "13/13 [==============================] - 0s 2ms/step - loss: 4.5590 - mae: 1.5593\n",
            "Epoch 79/100\n",
            "13/13 [==============================] - 0s 2ms/step - loss: 4.3541 - mae: 1.5309\n",
            "Epoch 80/100\n",
            "13/13 [==============================] - 0s 2ms/step - loss: 4.1429 - mae: 1.4845\n",
            "Epoch 81/100\n",
            "13/13 [==============================] - 0s 2ms/step - loss: 4.3860 - mae: 1.5255\n",
            "Epoch 82/100\n",
            "13/13 [==============================] - 0s 2ms/step - loss: 4.1006 - mae: 1.5001\n",
            "Epoch 83/100\n",
            "13/13 [==============================] - 0s 2ms/step - loss: 4.1185 - mae: 1.4935\n",
            "Epoch 84/100\n",
            "13/13 [==============================] - 0s 2ms/step - loss: 4.0084 - mae: 1.4709\n",
            "Epoch 85/100\n",
            "13/13 [==============================] - 0s 2ms/step - loss: 4.1261 - mae: 1.5131\n",
            "Epoch 86/100\n",
            "13/13 [==============================] - 0s 2ms/step - loss: 3.9600 - mae: 1.4235\n",
            "Epoch 87/100\n",
            "13/13 [==============================] - 0s 2ms/step - loss: 3.8078 - mae: 1.4065\n",
            "Epoch 88/100\n",
            "13/13 [==============================] - 0s 2ms/step - loss: 3.7549 - mae: 1.4270\n",
            "Epoch 89/100\n",
            "13/13 [==============================] - 0s 2ms/step - loss: 3.6489 - mae: 1.3853\n",
            "Epoch 90/100\n",
            "13/13 [==============================] - 0s 4ms/step - loss: 3.6374 - mae: 1.4026\n",
            "Epoch 91/100\n",
            "13/13 [==============================] - 0s 2ms/step - loss: 3.6334 - mae: 1.4143\n",
            "Epoch 92/100\n",
            "13/13 [==============================] - 0s 2ms/step - loss: 3.5329 - mae: 1.3765\n",
            "Epoch 93/100\n",
            "13/13 [==============================] - 0s 2ms/step - loss: 3.6538 - mae: 1.4029\n",
            "Epoch 94/100\n",
            "13/13 [==============================] - 0s 2ms/step - loss: 3.9895 - mae: 1.4818\n",
            "Epoch 95/100\n",
            "13/13 [==============================] - 0s 2ms/step - loss: 3.6730 - mae: 1.3631\n",
            "Epoch 96/100\n",
            "13/13 [==============================] - 0s 2ms/step - loss: 3.4823 - mae: 1.3806\n",
            "Epoch 97/100\n",
            "13/13 [==============================] - 0s 2ms/step - loss: 3.3773 - mae: 1.3296\n",
            "Epoch 98/100\n",
            "13/13 [==============================] - 0s 2ms/step - loss: 3.3845 - mae: 1.3575\n",
            "Epoch 99/100\n",
            "13/13 [==============================] - 0s 2ms/step - loss: 3.4807 - mae: 1.3825\n",
            "Epoch 100/100\n",
            "13/13 [==============================] - 0s 2ms/step - loss: 3.2044 - mae: 1.3354\n",
            "CPU times: total: 6.34 s\n",
            "Wall time: 4.55 s\n"
          ]
        },
        {
          "data": {
            "text/plain": [
              "<keras.callbacks.History at 0x146bd490250>"
            ]
          },
          "execution_count": 10,
          "metadata": {},
          "output_type": "execute_result"
        }
      ],
      "source": [
        "%%time\n",
        "\n",
        "num_epochs = 100\n",
        "\n",
        "model.fit(X_train, y_train,\n",
        "          epochs=num_epochs)"
      ]
    },
    {
      "cell_type": "code",
      "execution_count": 11,
      "metadata": {},
      "outputs": [
        {
          "name": "stdout",
          "output_type": "stream",
          "text": [
            "4/4 - 0s - loss: 12.9750 - mae: 2.5086 - 201ms/epoch - 50ms/step\n",
            "\n",
            "Точность на тестовых данных: 2.508575201034546\n"
          ]
        }
      ],
      "source": [
        "test_loss, test_acc = model.evaluate(X_test, y_test, verbose=2)\n",
        "print(\"\\nТочность на тестовых данных:\", test_acc)"
      ]
    },
    {
      "cell_type": "markdown",
      "metadata": {
        "id": "EtQKfdyWOXB5"
      },
      "source": [
        "Сейчас прошло 13 батчей через сеть"
      ]
    },
    {
      "cell_type": "markdown",
      "metadata": {
        "id": "KPRwWBzXOmAA"
      },
      "source": [
        "#### **batch_size**\n",
        "> batch_size: Integer или None.<br>\n",
        "Количество сэмплов за один шаг градиентного спуска<br>\n",
        "Если None, то batch_size примет дефолтное значение 32<br>\n",
        "Не указывайте batch_size, если ваши данные представлены в виде генератора или keras.utils.Sequence (из-за того, что они сами генерируют данные батчами)"
      ]
    },
    {
      "cell_type": "code",
      "execution_count": 11,
      "metadata": {
        "colab": {
          "base_uri": "https://localhost:8080/"
        },
        "id": "ekb4bBmeOHFl",
        "outputId": "90536bbf-71b7-49b9-8363-0c691efcfe06"
      },
      "outputs": [
        {
          "data": {
            "text/plain": [
              "(404, 13)"
            ]
          },
          "execution_count": 11,
          "metadata": {},
          "output_type": "execute_result"
        }
      ],
      "source": [
        "X_train.shape"
      ]
    },
    {
      "cell_type": "code",
      "execution_count": 15,
      "metadata": {
        "colab": {
          "base_uri": "https://localhost:8080/"
        },
        "id": "k4mULIhJOZUY",
        "outputId": "62517af6-9b68-483d-c20b-fcf1321f0d6e"
      },
      "outputs": [
        {
          "data": {
            "text/plain": [
              "12.625"
            ]
          },
          "execution_count": 15,
          "metadata": {},
          "output_type": "execute_result"
        }
      ],
      "source": [
        "404 / 32"
      ]
    },
    {
      "cell_type": "markdown",
      "metadata": {
        "id": "3fOpPUEDOE2T"
      },
      "source": [
        "<img src='https://drive.google.com/uc?export=view&id=1j8SxKYEi12jzJXi_bPO28q5SV9emuu0Y'>"
      ]
    },
    {
      "cell_type": "code",
      "execution_count": 16,
      "metadata": {
        "colab": {
          "base_uri": "https://localhost:8080/"
        },
        "id": "2TEVf7n6OxA6",
        "outputId": "b0123b4b-1a31-49e6-b70f-d7358762f4b2"
      },
      "outputs": [
        {
          "name": "stdout",
          "output_type": "stream",
          "text": [
            "Epoch 1/10\n",
            "1/7 [===>..........................] - ETA: 0s - loss: 11.5362 - mae: 2.1041"
          ]
        },
        {
          "name": "stdout",
          "output_type": "stream",
          "text": [
            "7/7 [==============================] - 0s 2ms/step - loss: 5.5365 - mae: 1.6563\n",
            "Epoch 2/10\n",
            "7/7 [==============================] - 0s 2ms/step - loss: 5.5024 - mae: 1.6502\n",
            "Epoch 3/10\n",
            "7/7 [==============================] - 0s 2ms/step - loss: 5.5291 - mae: 1.6455\n",
            "Epoch 4/10\n",
            "7/7 [==============================] - 0s 1ms/step - loss: 5.5026 - mae: 1.6339\n",
            "Epoch 5/10\n",
            "7/7 [==============================] - 0s 2ms/step - loss: 5.4736 - mae: 1.6314\n",
            "Epoch 6/10\n",
            "7/7 [==============================] - 0s 2ms/step - loss: 5.4676 - mae: 1.6356\n",
            "Epoch 7/10\n",
            "7/7 [==============================] - 0s 7ms/step - loss: 5.5055 - mae: 1.6454\n",
            "Epoch 8/10\n",
            "7/7 [==============================] - 0s 2ms/step - loss: 5.4512 - mae: 1.6399\n",
            "Epoch 9/10\n",
            "7/7 [==============================] - 0s 2ms/step - loss: 5.4579 - mae: 1.6388\n",
            "Epoch 10/10\n",
            "7/7 [==============================] - 0s 2ms/step - loss: 5.4648 - mae: 1.6373\n",
            "CPU times: total: 250 ms\n",
            "Wall time: 262 ms\n"
          ]
        },
        {
          "data": {
            "text/plain": [
              "<keras.callbacks.History at 0x22001cda560>"
            ]
          },
          "execution_count": 16,
          "metadata": {},
          "output_type": "execute_result"
        }
      ],
      "source": [
        "%%time\n",
        "num_epochs = 10\n",
        "\n",
        "model.fit(X_train, y_train,\n",
        "          epochs=num_epochs,\n",
        "          batch_size=64)"
      ]
    },
    {
      "cell_type": "code",
      "execution_count": null,
      "metadata": {
        "colab": {
          "base_uri": "https://localhost:8080/"
        },
        "id": "XREUhIiMUELz",
        "outputId": "fa23eab7-d0d5-4e06-8e6c-dd441b1a37d0"
      },
      "outputs": [
        {
          "data": {
            "text/plain": [
              "6.3125"
            ]
          },
          "execution_count": 37,
          "metadata": {},
          "output_type": "execute_result"
        }
      ],
      "source": [
        "404 / 64"
      ]
    },
    {
      "cell_type": "code",
      "execution_count": null,
      "metadata": {
        "colab": {
          "base_uri": "https://localhost:8080/"
        },
        "id": "1ZGrjXFdOxPA",
        "outputId": "c6f55671-7dcd-446a-80a5-c38d18fd8138"
      },
      "outputs": [
        {
          "name": "stdout",
          "output_type": "stream",
          "text": [
            "Epoch 1/10\n",
            "1/1 [==============================] - 0s 183ms/step - loss: 68.9849 - mae: 6.0634\n",
            "Epoch 2/10\n",
            "1/1 [==============================] - 0s 14ms/step - loss: 68.2099 - mae: 6.0216\n",
            "Epoch 3/10\n",
            "1/1 [==============================] - 0s 11ms/step - loss: 67.4433 - mae: 5.9807\n",
            "Epoch 4/10\n",
            "1/1 [==============================] - 0s 11ms/step - loss: 66.6846 - mae: 5.9404\n",
            "Epoch 5/10\n",
            "1/1 [==============================] - 0s 9ms/step - loss: 65.9333 - mae: 5.9007\n",
            "Epoch 6/10\n",
            "1/1 [==============================] - 0s 9ms/step - loss: 65.1889 - mae: 5.8613\n",
            "Epoch 7/10\n",
            "1/1 [==============================] - 0s 9ms/step - loss: 64.4519 - mae: 5.8223\n",
            "Epoch 8/10\n",
            "1/1 [==============================] - 0s 6ms/step - loss: 63.7225 - mae: 5.7836\n",
            "Epoch 9/10\n",
            "1/1 [==============================] - 0s 6ms/step - loss: 63.0009 - mae: 5.7454\n",
            "Epoch 10/10\n",
            "1/1 [==============================] - 0s 6ms/step - loss: 62.2875 - mae: 5.7079\n",
            "CPU times: user 331 ms, sys: 8.28 ms, total: 339 ms\n",
            "Wall time: 342 ms\n"
          ]
        }
      ],
      "source": [
        "%%time\n",
        "num_epochs = 10\n",
        "\n",
        "model.fit(X_train, y_train,\n",
        "          epochs=num_epochs,\n",
        "          batch_size=404)"
      ]
    },
    {
      "cell_type": "markdown",
      "metadata": {
        "id": "jskYwkWFPX8e"
      },
      "source": [
        "#### **steps_per_epoch**\n",
        "\n",
        ">  steps_per_epoch: Integer or `None`.<br>\n",
        "        Общее количество шагов (батчей сэмплов) на одной эпохе. <br>\n",
        "        Если стоит None, то steps_per_epoch равняется количеству сэмплов в датасете деленное на batch size"
      ]
    },
    {
      "cell_type": "code",
      "execution_count": null,
      "metadata": {
        "colab": {
          "base_uri": "https://localhost:8080/"
        },
        "id": "mbCJjK6qUxY-",
        "outputId": "7f2093d5-43f4-4bed-d0bc-611dc01fae18"
      },
      "outputs": [
        {
          "data": {
            "text/plain": [
              "40.4"
            ]
          },
          "execution_count": 40,
          "metadata": {},
          "output_type": "execute_result"
        }
      ],
      "source": [
        "404 / 10"
      ]
    },
    {
      "cell_type": "code",
      "execution_count": null,
      "metadata": {
        "colab": {
          "base_uri": "https://localhost:8080/"
        },
        "id": "elDajMhxPXv3",
        "outputId": "e7bde01d-ac5e-45bc-d346-0e7f3b93e0b3"
      },
      "outputs": [
        {
          "name": "stdout",
          "output_type": "stream",
          "text": [
            "Epoch 1/10\n",
            "10/10 [==============================] - 0s 2ms/step - loss: 58.5746 - mae: 5.5218\n",
            "Epoch 2/10\n",
            "10/10 [==============================] - 0s 2ms/step - loss: 52.8691 - mae: 5.2081\n",
            "Epoch 3/10\n",
            "10/10 [==============================] - 0s 2ms/step - loss: 47.0966 - mae: 4.9088\n",
            "Epoch 4/10\n",
            "10/10 [==============================] - 0s 2ms/step - loss: 43.0253 - mae: 4.6953\n",
            "Epoch 5/10\n",
            "10/10 [==============================] - 0s 2ms/step - loss: 39.3765 - mae: 4.4933\n",
            "Epoch 6/10\n",
            "10/10 [==============================] - 0s 2ms/step - loss: 36.2800 - mae: 4.3142\n",
            "Epoch 7/10\n",
            "10/10 [==============================] - 0s 2ms/step - loss: 33.6417 - mae: 4.1737\n",
            "Epoch 8/10\n",
            "10/10 [==============================] - 0s 2ms/step - loss: 31.5410 - mae: 4.0545\n",
            "Epoch 9/10\n",
            "10/10 [==============================] - 0s 2ms/step - loss: 29.8779 - mae: 3.9553\n",
            "Epoch 10/10\n",
            "10/10 [==============================] - 0s 2ms/step - loss: 28.2445 - mae: 3.8496\n",
            "CPU times: user 327 ms, sys: 24.5 ms, total: 351 ms\n",
            "Wall time: 330 ms\n"
          ]
        }
      ],
      "source": [
        "%%time\n",
        "num_epochs = 10\n",
        "\n",
        "model.fit(X_train, y_train,\n",
        "          epochs=num_epochs,\n",
        "          steps_per_epoch=10)"
      ]
    },
    {
      "cell_type": "markdown",
      "metadata": {
        "id": "IaDwXXa9QSWO"
      },
      "source": [
        "#### **validation_split**\n",
        "\n",
        "> validation_split: Float между 0 и 1.<br>\n",
        "        Доля обучающих данных, которая будет использоваться как валидационная часть<br>\n",
        "        Модель возьмет эту долю и не будет на ней обучаться, а будет подсчитывать метрики и функцию потерь в конце каждой эпохи<br>\n",
        "        Данные для валидации берутся из данных с конца в `x` и `y` **до перемешивания**."
      ]
    },
    {
      "cell_type": "code",
      "execution_count": null,
      "metadata": {
        "colab": {
          "base_uri": "https://localhost:8080/"
        },
        "id": "VJgIZmddVP8c",
        "outputId": "db4f69c9-6167-42fb-e816-74745e721963"
      },
      "outputs": [
        {
          "data": {
            "text/plain": [
              "323"
            ]
          },
          "execution_count": 45,
          "metadata": {},
          "output_type": "execute_result"
        }
      ],
      "source": [
        "404 - 81"
      ]
    },
    {
      "cell_type": "code",
      "execution_count": null,
      "metadata": {
        "colab": {
          "base_uri": "https://localhost:8080/"
        },
        "id": "ncS1dP4rQR9f",
        "outputId": "5b9eb260-d6b5-47c2-9ece-19ffc8794969"
      },
      "outputs": [
        {
          "name": "stdout",
          "output_type": "stream",
          "text": [
            "Epoch 1/10\n",
            "323/323 [==============================] - 1s 3ms/step - loss: 23.7887 - mae: 3.4618 - val_loss: 22.3951 - val_mae: 3.4461\n",
            "Epoch 2/10\n",
            "323/323 [==============================] - 1s 2ms/step - loss: 18.3039 - mae: 3.0675 - val_loss: 18.8717 - val_mae: 3.1509\n",
            "Epoch 3/10\n",
            "323/323 [==============================] - 1s 3ms/step - loss: 15.8008 - mae: 2.7966 - val_loss: 19.4543 - val_mae: 3.3434\n",
            "Epoch 4/10\n",
            "323/323 [==============================] - 1s 3ms/step - loss: 13.8707 - mae: 2.6303 - val_loss: 16.4949 - val_mae: 3.0323\n",
            "Epoch 5/10\n",
            "323/323 [==============================] - 1s 3ms/step - loss: 12.9570 - mae: 2.4865 - val_loss: 15.5677 - val_mae: 2.8850\n",
            "Epoch 6/10\n",
            "323/323 [==============================] - 1s 3ms/step - loss: 11.7685 - mae: 2.3840 - val_loss: 16.9575 - val_mae: 2.7447\n",
            "Epoch 7/10\n",
            "323/323 [==============================] - 1s 2ms/step - loss: 11.1454 - mae: 2.3930 - val_loss: 14.1790 - val_mae: 2.6787\n",
            "Epoch 8/10\n",
            "323/323 [==============================] - 1s 2ms/step - loss: 10.9632 - mae: 2.2944 - val_loss: 14.8609 - val_mae: 2.7368\n",
            "Epoch 9/10\n",
            "323/323 [==============================] - 1s 2ms/step - loss: 10.2214 - mae: 2.1759 - val_loss: 18.4467 - val_mae: 3.0628\n",
            "Epoch 10/10\n",
            "323/323 [==============================] - 1s 2ms/step - loss: 10.0996 - mae: 2.2170 - val_loss: 17.3058 - val_mae: 2.7520\n",
            "CPU times: user 8.91 s, sys: 491 ms, total: 9.4 s\n",
            "Wall time: 10.5 s\n"
          ]
        }
      ],
      "source": [
        "%%time\n",
        "num_epochs = 10\n",
        "\n",
        "model.fit(X_train, y_train,\n",
        "          epochs=num_epochs,\n",
        "          batch_size=1,\n",
        "          validation_split=0.2)"
      ]
    },
    {
      "cell_type": "markdown",
      "metadata": {
        "id": "uISMy0AEQp0t"
      },
      "source": [
        "#### **validation_data**\n",
        "\n",
        "> validation_data: Данные, на которых считается функция потерь и метрики в конце каждой эпохи<br>\n",
        "Модель не будет обучаться на этих данных\n"
      ]
    },
    {
      "cell_type": "code",
      "execution_count": null,
      "metadata": {
        "colab": {
          "base_uri": "https://localhost:8080/"
        },
        "id": "NSL_MVEFRG1I",
        "outputId": "5277023b-f2ae-4c81-99b9-d80c30b7906f"
      },
      "outputs": [
        {
          "name": "stdout",
          "output_type": "stream",
          "text": [
            "Epoch 1/10\n",
            "404/404 [==============================] - 1s 2ms/step - loss: 10.6234 - mae: 2.2634 - val_loss: 22.9307 - val_mae: 2.9804\n",
            "Epoch 2/10\n",
            "404/404 [==============================] - 1s 2ms/step - loss: 10.3111 - mae: 2.2410 - val_loss: 22.5022 - val_mae: 3.0728\n",
            "Epoch 3/10\n",
            "404/404 [==============================] - 1s 2ms/step - loss: 9.8253 - mae: 2.2548 - val_loss: 24.5678 - val_mae: 2.9912\n",
            "Epoch 4/10\n",
            "404/404 [==============================] - 1s 2ms/step - loss: 9.7436 - mae: 2.2245 - val_loss: 26.1471 - val_mae: 3.1539\n",
            "Epoch 5/10\n",
            "404/404 [==============================] - 1s 2ms/step - loss: 9.3499 - mae: 2.1764 - val_loss: 22.1797 - val_mae: 2.9892\n",
            "Epoch 6/10\n",
            "404/404 [==============================] - 1s 2ms/step - loss: 8.9368 - mae: 2.1157 - val_loss: 22.1921 - val_mae: 2.8944\n",
            "Epoch 7/10\n",
            "404/404 [==============================] - 1s 2ms/step - loss: 8.7185 - mae: 2.1304 - val_loss: 23.7712 - val_mae: 2.9776\n",
            "Epoch 8/10\n",
            "404/404 [==============================] - 1s 2ms/step - loss: 8.8730 - mae: 2.1336 - val_loss: 22.6418 - val_mae: 3.0593\n",
            "Epoch 9/10\n",
            "404/404 [==============================] - 1s 2ms/step - loss: 8.4429 - mae: 2.0925 - val_loss: 25.5204 - val_mae: 3.1512\n",
            "Epoch 10/10\n",
            "404/404 [==============================] - 1s 2ms/step - loss: 8.5598 - mae: 2.1031 - val_loss: 20.9785 - val_mae: 2.9012\n",
            "CPU times: user 10.4 s, sys: 618 ms, total: 11.1 s\n",
            "Wall time: 9.67 s\n"
          ]
        }
      ],
      "source": [
        "%%time\n",
        "num_epochs = 10\n",
        "\n",
        "model.fit(X_train, y_train,\n",
        "          epochs=num_epochs,\n",
        "          batch_size=1,\n",
        "          validation_data=(X_test, y_test))"
      ]
    },
    {
      "cell_type": "markdown",
      "metadata": {
        "id": "3WgOrPa_Ru1B"
      },
      "source": [
        "#### **validation_batch_size**\n",
        "\n",
        ">validation_batch_size: Integer или `None`.<br>\n",
        "        Количество сэмплов в один валидационный батч<br>\n",
        "        Если None, то по дефолту равняется `batch_size`.<br>\n",
        "        Не указывайте `validation_batch_size`, если ваши данные представлены в виде генератора или keras.utils.Sequence (из-за того, что они сами генерируют данные батчами)"
      ]
    },
    {
      "cell_type": "code",
      "execution_count": null,
      "metadata": {
        "colab": {
          "base_uri": "https://localhost:8080/"
        },
        "id": "ThsEzmj_SKWr",
        "outputId": "358b272f-5467-40ce-885d-2aad28aab5d5"
      },
      "outputs": [
        {
          "data": {
            "text/plain": [
              "(102, 13)"
            ]
          },
          "execution_count": 47,
          "metadata": {},
          "output_type": "execute_result"
        }
      ],
      "source": [
        "X_test.shape"
      ]
    },
    {
      "cell_type": "code",
      "execution_count": null,
      "metadata": {
        "colab": {
          "base_uri": "https://localhost:8080/"
        },
        "id": "wrg5omkiRj1B",
        "outputId": "dd7236ea-f6a2-47f5-d4b8-ed26c72ecbfe"
      },
      "outputs": [
        {
          "name": "stdout",
          "output_type": "stream",
          "text": [
            "Epoch 1/10\n",
            "404/404 [==============================] - 1s 2ms/step - loss: 7.2319 - mae: 1.9065 - val_loss: 18.4802 - val_mae: 2.6468\n",
            "Epoch 2/10\n",
            "404/404 [==============================] - 1s 2ms/step - loss: 7.3097 - mae: 1.9392 - val_loss: 19.0097 - val_mae: 2.6813\n",
            "Epoch 3/10\n",
            "404/404 [==============================] - 1s 2ms/step - loss: 6.9716 - mae: 1.9379 - val_loss: 20.7965 - val_mae: 2.7282\n",
            "Epoch 4/10\n",
            "404/404 [==============================] - 1s 2ms/step - loss: 7.2285 - mae: 1.9399 - val_loss: 22.9594 - val_mae: 2.9067\n",
            "Epoch 5/10\n",
            "404/404 [==============================] - 1s 2ms/step - loss: 7.0538 - mae: 1.9161 - val_loss: 18.5269 - val_mae: 2.7269\n",
            "Epoch 6/10\n",
            "404/404 [==============================] - 2s 4ms/step - loss: 6.9260 - mae: 1.9017 - val_loss: 18.7155 - val_mae: 2.6446\n",
            "Epoch 7/10\n",
            "404/404 [==============================] - 1s 3ms/step - loss: 6.5769 - mae: 1.8571 - val_loss: 21.4642 - val_mae: 2.8613\n",
            "Epoch 8/10\n",
            "404/404 [==============================] - 1s 2ms/step - loss: 6.9314 - mae: 1.9247 - val_loss: 20.0303 - val_mae: 2.8935\n",
            "Epoch 9/10\n",
            "404/404 [==============================] - 1s 2ms/step - loss: 6.5798 - mae: 1.8599 - val_loss: 22.4113 - val_mae: 2.9370\n",
            "Epoch 10/10\n",
            "404/404 [==============================] - 1s 2ms/step - loss: 6.6844 - mae: 1.8754 - val_loss: 18.5403 - val_mae: 2.7512\n",
            "CPU times: user 10.2 s, sys: 628 ms, total: 10.8 s\n",
            "Wall time: 20.5 s\n"
          ]
        }
      ],
      "source": [
        "%%time\n",
        "num_epochs = 10\n",
        "\n",
        "model.fit(X_train, y_train,\n",
        "          epochs=num_epochs,\n",
        "          batch_size=1,\n",
        "          validation_data=(X_test, y_test),\n",
        "          validation_batch_size=X_test.shape[0])"
      ]
    },
    {
      "cell_type": "markdown",
      "metadata": {
        "id": "w_ceE1SIR8Vt"
      },
      "source": [
        "#### **validation_freq**\n",
        ">validation_freq: Только нужен, если предоставлены validation data. Integer\n",
        "        или `collections.abc.Container` (например, list, tuple, и др.).<br>\n",
        "        Если integer, то столько эпох с обучением пройдет, до одной валидации, например, `validation_freq=2` будет запускать валидацию каждые 2 эпохи.<br>\n",
        "        Если это Container, то валидация будет запущена в эти эпохи, к примеру,`validation_freq=[1, 2, 10]` запускает валидацию на 1, 2 и 10 эпохах."
      ]
    },
    {
      "cell_type": "code",
      "execution_count": 12,
      "metadata": {
        "colab": {
          "base_uri": "https://localhost:8080/"
        },
        "id": "2O7qWnJKSQwz",
        "outputId": "1519d84d-3bf2-4fd5-dfab-63d0de59ed1d"
      },
      "outputs": [
        {
          "name": "stdout",
          "output_type": "stream",
          "text": [
            "Epoch 1/200\n",
            "  1/404 [..............................] - ETA: 2s - loss: 1.3375 - mae: 1.1565"
          ]
        },
        {
          "name": "stdout",
          "output_type": "stream",
          "text": [
            "404/404 [==============================] - 1s 2ms/step - loss: 8.6601 - mae: 2.2287\n",
            "Epoch 2/200\n",
            "404/404 [==============================] - 1s 2ms/step - loss: 9.1808 - mae: 2.2719\n",
            "Epoch 3/200\n",
            "404/404 [==============================] - 1s 2ms/step - loss: 8.4288 - mae: 2.1259 - val_loss: 22.8982 - val_mae: 3.1228\n",
            "Epoch 4/200\n",
            "404/404 [==============================] - 1s 2ms/step - loss: 8.7320 - mae: 2.1880\n",
            "Epoch 5/200\n",
            "404/404 [==============================] - 1s 2ms/step - loss: 8.1617 - mae: 2.1176\n",
            "Epoch 6/200\n",
            "404/404 [==============================] - 1s 2ms/step - loss: 8.6938 - mae: 2.1331 - val_loss: 18.4184 - val_mae: 2.6647\n",
            "Epoch 7/200\n",
            "404/404 [==============================] - 1s 1ms/step - loss: 7.4333 - mae: 2.0237\n",
            "Epoch 8/200\n",
            "404/404 [==============================] - 1s 2ms/step - loss: 8.0074 - mae: 2.0284\n",
            "Epoch 9/200\n",
            "404/404 [==============================] - 1s 2ms/step - loss: 7.5995 - mae: 1.9902 - val_loss: 29.5300 - val_mae: 3.9697\n",
            "Epoch 10/200\n",
            "404/404 [==============================] - 1s 2ms/step - loss: 7.0676 - mae: 1.9891\n",
            "Epoch 11/200\n",
            "404/404 [==============================] - 1s 2ms/step - loss: 6.5217 - mae: 1.8869\n",
            "Epoch 12/200\n",
            "404/404 [==============================] - 1s 2ms/step - loss: 5.4722 - mae: 1.7536 - val_loss: 33.1526 - val_mae: 3.5840\n",
            "Epoch 13/200\n",
            "404/404 [==============================] - 1s 2ms/step - loss: 6.2628 - mae: 1.8327\n",
            "Epoch 14/200\n",
            "404/404 [==============================] - 1s 2ms/step - loss: 6.3508 - mae: 1.8524\n",
            "Epoch 15/200\n",
            "404/404 [==============================] - 1s 2ms/step - loss: 7.2632 - mae: 1.9503 - val_loss: 16.9341 - val_mae: 2.9521\n",
            "Epoch 16/200\n",
            "404/404 [==============================] - 1s 2ms/step - loss: 6.5345 - mae: 1.8901\n",
            "Epoch 17/200\n",
            "404/404 [==============================] - 1s 2ms/step - loss: 5.7681 - mae: 1.7321\n",
            "Epoch 18/200\n",
            "404/404 [==============================] - 1s 2ms/step - loss: 5.4675 - mae: 1.7632 - val_loss: 11.9706 - val_mae: 2.3185\n",
            "Epoch 19/200\n",
            "404/404 [==============================] - 1s 2ms/step - loss: 5.8197 - mae: 1.8025\n",
            "Epoch 20/200\n",
            "404/404 [==============================] - 1s 2ms/step - loss: 7.3164 - mae: 1.9328\n",
            "Epoch 21/200\n",
            "404/404 [==============================] - 1s 2ms/step - loss: 5.5040 - mae: 1.7832 - val_loss: 16.8184 - val_mae: 2.6789\n",
            "Epoch 22/200\n",
            "404/404 [==============================] - 1s 2ms/step - loss: 6.2080 - mae: 1.8212\n",
            "Epoch 23/200\n",
            "404/404 [==============================] - 1s 2ms/step - loss: 4.5801 - mae: 1.5955\n",
            "Epoch 24/200\n",
            "404/404 [==============================] - 1s 2ms/step - loss: 5.3069 - mae: 1.7402 - val_loss: 15.4257 - val_mae: 2.8252\n",
            "Epoch 25/200\n",
            "404/404 [==============================] - 1s 1ms/step - loss: 4.2014 - mae: 1.5687\n",
            "Epoch 26/200\n",
            "404/404 [==============================] - 1s 2ms/step - loss: 5.1887 - mae: 1.6692\n",
            "Epoch 27/200\n",
            "404/404 [==============================] - 1s 2ms/step - loss: 6.0233 - mae: 1.7962 - val_loss: 14.3400 - val_mae: 2.8121\n",
            "Epoch 28/200\n",
            "404/404 [==============================] - 1s 2ms/step - loss: 4.8061 - mae: 1.6026\n",
            "Epoch 29/200\n",
            "404/404 [==============================] - 1s 2ms/step - loss: 4.9369 - mae: 1.6590\n",
            "Epoch 30/200\n",
            "404/404 [==============================] - 1s 2ms/step - loss: 4.2270 - mae: 1.5457 - val_loss: 12.6459 - val_mae: 2.4656\n",
            "Epoch 31/200\n",
            "404/404 [==============================] - 1s 2ms/step - loss: 4.5908 - mae: 1.6022\n",
            "Epoch 32/200\n",
            "404/404 [==============================] - 1s 2ms/step - loss: 4.9942 - mae: 1.6533\n",
            "Epoch 33/200\n",
            "404/404 [==============================] - 1s 2ms/step - loss: 5.9613 - mae: 1.7978 - val_loss: 12.9031 - val_mae: 2.3861\n",
            "Epoch 34/200\n",
            "404/404 [==============================] - 1s 2ms/step - loss: 4.1765 - mae: 1.5425\n",
            "Epoch 35/200\n",
            "404/404 [==============================] - 1s 2ms/step - loss: 3.6700 - mae: 1.4415\n",
            "Epoch 36/200\n",
            "404/404 [==============================] - 1s 2ms/step - loss: 3.5912 - mae: 1.3861 - val_loss: 15.1027 - val_mae: 2.8007\n",
            "Epoch 37/200\n",
            "404/404 [==============================] - 1s 2ms/step - loss: 4.7425 - mae: 1.5656\n",
            "Epoch 38/200\n",
            "404/404 [==============================] - 1s 2ms/step - loss: 3.9802 - mae: 1.4870\n",
            "Epoch 39/200\n",
            "404/404 [==============================] - 1s 2ms/step - loss: 4.8510 - mae: 1.6400 - val_loss: 12.7363 - val_mae: 2.5974\n",
            "Epoch 40/200\n",
            "404/404 [==============================] - 1s 2ms/step - loss: 3.4298 - mae: 1.3945\n",
            "Epoch 41/200\n",
            "404/404 [==============================] - 1s 2ms/step - loss: 3.4504 - mae: 1.3911\n",
            "Epoch 42/200\n",
            "404/404 [==============================] - 1s 2ms/step - loss: 3.8690 - mae: 1.4841 - val_loss: 16.3296 - val_mae: 2.6835\n",
            "Epoch 43/200\n",
            "404/404 [==============================] - 1s 2ms/step - loss: 3.6434 - mae: 1.4802\n",
            "Epoch 44/200\n",
            "404/404 [==============================] - 1s 2ms/step - loss: 4.3402 - mae: 1.5475\n",
            "Epoch 45/200\n",
            "404/404 [==============================] - 1s 2ms/step - loss: 3.2637 - mae: 1.3994 - val_loss: 12.3583 - val_mae: 2.4972\n",
            "Epoch 46/200\n",
            "404/404 [==============================] - 1s 2ms/step - loss: 3.3465 - mae: 1.3777\n",
            "Epoch 47/200\n",
            "404/404 [==============================] - 1s 2ms/step - loss: 4.4172 - mae: 1.5105\n",
            "Epoch 48/200\n",
            "404/404 [==============================] - 1s 2ms/step - loss: 3.6970 - mae: 1.4074 - val_loss: 13.4402 - val_mae: 2.6388\n",
            "Epoch 49/200\n",
            "404/404 [==============================] - 1s 2ms/step - loss: 4.6893 - mae: 1.4951\n",
            "Epoch 50/200\n",
            "404/404 [==============================] - 1s 2ms/step - loss: 3.6774 - mae: 1.3767\n",
            "Epoch 51/200\n",
            "404/404 [==============================] - 1s 2ms/step - loss: 3.6503 - mae: 1.3240 - val_loss: 12.4023 - val_mae: 2.5534\n",
            "Epoch 52/200\n",
            "404/404 [==============================] - 1s 2ms/step - loss: 2.9451 - mae: 1.3261\n",
            "Epoch 53/200\n",
            "404/404 [==============================] - 1s 2ms/step - loss: 2.8811 - mae: 1.2620\n",
            "Epoch 54/200\n",
            "404/404 [==============================] - 1s 2ms/step - loss: 3.1171 - mae: 1.3266 - val_loss: 14.1341 - val_mae: 2.6103\n",
            "Epoch 55/200\n",
            "404/404 [==============================] - 1s 2ms/step - loss: 3.5969 - mae: 1.4358\n",
            "Epoch 56/200\n",
            "404/404 [==============================] - 1s 2ms/step - loss: 3.5802 - mae: 1.4194\n",
            "Epoch 57/200\n",
            "404/404 [==============================] - 1s 2ms/step - loss: 3.2658 - mae: 1.2953 - val_loss: 12.3314 - val_mae: 2.3517\n",
            "Epoch 58/200\n",
            "404/404 [==============================] - 1s 2ms/step - loss: 2.9392 - mae: 1.2644\n",
            "Epoch 59/200\n",
            "404/404 [==============================] - 1s 2ms/step - loss: 3.1432 - mae: 1.3139\n",
            "Epoch 60/200\n",
            "404/404 [==============================] - 1s 2ms/step - loss: 3.1108 - mae: 1.3348 - val_loss: 13.5673 - val_mae: 2.3750\n",
            "Epoch 61/200\n",
            "404/404 [==============================] - 1s 2ms/step - loss: 4.0263 - mae: 1.4764\n",
            "Epoch 62/200\n",
            "404/404 [==============================] - 1s 2ms/step - loss: 2.9196 - mae: 1.2907\n",
            "Epoch 63/200\n",
            "404/404 [==============================] - 1s 2ms/step - loss: 2.5484 - mae: 1.2072 - val_loss: 11.9546 - val_mae: 2.3429\n",
            "Epoch 64/200\n",
            "404/404 [==============================] - 1s 1ms/step - loss: 3.7619 - mae: 1.3595\n",
            "Epoch 65/200\n",
            "404/404 [==============================] - 1s 2ms/step - loss: 3.3765 - mae: 1.2968\n",
            "Epoch 66/200\n",
            "404/404 [==============================] - 1s 2ms/step - loss: 2.7723 - mae: 1.2143 - val_loss: 14.5017 - val_mae: 2.7919\n",
            "Epoch 67/200\n",
            "404/404 [==============================] - 1s 2ms/step - loss: 2.6721 - mae: 1.2181\n",
            "Epoch 68/200\n",
            "404/404 [==============================] - 1s 2ms/step - loss: 2.4912 - mae: 1.2153\n",
            "Epoch 69/200\n",
            "404/404 [==============================] - 1s 2ms/step - loss: 3.0059 - mae: 1.2350 - val_loss: 11.9892 - val_mae: 2.2685\n",
            "Epoch 70/200\n",
            "404/404 [==============================] - 1s 2ms/step - loss: 2.3179 - mae: 1.1888\n",
            "Epoch 71/200\n",
            "404/404 [==============================] - 1s 2ms/step - loss: 3.1866 - mae: 1.3035\n",
            "Epoch 72/200\n",
            "404/404 [==============================] - 1s 2ms/step - loss: 3.0418 - mae: 1.2589 - val_loss: 12.5190 - val_mae: 2.3254\n",
            "Epoch 73/200\n",
            "404/404 [==============================] - 1s 2ms/step - loss: 2.7871 - mae: 1.2060\n",
            "Epoch 74/200\n",
            "404/404 [==============================] - 1s 2ms/step - loss: 2.3788 - mae: 1.1458\n",
            "Epoch 75/200\n",
            "404/404 [==============================] - 1s 2ms/step - loss: 2.6217 - mae: 1.2114 - val_loss: 14.7485 - val_mae: 2.5060\n",
            "Epoch 76/200\n",
            "404/404 [==============================] - 1s 2ms/step - loss: 2.5021 - mae: 1.2003\n",
            "Epoch 77/200\n",
            "404/404 [==============================] - 1s 2ms/step - loss: 2.8625 - mae: 1.2556\n",
            "Epoch 78/200\n",
            "404/404 [==============================] - 1s 2ms/step - loss: 2.2843 - mae: 1.1034 - val_loss: 12.0919 - val_mae: 2.3499\n",
            "Epoch 79/200\n",
            "404/404 [==============================] - 1s 2ms/step - loss: 2.7334 - mae: 1.2153\n",
            "Epoch 80/200\n",
            "404/404 [==============================] - 1s 2ms/step - loss: 2.8940 - mae: 1.2668\n",
            "Epoch 81/200\n",
            "404/404 [==============================] - 1s 2ms/step - loss: 2.2516 - mae: 1.1372 - val_loss: 12.5231 - val_mae: 2.4019\n",
            "Epoch 82/200\n",
            "404/404 [==============================] - 1s 2ms/step - loss: 2.4305 - mae: 1.1397\n",
            "Epoch 83/200\n",
            "404/404 [==============================] - 1s 2ms/step - loss: 2.8615 - mae: 1.2437\n",
            "Epoch 84/200\n",
            "404/404 [==============================] - 1s 2ms/step - loss: 2.6226 - mae: 1.1725 - val_loss: 11.9949 - val_mae: 2.4742\n",
            "Epoch 85/200\n",
            "404/404 [==============================] - 1s 2ms/step - loss: 2.5082 - mae: 1.1248\n",
            "Epoch 86/200\n",
            "404/404 [==============================] - 1s 2ms/step - loss: 2.2955 - mae: 1.1493\n",
            "Epoch 87/200\n",
            "404/404 [==============================] - 1s 2ms/step - loss: 1.7557 - mae: 0.9961 - val_loss: 14.5157 - val_mae: 2.6317\n",
            "Epoch 88/200\n",
            "404/404 [==============================] - 1s 2ms/step - loss: 2.5626 - mae: 1.2072\n",
            "Epoch 89/200\n",
            "404/404 [==============================] - 1s 2ms/step - loss: 2.3508 - mae: 1.1252\n",
            "Epoch 90/200\n",
            "404/404 [==============================] - 1s 2ms/step - loss: 2.7910 - mae: 1.1848 - val_loss: 13.1350 - val_mae: 2.5508\n",
            "Epoch 91/200\n",
            "404/404 [==============================] - 1s 2ms/step - loss: 2.2090 - mae: 1.1008\n",
            "Epoch 92/200\n",
            "404/404 [==============================] - 1s 2ms/step - loss: 2.3990 - mae: 1.1302\n",
            "Epoch 93/200\n",
            "404/404 [==============================] - 1s 2ms/step - loss: 1.8717 - mae: 1.0031 - val_loss: 10.8306 - val_mae: 2.1993\n",
            "Epoch 94/200\n",
            "404/404 [==============================] - 1s 2ms/step - loss: 3.0606 - mae: 1.2048\n",
            "Epoch 95/200\n",
            "404/404 [==============================] - 1s 2ms/step - loss: 2.1498 - mae: 1.0533\n",
            "Epoch 96/200\n",
            "404/404 [==============================] - 1s 2ms/step - loss: 1.8750 - mae: 1.0119 - val_loss: 13.4435 - val_mae: 2.6815\n",
            "Epoch 97/200\n",
            "404/404 [==============================] - 1s 2ms/step - loss: 2.6460 - mae: 1.2170\n",
            "Epoch 98/200\n",
            "404/404 [==============================] - 1s 2ms/step - loss: 2.1705 - mae: 1.0920\n",
            "Epoch 99/200\n",
            "404/404 [==============================] - 1s 2ms/step - loss: 2.1709 - mae: 1.1018 - val_loss: 12.3523 - val_mae: 2.4868\n",
            "Epoch 100/200\n",
            "404/404 [==============================] - 1s 1ms/step - loss: 2.5886 - mae: 1.1254\n",
            "Epoch 101/200\n",
            "404/404 [==============================] - 1s 2ms/step - loss: 2.2817 - mae: 1.1237\n",
            "Epoch 102/200\n",
            "404/404 [==============================] - 1s 2ms/step - loss: 2.4190 - mae: 1.0603 - val_loss: 10.2996 - val_mae: 2.1887\n",
            "Epoch 103/200\n",
            "404/404 [==============================] - 1s 2ms/step - loss: 1.9202 - mae: 0.9917\n",
            "Epoch 104/200\n",
            "404/404 [==============================] - 1s 2ms/step - loss: 2.0293 - mae: 1.0073\n",
            "Epoch 105/200\n",
            "404/404 [==============================] - 1s 2ms/step - loss: 1.9754 - mae: 1.0606 - val_loss: 10.5723 - val_mae: 2.1879\n",
            "Epoch 106/200\n",
            "404/404 [==============================] - 1s 2ms/step - loss: 2.0740 - mae: 1.0455\n",
            "Epoch 107/200\n",
            "404/404 [==============================] - 1s 2ms/step - loss: 2.1037 - mae: 1.0533\n",
            "Epoch 108/200\n",
            "404/404 [==============================] - 1s 2ms/step - loss: 2.0082 - mae: 1.0770 - val_loss: 12.0523 - val_mae: 2.3134\n",
            "Epoch 109/200\n",
            "404/404 [==============================] - 1s 2ms/step - loss: 2.5518 - mae: 1.1755\n",
            "Epoch 110/200\n",
            "404/404 [==============================] - 1s 2ms/step - loss: 2.5265 - mae: 1.1418\n",
            "Epoch 111/200\n",
            "404/404 [==============================] - 1s 2ms/step - loss: 2.1201 - mae: 1.0395 - val_loss: 11.6750 - val_mae: 2.2224\n",
            "Epoch 112/200\n",
            "404/404 [==============================] - 1s 2ms/step - loss: 1.8581 - mae: 1.0134\n",
            "Epoch 113/200\n",
            "404/404 [==============================] - 1s 1ms/step - loss: 1.7088 - mae: 0.9614\n",
            "Epoch 114/200\n",
            "404/404 [==============================] - 1s 2ms/step - loss: 1.8186 - mae: 1.0255 - val_loss: 12.3502 - val_mae: 2.4971\n",
            "Epoch 115/200\n",
            "404/404 [==============================] - 1s 2ms/step - loss: 1.9575 - mae: 1.0159\n",
            "Epoch 116/200\n",
            "404/404 [==============================] - 1s 2ms/step - loss: 1.9863 - mae: 1.0186\n",
            "Epoch 117/200\n",
            "404/404 [==============================] - 1s 2ms/step - loss: 2.6622 - mae: 1.1903 - val_loss: 16.5945 - val_mae: 2.9118\n",
            "Epoch 118/200\n",
            "404/404 [==============================] - 1s 2ms/step - loss: 1.9527 - mae: 1.0062\n",
            "Epoch 119/200\n",
            "404/404 [==============================] - 1s 2ms/step - loss: 1.8900 - mae: 0.9804\n",
            "Epoch 120/200\n",
            "404/404 [==============================] - 1s 2ms/step - loss: 2.1463 - mae: 1.0430 - val_loss: 12.5250 - val_mae: 2.4199\n",
            "Epoch 121/200\n",
            "404/404 [==============================] - 1s 2ms/step - loss: 1.5257 - mae: 0.8746\n",
            "Epoch 122/200\n",
            "404/404 [==============================] - 1s 2ms/step - loss: 1.8453 - mae: 0.9693\n",
            "Epoch 123/200\n",
            "404/404 [==============================] - 1s 2ms/step - loss: 1.7863 - mae: 0.9988 - val_loss: 10.8083 - val_mae: 2.2864\n",
            "Epoch 124/200\n",
            "404/404 [==============================] - 1s 2ms/step - loss: 1.7002 - mae: 0.9497\n",
            "Epoch 125/200\n",
            "404/404 [==============================] - 1s 2ms/step - loss: 1.6129 - mae: 0.9487\n",
            "Epoch 126/200\n",
            "404/404 [==============================] - 1s 2ms/step - loss: 1.9951 - mae: 1.0248 - val_loss: 15.7720 - val_mae: 2.9202\n",
            "Epoch 127/200\n",
            "404/404 [==============================] - 1s 2ms/step - loss: 1.4881 - mae: 0.9188\n",
            "Epoch 128/200\n",
            "404/404 [==============================] - 1s 2ms/step - loss: 1.8005 - mae: 0.9635\n",
            "Epoch 129/200\n",
            "404/404 [==============================] - 1s 2ms/step - loss: 2.2104 - mae: 1.0759 - val_loss: 11.4071 - val_mae: 2.4127\n",
            "Epoch 130/200\n",
            "404/404 [==============================] - 1s 2ms/step - loss: 2.4357 - mae: 1.0985\n",
            "Epoch 131/200\n",
            "404/404 [==============================] - 1s 2ms/step - loss: 2.0218 - mae: 1.0466\n",
            "Epoch 132/200\n",
            "404/404 [==============================] - 1s 2ms/step - loss: 1.3016 - mae: 0.8513 - val_loss: 11.6373 - val_mae: 2.3325\n",
            "Epoch 133/200\n",
            "404/404 [==============================] - 1s 2ms/step - loss: 1.5027 - mae: 0.8629\n",
            "Epoch 134/200\n",
            "404/404 [==============================] - 1s 2ms/step - loss: 1.5740 - mae: 0.9460\n",
            "Epoch 135/200\n",
            "404/404 [==============================] - 1s 2ms/step - loss: 1.6977 - mae: 0.9308 - val_loss: 13.6918 - val_mae: 2.3967\n",
            "Epoch 136/200\n",
            "404/404 [==============================] - 1s 2ms/step - loss: 1.5547 - mae: 0.9146\n",
            "Epoch 137/200\n",
            "404/404 [==============================] - 1s 1ms/step - loss: 1.9883 - mae: 0.9856\n",
            "Epoch 138/200\n",
            "404/404 [==============================] - 1s 2ms/step - loss: 1.4867 - mae: 0.8561 - val_loss: 11.5117 - val_mae: 2.3408\n",
            "Epoch 139/200\n",
            "404/404 [==============================] - 1s 2ms/step - loss: 1.5523 - mae: 0.8934\n",
            "Epoch 140/200\n",
            "404/404 [==============================] - 1s 1ms/step - loss: 1.9874 - mae: 1.0305\n",
            "Epoch 141/200\n",
            "404/404 [==============================] - 1s 2ms/step - loss: 1.4823 - mae: 0.8868 - val_loss: 12.2908 - val_mae: 2.4705\n",
            "Epoch 142/200\n",
            "404/404 [==============================] - 1s 2ms/step - loss: 1.6186 - mae: 0.9343\n",
            "Epoch 143/200\n",
            "404/404 [==============================] - 1s 2ms/step - loss: 1.9313 - mae: 1.0260\n",
            "Epoch 144/200\n",
            "404/404 [==============================] - 1s 2ms/step - loss: 1.2551 - mae: 0.8488 - val_loss: 10.9423 - val_mae: 2.3334\n",
            "Epoch 145/200\n",
            "404/404 [==============================] - 1s 2ms/step - loss: 1.7312 - mae: 0.9120\n",
            "Epoch 146/200\n",
            "404/404 [==============================] - 1s 1ms/step - loss: 1.6596 - mae: 0.9422\n",
            "Epoch 147/200\n",
            "404/404 [==============================] - 1s 2ms/step - loss: 1.4247 - mae: 0.8559 - val_loss: 11.7452 - val_mae: 2.3247\n",
            "Epoch 148/200\n",
            "404/404 [==============================] - 1s 1ms/step - loss: 1.3936 - mae: 0.8474\n",
            "Epoch 149/200\n",
            "404/404 [==============================] - 1s 2ms/step - loss: 1.4744 - mae: 0.8925\n",
            "Epoch 150/200\n",
            "404/404 [==============================] - 1s 2ms/step - loss: 1.7854 - mae: 0.9959 - val_loss: 12.8962 - val_mae: 2.4522\n",
            "Epoch 151/200\n",
            "404/404 [==============================] - 1s 2ms/step - loss: 1.5563 - mae: 0.9025\n",
            "Epoch 152/200\n",
            "404/404 [==============================] - 1s 2ms/step - loss: 1.1978 - mae: 0.8354\n",
            "Epoch 153/200\n",
            "404/404 [==============================] - 1s 2ms/step - loss: 1.9025 - mae: 0.9980 - val_loss: 10.4105 - val_mae: 2.1995\n",
            "Epoch 154/200\n",
            "404/404 [==============================] - 1s 2ms/step - loss: 1.3492 - mae: 0.8628\n",
            "Epoch 155/200\n",
            "404/404 [==============================] - 1s 2ms/step - loss: 1.6255 - mae: 0.9319\n",
            "Epoch 156/200\n",
            "404/404 [==============================] - 1s 2ms/step - loss: 1.9177 - mae: 0.9740 - val_loss: 12.1246 - val_mae: 2.3853\n",
            "Epoch 157/200\n",
            "404/404 [==============================] - 1s 2ms/step - loss: 1.7567 - mae: 0.9541\n",
            "Epoch 158/200\n",
            "404/404 [==============================] - 1s 1ms/step - loss: 1.3160 - mae: 0.8608\n",
            "Epoch 159/200\n",
            "404/404 [==============================] - 1s 2ms/step - loss: 1.3578 - mae: 0.8397 - val_loss: 12.6996 - val_mae: 2.6167\n",
            "Epoch 160/200\n",
            "404/404 [==============================] - 1s 2ms/step - loss: 1.2346 - mae: 0.8266\n",
            "Epoch 161/200\n",
            "404/404 [==============================] - 1s 2ms/step - loss: 1.2645 - mae: 0.8221\n",
            "Epoch 162/200\n",
            "404/404 [==============================] - 1s 2ms/step - loss: 1.2906 - mae: 0.8501 - val_loss: 12.3095 - val_mae: 2.5008\n",
            "Epoch 163/200\n",
            "404/404 [==============================] - 1s 2ms/step - loss: 1.3994 - mae: 0.8791\n",
            "Epoch 164/200\n",
            "404/404 [==============================] - 1s 2ms/step - loss: 1.5843 - mae: 0.9110\n",
            "Epoch 165/200\n",
            "404/404 [==============================] - 1s 2ms/step - loss: 1.5080 - mae: 0.8985 - val_loss: 15.6067 - val_mae: 2.5479\n",
            "Epoch 166/200\n",
            "404/404 [==============================] - 1s 2ms/step - loss: 1.5435 - mae: 0.8891\n",
            "Epoch 167/200\n",
            "404/404 [==============================] - 1s 2ms/step - loss: 1.2974 - mae: 0.8269\n",
            "Epoch 168/200\n",
            "404/404 [==============================] - 2s 4ms/step - loss: 1.3800 - mae: 0.8193 - val_loss: 12.1525 - val_mae: 2.4886\n",
            "Epoch 169/200\n",
            "404/404 [==============================] - 2s 5ms/step - loss: 1.5061 - mae: 0.8525\n",
            "Epoch 170/200\n",
            "404/404 [==============================] - 2s 5ms/step - loss: 1.2339 - mae: 0.8047\n",
            "Epoch 171/200\n",
            "404/404 [==============================] - 2s 5ms/step - loss: 1.2718 - mae: 0.8196 - val_loss: 10.7177 - val_mae: 2.2895\n",
            "Epoch 172/200\n",
            "404/404 [==============================] - 2s 5ms/step - loss: 1.7521 - mae: 0.9006\n",
            "Epoch 173/200\n",
            "404/404 [==============================] - 2s 5ms/step - loss: 1.4107 - mae: 0.8403\n",
            "Epoch 174/200\n",
            "404/404 [==============================] - 2s 5ms/step - loss: 1.2792 - mae: 0.8536 - val_loss: 11.7566 - val_mae: 2.5032\n",
            "Epoch 175/200\n",
            "404/404 [==============================] - 2s 5ms/step - loss: 1.4696 - mae: 0.8643\n",
            "Epoch 176/200\n",
            "404/404 [==============================] - 2s 5ms/step - loss: 1.3514 - mae: 0.8262\n",
            "Epoch 177/200\n",
            "404/404 [==============================] - 2s 5ms/step - loss: 1.4783 - mae: 0.9048 - val_loss: 11.7385 - val_mae: 2.3947\n",
            "Epoch 178/200\n",
            "404/404 [==============================] - 2s 5ms/step - loss: 1.1043 - mae: 0.7533\n",
            "Epoch 179/200\n",
            "404/404 [==============================] - 1s 2ms/step - loss: 1.1187 - mae: 0.7555\n",
            "Epoch 180/200\n",
            "404/404 [==============================] - 1s 2ms/step - loss: 1.4932 - mae: 0.8615 - val_loss: 11.6697 - val_mae: 2.4607\n",
            "Epoch 181/200\n",
            "404/404 [==============================] - 1s 1ms/step - loss: 1.3351 - mae: 0.8722\n",
            "Epoch 182/200\n",
            "404/404 [==============================] - 1s 1ms/step - loss: 1.1496 - mae: 0.7960\n",
            "Epoch 183/200\n",
            "404/404 [==============================] - 1s 1ms/step - loss: 1.2637 - mae: 0.8046 - val_loss: 14.6974 - val_mae: 2.6169\n",
            "Epoch 184/200\n",
            "404/404 [==============================] - 1s 1ms/step - loss: 1.7684 - mae: 0.9720\n",
            "Epoch 185/200\n",
            "404/404 [==============================] - 1s 1ms/step - loss: 1.3940 - mae: 0.8329\n",
            "Epoch 186/200\n",
            "404/404 [==============================] - 1s 2ms/step - loss: 1.1307 - mae: 0.7473 - val_loss: 11.1415 - val_mae: 2.3008\n",
            "Epoch 187/200\n",
            "404/404 [==============================] - 1s 1ms/step - loss: 1.2316 - mae: 0.8076\n",
            "Epoch 188/200\n",
            "404/404 [==============================] - 1s 1ms/step - loss: 1.2677 - mae: 0.7727\n",
            "Epoch 189/200\n",
            "404/404 [==============================] - 1s 2ms/step - loss: 1.2278 - mae: 0.7922 - val_loss: 11.0487 - val_mae: 2.3722\n",
            "Epoch 190/200\n",
            "404/404 [==============================] - 1s 2ms/step - loss: 1.1500 - mae: 0.7727\n",
            "Epoch 191/200\n",
            "404/404 [==============================] - 1s 2ms/step - loss: 0.9180 - mae: 0.6940\n",
            "Epoch 192/200\n",
            "404/404 [==============================] - 1s 2ms/step - loss: 1.0634 - mae: 0.7832 - val_loss: 12.7675 - val_mae: 2.4728\n",
            "Epoch 193/200\n",
            "404/404 [==============================] - 1s 1ms/step - loss: 1.4989 - mae: 0.8770\n",
            "Epoch 194/200\n",
            "404/404 [==============================] - 1s 1ms/step - loss: 1.1414 - mae: 0.7900\n",
            "Epoch 195/200\n",
            "404/404 [==============================] - 1s 2ms/step - loss: 1.5037 - mae: 0.9022 - val_loss: 12.1903 - val_mae: 2.5348\n",
            "Epoch 196/200\n",
            "404/404 [==============================] - 1s 1ms/step - loss: 1.2295 - mae: 0.7976\n",
            "Epoch 197/200\n",
            "404/404 [==============================] - 1s 2ms/step - loss: 1.1171 - mae: 0.7667\n",
            "Epoch 198/200\n",
            "404/404 [==============================] - 1s 2ms/step - loss: 1.4596 - mae: 0.8590 - val_loss: 12.6083 - val_mae: 2.4653\n",
            "Epoch 199/200\n",
            "404/404 [==============================] - 1s 1ms/step - loss: 1.1496 - mae: 0.7634\n",
            "Epoch 200/200\n",
            "404/404 [==============================] - 1s 1ms/step - loss: 1.2686 - mae: 0.7815\n",
            "CPU times: total: 3min 43s\n",
            "Wall time: 2min 23s\n"
          ]
        },
        {
          "data": {
            "text/plain": [
              "<keras.callbacks.History at 0x1f06bcaf520>"
            ]
          },
          "execution_count": 12,
          "metadata": {},
          "output_type": "execute_result"
        }
      ],
      "source": [
        "%%time\n",
        "num_epochs = 200\n",
        "\n",
        "model.fit(X_train, y_train,\n",
        "          epochs=num_epochs,\n",
        "          batch_size=1,\n",
        "          validation_data=(X_test, y_test),\n",
        "          validation_batch_size=X_test.shape[0],\n",
        "          validation_freq=3)"
      ]
    },
    {
      "cell_type": "code",
      "execution_count": 13,
      "metadata": {},
      "outputs": [
        {
          "data": {
            "text/plain": [
              "array([[ 1.55369355, -0.48361547,  1.0283258 , -0.25683275,  1.03838067,\n",
              "         0.23545815,  1.11048828, -0.93976936,  1.67588577,  1.5652875 ,\n",
              "         0.78447637, -3.48459553,  2.25092074]])"
            ]
          },
          "execution_count": 13,
          "metadata": {},
          "output_type": "execute_result"
        }
      ],
      "source": [
        "X_test[:1]"
      ]
    },
    {
      "cell_type": "code",
      "execution_count": 14,
      "metadata": {},
      "outputs": [
        {
          "name": "stdout",
          "output_type": "stream",
          "text": [
            "4/4 - 0s - loss: 11.3455 - mae: 2.3379 - 130ms/epoch - 33ms/step\n",
            "\n",
            "Точность на тестовых данных: 2.337899684906006\n"
          ]
        }
      ],
      "source": [
        "test_loss, test_acc = model.evaluate(X_test, y_test, verbose=2)\n",
        "print(\"\\nТочность на тестовых данных:\", test_acc)"
      ]
    },
    {
      "cell_type": "code",
      "execution_count": 19,
      "metadata": {
        "colab": {
          "base_uri": "https://localhost:8080/"
        },
        "id": "eIjSjGqaST76",
        "outputId": "c1ee22de-37f7-49cd-b100-c0c65b658970"
      },
      "outputs": [
        {
          "name": "stdout",
          "output_type": "stream",
          "text": [
            "Epoch 1/10\n",
            "  1/404 [..............................] - ETA: 1s - loss: 0.0110 - mae: 0.1050"
          ]
        },
        {
          "name": "stdout",
          "output_type": "stream",
          "text": [
            "404/404 [==============================] - 1s 1ms/step - loss: 4.9710 - mae: 1.6048 - val_loss: 15.2396 - val_mae: 2.6089\n",
            "Epoch 2/10\n",
            "404/404 [==============================] - 1s 1ms/step - loss: 5.0176 - mae: 1.6145\n",
            "Epoch 3/10\n",
            "404/404 [==============================] - 0s 1ms/step - loss: 4.9220 - mae: 1.6063\n",
            "Epoch 4/10\n",
            "404/404 [==============================] - 0s 1ms/step - loss: 4.9822 - mae: 1.6141\n",
            "Epoch 5/10\n",
            "404/404 [==============================] - 1s 1ms/step - loss: 4.9541 - mae: 1.6030 - val_loss: 15.1405 - val_mae: 2.5967\n",
            "Epoch 6/10\n",
            "404/404 [==============================] - 1s 1ms/step - loss: 4.8023 - mae: 1.5789\n",
            "Epoch 7/10\n",
            "404/404 [==============================] - 0s 1ms/step - loss: 4.4968 - mae: 1.5338\n",
            "Epoch 8/10\n",
            "404/404 [==============================] - 0s 1ms/step - loss: 4.7522 - mae: 1.5871\n",
            "Epoch 9/10\n",
            "404/404 [==============================] - 1s 1ms/step - loss: 4.5943 - mae: 1.5386\n",
            "Epoch 10/10\n",
            "404/404 [==============================] - 1s 1ms/step - loss: 4.5983 - mae: 1.5373 - val_loss: 15.5350 - val_mae: 2.6865\n",
            "CPU times: total: 6.97 s\n",
            "Wall time: 5.24 s\n"
          ]
        },
        {
          "data": {
            "text/plain": [
              "<keras.callbacks.History at 0x22001cc0d60>"
            ]
          },
          "execution_count": 19,
          "metadata": {},
          "output_type": "execute_result"
        }
      ],
      "source": [
        "%%time\n",
        "num_epochs = 10\n",
        "\n",
        "model.fit(X_train, y_train,\n",
        "          epochs=num_epochs,\n",
        "          batch_size=1,\n",
        "          validation_data=(X_test, y_test),\n",
        "          validation_batch_size=X_test.shape[0],\n",
        "          validation_freq=[1, 5, 10])"
      ]
    },
    {
      "cell_type": "markdown",
      "metadata": {
        "id": "8EEzRgS6bDR-"
      },
      "source": [
        "### Обучение нейросети на генераторах"
      ]
    },
    {
      "cell_type": "markdown",
      "metadata": {
        "id": "oE4SheQsddUk"
      },
      "source": [
        "Про Sequence больше [тут](https://www.tensorflow.org/api_docs/python/tf/keras/utils/Sequence)"
      ]
    },
    {
      "cell_type": "code",
      "execution_count": null,
      "metadata": {
        "id": "Bf-nfJSZbS2W"
      },
      "outputs": [],
      "source": [
        "import numpy as np\n",
        "from tensorflow.keras.utils import Sequence\n",
        "\n",
        "\n",
        "class DataGenerator(Sequence):\n",
        "    def __init__(self, data, labels, batch_size=32):\n",
        "        self.batch_size = batch_size\n",
        "        self.data = data\n",
        "        self.labels = labels\n",
        "\n",
        "    def __len__(self):\n",
        "        return int(np.round(len(self.data) / self.batch_size))\n",
        "\n",
        "    def __getitem__(self, index):\n",
        "        X = self.data[index * self.batch_size : (index+1) * self.batch_size]\n",
        "        y = self.labels[index * self.batch_size : (index+1) * self.batch_size]\n",
        "\n",
        "        return X, y"
      ]
    },
    {
      "cell_type": "code",
      "execution_count": null,
      "metadata": {
        "id": "YJ7LVBucds4z"
      },
      "outputs": [],
      "source": [
        "train_datagen = DataGenerator(X_train, y_train)\n",
        "test_datagen = DataGenerator(X_test, y_test)"
      ]
    },
    {
      "cell_type": "code",
      "execution_count": null,
      "metadata": {
        "colab": {
          "base_uri": "https://localhost:8080/"
        },
        "id": "8JEIEtjdED9B",
        "outputId": "c16d0924-f430-4bb2-d138-654a9283e9c6"
      },
      "outputs": [
        {
          "data": {
            "text/plain": [
              "13"
            ]
          },
          "execution_count": 54,
          "metadata": {},
          "output_type": "execute_result"
        }
      ],
      "source": [
        "len(train_datagen)"
      ]
    },
    {
      "cell_type": "code",
      "execution_count": null,
      "metadata": {
        "colab": {
          "base_uri": "https://localhost:8080/"
        },
        "id": "-fvtDpq4W-cO",
        "outputId": "a50e018a-2021-46a5-91a2-0b781327cbc8"
      },
      "outputs": [
        {
          "data": {
            "text/plain": [
              "3"
            ]
          },
          "execution_count": 55,
          "metadata": {},
          "output_type": "execute_result"
        }
      ],
      "source": [
        "len(test_datagen)"
      ]
    },
    {
      "cell_type": "code",
      "execution_count": null,
      "metadata": {
        "colab": {
          "base_uri": "https://localhost:8080/"
        },
        "id": "TlBqpp-jd2e2",
        "outputId": "7f11a004-3990-4c3a-925a-2f5569f9d9ca"
      },
      "outputs": [
        {
          "name": "stdout",
          "output_type": "stream",
          "text": [
            "(32, 13)\n",
            "(32,)\n"
          ]
        }
      ],
      "source": [
        "for X, y in train_datagen:\n",
        "    print(X.shape)\n",
        "    print(y.shape)\n",
        "    break"
      ]
    },
    {
      "cell_type": "code",
      "execution_count": null,
      "metadata": {
        "colab": {
          "base_uri": "https://localhost:8080/"
        },
        "id": "oOpzLoZUenDC",
        "outputId": "caf7e72a-9c98-47eb-a1a5-934521e58007"
      },
      "outputs": [
        {
          "data": {
            "text/plain": [
              "12.625"
            ]
          },
          "execution_count": 57,
          "metadata": {},
          "output_type": "execute_result"
        }
      ],
      "source": [
        "404 / 32"
      ]
    },
    {
      "cell_type": "code",
      "execution_count": null,
      "metadata": {
        "colab": {
          "base_uri": "https://localhost:8080/"
        },
        "id": "foAOq_mUds91",
        "outputId": "4fc33e87-def9-456f-b665-ed28c40d5dcc"
      },
      "outputs": [
        {
          "name": "stdout",
          "output_type": "stream",
          "text": [
            "Epoch 1/10\n",
            "13/13 [==============================] - 0s 12ms/step - loss: 4.3028 - mae: 1.5017 - val_loss: 10.6313 - val_mae: 2.3160\n",
            "Epoch 2/10\n",
            "13/13 [==============================] - 0s 6ms/step - loss: 4.2798 - mae: 1.5001 - val_loss: 10.5893 - val_mae: 2.3111\n",
            "Epoch 3/10\n",
            "13/13 [==============================] - 0s 6ms/step - loss: 4.2795 - mae: 1.5009 - val_loss: 10.5323 - val_mae: 2.3027\n",
            "Epoch 4/10\n",
            "13/13 [==============================] - 0s 6ms/step - loss: 4.2758 - mae: 1.5027 - val_loss: 10.5573 - val_mae: 2.3057\n",
            "Epoch 5/10\n",
            "13/13 [==============================] - 0s 6ms/step - loss: 4.2753 - mae: 1.5022 - val_loss: 10.6443 - val_mae: 2.3170\n",
            "Epoch 6/10\n",
            "13/13 [==============================] - 0s 6ms/step - loss: 4.2678 - mae: 1.4992 - val_loss: 10.6279 - val_mae: 2.3156\n",
            "Epoch 7/10\n",
            "13/13 [==============================] - 0s 6ms/step - loss: 4.2676 - mae: 1.4984 - val_loss: 10.5898 - val_mae: 2.3081\n",
            "Epoch 8/10\n",
            "13/13 [==============================] - 0s 6ms/step - loss: 4.2700 - mae: 1.5015 - val_loss: 10.4984 - val_mae: 2.2943\n",
            "Epoch 9/10\n",
            "13/13 [==============================] - 0s 6ms/step - loss: 4.2610 - mae: 1.4988 - val_loss: 10.5547 - val_mae: 2.3004\n",
            "Epoch 10/10\n",
            "13/13 [==============================] - 0s 6ms/step - loss: 4.2553 - mae: 1.4952 - val_loss: 10.6195 - val_mae: 2.3104\n",
            "CPU times: user 1.21 s, sys: 51.5 ms, total: 1.26 s\n",
            "Wall time: 1.41 s\n"
          ]
        }
      ],
      "source": [
        "%%time\n",
        "num_epochs = 10\n",
        "\n",
        "model.fit(train_datagen,\n",
        "          epochs=num_epochs,\n",
        "          validation_data=test_datagen)"
      ]
    },
    {
      "cell_type": "markdown",
      "metadata": {
        "id": "52wMWVdWfKy-"
      },
      "source": [
        "### History\n",
        "\n",
        "Больше [тут](https://www.tensorflow.org/api_docs/python/tf/keras/callbacks/History)"
      ]
    },
    {
      "cell_type": "code",
      "execution_count": null,
      "metadata": {
        "colab": {
          "base_uri": "https://localhost:8080/"
        },
        "id": "q5KOlVn4fMJG",
        "outputId": "6a2d3d9e-ee9d-4b85-fb91-9ec2e0eba9fd"
      },
      "outputs": [
        {
          "name": "stdout",
          "output_type": "stream",
          "text": [
            "Epoch 1/10\n",
            "13/13 [==============================] - 1s 29ms/step - loss: 567.5922 - mae: 21.9870 - val_loss: 560.5504 - val_mae: 21.9396\n",
            "Epoch 2/10\n",
            "13/13 [==============================] - 0s 5ms/step - loss: 547.6655 - mae: 21.5061 - val_loss: 539.8265 - val_mae: 21.4437\n",
            "Epoch 3/10\n",
            "13/13 [==============================] - 0s 6ms/step - loss: 525.2613 - mae: 20.9650 - val_loss: 516.1148 - val_mae: 20.8650\n",
            "Epoch 4/10\n",
            "13/13 [==============================] - 0s 6ms/step - loss: 499.9608 - mae: 20.3316 - val_loss: 488.0100 - val_mae: 20.1525\n",
            "Epoch 5/10\n",
            "13/13 [==============================] - 0s 5ms/step - loss: 469.9943 - mae: 19.5615 - val_loss: 454.7536 - val_mae: 19.2809\n",
            "Epoch 6/10\n",
            "13/13 [==============================] - 0s 5ms/step - loss: 435.0141 - mae: 18.6295 - val_loss: 416.6180 - val_mae: 18.2459\n",
            "Epoch 7/10\n",
            "13/13 [==============================] - 0s 6ms/step - loss: 394.4474 - mae: 17.5131 - val_loss: 374.2877 - val_mae: 17.1353\n",
            "Epoch 8/10\n",
            "13/13 [==============================] - 0s 5ms/step - loss: 350.4708 - mae: 16.2909 - val_loss: 326.7027 - val_mae: 15.9008\n",
            "Epoch 9/10\n",
            "13/13 [==============================] - 0s 5ms/step - loss: 301.7717 - mae: 14.8538 - val_loss: 276.3856 - val_mae: 14.5170\n",
            "Epoch 10/10\n",
            "13/13 [==============================] - 0s 5ms/step - loss: 250.4051 - mae: 13.2169 - val_loss: 222.0869 - val_mae: 12.8515\n",
            "CPU times: user 1.63 s, sys: 59.5 ms, total: 1.69 s\n",
            "Wall time: 1.93 s\n"
          ]
        }
      ],
      "source": [
        "%%time\n",
        "num_epochs = 10\n",
        "\n",
        "history = model.fit(train_datagen,\n",
        "                    epochs=num_epochs,\n",
        "                    validation_data=test_datagen)"
      ]
    },
    {
      "cell_type": "code",
      "execution_count": null,
      "metadata": {
        "colab": {
          "base_uri": "https://localhost:8080/"
        },
        "id": "1Ju1W7FVfc2F",
        "outputId": "470748b3-3e96-424d-b22e-317d051a8600"
      },
      "outputs": [
        {
          "data": {
            "text/plain": [
              "<keras.callbacks.History at 0x7f0fd4e5e710>"
            ]
          },
          "execution_count": 69,
          "metadata": {},
          "output_type": "execute_result"
        }
      ],
      "source": [
        "history"
      ]
    },
    {
      "cell_type": "code",
      "execution_count": null,
      "metadata": {
        "colab": {
          "base_uri": "https://localhost:8080/"
        },
        "id": "ODbUIevHfSPg",
        "outputId": "445e1dfe-db5f-431a-ebe0-f52ac21188ca"
      },
      "outputs": [
        {
          "data": {
            "text/plain": [
              "{'loss': [567.5922241210938,\n",
              "  547.6654663085938,\n",
              "  525.2612915039062,\n",
              "  499.96075439453125,\n",
              "  469.99432373046875,\n",
              "  435.0141296386719,\n",
              "  394.4473571777344,\n",
              "  350.4708251953125,\n",
              "  301.77166748046875,\n",
              "  250.4050750732422],\n",
              " 'mae': [21.987014770507812,\n",
              "  21.506057739257812,\n",
              "  20.965007781982422,\n",
              "  20.331594467163086,\n",
              "  19.561542510986328,\n",
              "  18.629533767700195,\n",
              "  17.5130615234375,\n",
              "  16.290931701660156,\n",
              "  14.853785514831543,\n",
              "  13.216885566711426],\n",
              " 'val_loss': [560.5504150390625,\n",
              "  539.8264770507812,\n",
              "  516.1148071289062,\n",
              "  488.010009765625,\n",
              "  454.7536315917969,\n",
              "  416.6179504394531,\n",
              "  374.2876892089844,\n",
              "  326.7027282714844,\n",
              "  276.3855895996094,\n",
              "  222.0868682861328],\n",
              " 'val_mae': [21.939577102661133,\n",
              "  21.443740844726562,\n",
              "  20.864990234375,\n",
              "  20.152509689331055,\n",
              "  19.28089714050293,\n",
              "  18.245872497558594,\n",
              "  17.135271072387695,\n",
              "  15.900837898254395,\n",
              "  14.517024993896484,\n",
              "  12.851500511169434]}"
            ]
          },
          "execution_count": 70,
          "metadata": {},
          "output_type": "execute_result"
        }
      ],
      "source": [
        "history.history"
      ]
    },
    {
      "cell_type": "code",
      "execution_count": null,
      "metadata": {
        "colab": {
          "base_uri": "https://localhost:8080/",
          "height": 265
        },
        "id": "Rx7FzE21fmmV",
        "outputId": "9325f1a3-4803-4458-a275-75aa66a5be67"
      },
      "outputs": [
        {
          "data": {
            "image/png": "[encoded data removed]",
            "text/plain": [
              "<Figure size 432x288 with 1 Axes>"
            ]
          },
          "metadata": {
            "needs_background": "light"
          },
          "output_type": "display_data"
        }
      ],
      "source": [
        "import matplotlib.pyplot as plt\n",
        "\n",
        "plt.plot(history.history['loss'], label='train loss')\n",
        "plt.plot(history.history['val_loss'], label='test loss')\n",
        "plt.legend();"
      ]
    },
    {
      "cell_type": "code",
      "execution_count": null,
      "metadata": {
        "colab": {
          "base_uri": "https://localhost:8080/",
          "height": 265
        },
        "id": "lPUO7Rz1hJdv",
        "outputId": "4dd006b9-b265-4fb5-db19-cf63fcadcf7d"
      },
      "outputs": [
        {
          "data": {
            "image/png": "[encoded data removed]",
            "text/plain": [
              "<Figure size 432x288 with 1 Axes>"
            ]
          },
          "metadata": {
            "needs_background": "light"
          },
          "output_type": "display_data"
        }
      ],
      "source": [
        "plt.plot(history.history['mae'], label='train mae')\n",
        "plt.plot(history.history['val_mae'], label='test mae')\n",
        "plt.legend();"
      ]
    },
    {
      "cell_type": "markdown",
      "metadata": {
        "id": "5SXsFcMUp84_"
      },
      "source": [
        "History - Callback, про них поговорим в следующих занятиях"
      ]
    },
    {
      "cell_type": "markdown",
      "metadata": {
        "id": "cKL1g6ILJiNk"
      },
      "source": [
        "## Summary\n",
        "\n",
        "\n",
        "Вот мы и разобрались в деталях, что можно передавать в метод fit в Keras."
      ]
    },
    {
      "cell_type": "markdown",
      "metadata": {
        "id": "qCRSmnVaxaOK"
      },
      "source": [
        "**batch size**\n",
        "\n",
        "<img src='https://miro.medium.com/max/1400/1*jig1e2BDLN7KPmgOcirflQ.jpeg' width=500>\n",
        "\n",
        "___________________"
      ]
    },
    {
      "cell_type": "markdown",
      "metadata": {
        "id": "_cw1vAq80KCE"
      },
      "source": [
        "**steps_per_epoch**\n",
        "\n",
        "<img src='https://media4.giphy.com/media/FMAUcALBqjajXV0qej/giphy.gif?cid=ecf05e47xa7bnffmbiq333qb36btdm8a262ww7xbgyu6ti2t&rid=giphy.gif&ct=g'>\n",
        "\n",
        "___________________"
      ]
    },
    {
      "cell_type": "markdown",
      "metadata": {
        "id": "Jar6YAu73aPi"
      },
      "source": [
        "**validation_split**\n",
        "\n",
        "<img src='https://media2.giphy.com/media/D2cY6SySBjyBuOzsYq/giphy.gif?cid=ecf05e47triw0wubv3aubehd4enhcus9dlxr996xnss8uffg&rid=giphy.gif&ct=g'>\n",
        "\n",
        "___________________"
      ]
    },
    {
      "cell_type": "markdown",
      "metadata": {
        "id": "Cj4ciEg13c7A"
      },
      "source": [
        "**validation_data** и **validation_batch_size**\n",
        "\n",
        "<img src='https://media0.giphy.com/media/yOhgNO9YsmdsQ/giphy.gif?cid=ecf05e473qx1a618m4t3o922udc1mcfmqtfwdyi4mrqg2gcf&rid=giphy.gif&ct=g'>\n",
        "\n",
        "___________________"
      ]
    },
    {
      "cell_type": "markdown",
      "metadata": {
        "id": "ka4kqQGb4AhI"
      },
      "source": [
        "**validation_freq**\n",
        "\n",
        "<img src='http://memecrunch.com/meme/BH6DD/whats-the-frequency/image.jpg'>\n",
        "\n",
        "___________________"
      ]
    },
    {
      "cell_type": "markdown",
      "metadata": {
        "id": "WihnCiRI4pvd"
      },
      "source": [
        "**Обучение нейросети на генераторах**\n",
        "\n",
        "<img src='https://realprodom.com/images/cat-proger.gif'>\n",
        "\n",
        "___________________"
      ]
    },
    {
      "cell_type": "markdown",
      "metadata": {
        "id": "7cPOnkOJ43YX"
      },
      "source": [
        "**Callback History**\n",
        "\n",
        "<img src='https://drive.google.com/uc?id=1BxyC2qbNFgavqzCDQPj_sSuHYrjQHfNy' width=400>\n"
      ]
    },
    {
      "cell_type": "markdown",
      "metadata": {
        "id": "vlQTlmerl-KD"
      },
      "source": [
        "**Муррр** ♥"
      ]
    }
  ],
  "metadata": {
    "colab": {
      "provenance": [],
      "toc_visible": true
    },
    "kernelspec": {
      "display_name": "Python 3",
      "language": "python",
      "name": "python3"
    },
    "language_info": {
      "codemirror_mode": {
        "name": "ipython",
        "version": 3
      },
      "file_extension": ".py",
      "mimetype": "text/x-python",
      "name": "python",
      "nbconvert_exporter": "python",
      "pygments_lexer": "ipython3",
      "version": "3.10.2"
    }
  },
  "nbformat": 4,
  "nbformat_minor": 0
}
